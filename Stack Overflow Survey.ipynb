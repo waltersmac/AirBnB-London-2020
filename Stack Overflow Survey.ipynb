{
 "cells": [
  {
   "cell_type": "code",
   "execution_count": null,
   "metadata": {},
   "outputs": [],
   "source": [
    "import os\n",
    "import numpy as np\n",
    "import pandas as pd\n",
    "import matplotlib.pyplot as plt\n",
    "#from sklearn.linear_model import LinearRegression\n",
    "#from sklearn.model_selection import train_test_split\n",
    "#from sklearn.metrics import r2_score, mean_squared_error\n",
    "\n",
    "#import seaborn as sns\n",
    "#%matplotlib inline"
   ]
  },
  {
   "cell_type": "code",
   "execution_count": null,
   "metadata": {},
   "outputs": [],
   "source": [
    "import re\n",
    "import pandas as pd\n",
    "\n",
    "#first u have to open  the file and seperate every line like below:\n",
    "df = open('Schema files/READ_ME_-_The_Public_2016_Stack_Overflow_Developer_Survey_Results.txt', \"r\")\n",
    "lines = df.readlines()\n",
    "df.close()\n",
    "\n",
    "# remove /n at the end of each line\n",
    "for index, line in enumerate(lines):\n",
    "      lines[index] = line.strip()\n",
    "        \n",
    "        \n",
    "#creating a dataframe(consider u want to convert your data to 2 columns)\n",
    "\n",
    "df_result = pd.DataFrame(columns=('Questions', 'Answer'))\n",
    "i = 0  \n",
    "first_col = \"\" \n",
    "second_col = \"\"  \n",
    "for line in lines:\n",
    "    #you can use \"if\" and \"replace\" in case you had some conditions to manipulate the txt data\n",
    "    if 'Column Name' in line:\n",
    "        first_col = line.replace('Column Name', \"\")\n",
    "    else:\n",
    "        #you have to kind of define what are the values in columns,for example second column includes:\n",
    "        second_col = re.sub(r' \\(.*', \"\", line)\n",
    "        #this is how you create next line data\n",
    "        df_result.loc[i] = [first_col, second_col]\n",
    "        i =i+1"
   ]
  },
  {
   "cell_type": "code",
   "execution_count": null,
   "metadata": {},
   "outputs": [],
   "source": [
    "df_result.head()"
   ]
  },
  {
   "cell_type": "code",
   "execution_count": null,
   "metadata": {},
   "outputs": [],
   "source": [
    "df_dict = {}\n",
    "\n",
    "for file in os.listdir('Data/'):\n",
    "    df = pd.read_csv('Data/' + file, encoding='latin1', dtype='str')\n",
    "    name = 'df_' + file[:4]\n",
    "    df_dict[name] = df\n",
    "    \n",
    "print(df_dict.keys())"
   ]
  },
  {
   "cell_type": "code",
   "execution_count": null,
   "metadata": {},
   "outputs": [],
   "source": [
    "for k,v in df_dict.items():\n",
    "    print(k, v.shape)"
   ]
  },
  {
   "cell_type": "code",
   "execution_count": null,
   "metadata": {},
   "outputs": [],
   "source": [
    "'df_2012' = for col in df_dict['df_2012'].columns:\n",
    "    print(col)"
   ]
  },
  {
   "cell_type": "code",
   "execution_count": null,
   "metadata": {},
   "outputs": [],
   "source": [
    "df_dict['df_2012'].head()"
   ]
  },
  {
   "cell_type": "code",
   "execution_count": null,
   "metadata": {},
   "outputs": [],
   "source": [
    "df_dict['df_2012'] = df_dict['df_2012'][['What Country or Region do you live in?',\n",
    "'Which US State or Territory do you live in?',\n",
    "'How old are you?',\n",
    "'How many years of IT/Programming experience do you have?',\n",
    "'How would you best describe the industry you currently work in?',\n",
    "'Which best describes the size of your company?',\n",
    "'Which of the following best describes your occupation?']]"
   ]
  },
  {
   "cell_type": "code",
   "execution_count": null,
   "metadata": {},
   "outputs": [],
   "source": [
    "df_dict['df_2012'].head()"
   ]
  },
  {
   "cell_type": "code",
   "execution_count": null,
   "metadata": {},
   "outputs": [],
   "source": [
    "df_dict['df_2013'].head()"
   ]
  },
  {
   "cell_type": "code",
   "execution_count": null,
   "metadata": {},
   "outputs": [],
   "source": [
    "df_dict['df_2015'].head()"
   ]
  },
  {
   "cell_type": "code",
   "execution_count": null,
   "metadata": {},
   "outputs": [],
   "source": [
    "df_dict['df_2016'].head()"
   ]
  },
  {
   "cell_type": "code",
   "execution_count": null,
   "metadata": {},
   "outputs": [],
   "source": [
    "df_dict['df_2017'].head()"
   ]
  },
  {
   "cell_type": "code",
   "execution_count": null,
   "metadata": {},
   "outputs": [],
   "source": [
    "df_dict['df_2018'].head()"
   ]
  },
  {
   "cell_type": "code",
   "execution_count": null,
   "metadata": {},
   "outputs": [],
   "source": [
    "df_dict['df_2019'].head()"
   ]
  },
  {
   "cell_type": "code",
   "execution_count": null,
   "metadata": {},
   "outputs": [],
   "source": []
  }
 ],
 "metadata": {
  "kernelspec": {
   "display_name": "Python 3",
   "language": "python",
   "name": "python3"
  },
  "language_info": {
   "codemirror_mode": {
    "name": "ipython",
    "version": 3
   },
   "file_extension": ".py",
   "mimetype": "text/x-python",
   "name": "python",
   "nbconvert_exporter": "python",
   "pygments_lexer": "ipython3",
   "version": "3.7.7"
  }
 },
 "nbformat": 4,
 "nbformat_minor": 2
}
