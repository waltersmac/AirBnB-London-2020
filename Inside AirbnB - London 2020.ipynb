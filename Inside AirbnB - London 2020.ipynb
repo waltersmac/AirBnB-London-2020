{
 "cells": [
  {
   "cell_type": "markdown",
   "metadata": {},
   "source": [
    "## Importing the libraries"
   ]
  },
  {
   "cell_type": "code",
   "execution_count": 1,
   "metadata": {},
   "outputs": [],
   "source": [
    "import os\n",
    "import numpy as np\n",
    "import pandas as pd\n",
    "import matplotlib.pyplot as plt\n",
    "\n",
    "import seaborn as sns\n",
    "%matplotlib inline\n",
    "\n",
    "\n",
    "from sklearn.model_selection import train_test_split, GridSearchCV\n",
    "from sklearn.feature_selection import SelectFromModel\n",
    "from sklearn.feature_selection import SelectKBest, chi2\n",
    "from sklearn.pipeline import Pipeline\n",
    "from sklearn.linear_model import LinearRegression\n",
    "from sklearn.tree import DecisionTreeRegressor\n",
    "from sklearn.metrics import r2_score, mean_squared_error"
   ]
  },
  {
   "cell_type": "markdown",
   "metadata": {},
   "source": [
    "## Reading in the data files"
   ]
  },
  {
   "cell_type": "code",
   "execution_count": 2,
   "metadata": {},
   "outputs": [],
   "source": [
    "df_listings = pd.read_csv('Data/listings.csv', dtype={'listing_url': 'object',\n",
    "                                                      'price': 'object',\n",
    "                                                      'weekly_price': 'object',\n",
    "                                                      'monthly_price': 'object',\n",
    "                                                      'security_deposit': 'object',\n",
    "                                                      'cleaning_fee': 'object',\n",
    "                                                      'extra_people': 'object',\n",
    "                                                      'license': 'object', \n",
    "                                                      'jurisdiction_names': 'object',})"
   ]
  },
  {
   "cell_type": "markdown",
   "metadata": {},
   "source": [
    "## Data Exploration"
   ]
  },
  {
   "cell_type": "markdown",
   "metadata": {},
   "source": [
    "### Listings Dataframe"
   ]
  },
  {
   "cell_type": "code",
   "execution_count": null,
   "metadata": {},
   "outputs": [],
   "source": [
    "df_listings.shape"
   ]
  },
  {
   "cell_type": "code",
   "execution_count": null,
   "metadata": {},
   "outputs": [],
   "source": [
    "pd.set_option('display.max_columns', None)\n",
    "\n",
    "# show listings data sample\n",
    "df_listings.head(3)"
   ]
  },
  {
   "cell_type": "code",
   "execution_count": null,
   "metadata": {},
   "outputs": [],
   "source": [
    "df_listings.describe()"
   ]
  },
  {
   "cell_type": "code",
   "execution_count": null,
   "metadata": {},
   "outputs": [],
   "source": [
    "set(df_listings.columns[df_listings.isnull().mean()>0.75])"
   ]
  },
  {
   "cell_type": "code",
   "execution_count": null,
   "metadata": {},
   "outputs": [],
   "source": [
    "neighbourhood_vals = df_listings['property_type'].value_counts()\n",
    "\n",
    "# The below should be a bar chart of the proportion of individuals in each professional category if your status_vals\n",
    "# is set up correctly.\n",
    "\n",
    "(neighbourhood_vals[0:5]/df_listings.shape[0]).plot(kind=\"bar\");\n",
    "plt.title(\"Top 5 type of properties, that are most advertised\");"
   ]
  },
  {
   "cell_type": "code",
   "execution_count": null,
   "metadata": {},
   "outputs": [],
   "source": [
    "room_vals = df_listings['room_type'].value_counts()\n",
    "\n",
    "# The below should be a bar chart of the proportion of individuals in each professional category if your status_vals\n",
    "# is set up correctly.\n",
    "\n",
    "(room_vals/df_listings.shape[0]).plot(kind=\"bar\");\n",
    "plt.title(\"The type of rooms, are most advertised\");"
   ]
  },
  {
   "cell_type": "markdown",
   "metadata": {},
   "source": [
    "## The Business Questions"
   ]
  },
  {
   "cell_type": "markdown",
   "metadata": {},
   "source": [
    "### What are Airbnb current challanges?"
   ]
  },
  {
   "cell_type": "markdown",
   "metadata": {},
   "source": [
    "### Question 1\n",
    "- What is the average price of the listings, for the different location within London?"
   ]
  },
  {
   "cell_type": "code",
   "execution_count": null,
   "metadata": {},
   "outputs": [],
   "source": [
    "price_df = df_listings[df_listings['price'].isnull() == False]"
   ]
  },
  {
   "cell_type": "code",
   "execution_count": null,
   "metadata": {},
   "outputs": [],
   "source": [
    "price_df['neighbourhood_cleansed'].value_counts()"
   ]
  },
  {
   "cell_type": "code",
   "execution_count": null,
   "metadata": {},
   "outputs": [],
   "source": [
    "price_df['price'] = price_df['price'].str.replace('$', '', regex=True)\n",
    "price_df['price'] = price_df['price'].str.replace(',', '', regex=True)\n",
    "price_df['price'] = price_df['price'].astype(float)"
   ]
  },
  {
   "cell_type": "code",
   "execution_count": null,
   "metadata": {},
   "outputs": [],
   "source": [
    "nb_price_avg = price_df.groupby('neighbourhood_cleansed', as_index=False).mean()\n",
    "nb_price_avg = pd.DataFrame(nb_price_avg).sort_values(by='price', ascending=False)"
   ]
  },
  {
   "cell_type": "code",
   "execution_count": null,
   "metadata": {},
   "outputs": [],
   "source": [
    "nb_price_avg = nb_price_avg.rename(columns={'neighbourhood_cleansed':'Neighbourhood','price': 'Avg Price'})"
   ]
  },
  {
   "cell_type": "code",
   "execution_count": null,
   "metadata": {},
   "outputs": [],
   "source": [
    "plt.figure(figsize=(10,5))\n",
    "\n",
    "sns.set(style=\"whitegrid\")\n",
    "chart = sns.barplot(x=\"Neighbourhood\", y=\"Avg Price\", data=nb_price_avg)\n",
    "\n",
    "chart.set_xticklabels(\n",
    "    chart.get_xticklabels(), \n",
    "    rotation=60, \n",
    "    horizontalalignment='right',\n",
    "    fontweight='light',\n",
    "    fontsize='medium', \n",
    "    rotation_mode='anchor'\n",
    ")"
   ]
  },
  {
   "cell_type": "markdown",
   "metadata": {},
   "source": [
    "## New Question on amenities"
   ]
  },
  {
   "cell_type": "code",
   "execution_count": null,
   "metadata": {},
   "outputs": [],
   "source": [
    "#def convert_to_num(column):\n",
    "    \n",
    "#    column = column.str.replace('{', '', regex=True).replace('}', '', regex=True).replace('\\\"', '', regex=True)\n",
    "#    column = column.str.split(',')\n",
    "        \n",
    "#    return column\n",
    "\n",
    "\n",
    "#df['amenities'] = convert_to_num(df['amenities'])"
   ]
  },
  {
   "cell_type": "markdown",
   "metadata": {},
   "source": [
    "### Question 2\n",
    "\n",
    "- What types of verifications are hosts using? How long did it take them to respond?"
   ]
  },
  {
   "cell_type": "code",
   "execution_count": null,
   "metadata": {},
   "outputs": [],
   "source": [
    "verifications_df = df_listings[df_listings['host_verifications'].isnull() == False]"
   ]
  },
  {
   "cell_type": "code",
   "execution_count": null,
   "metadata": {},
   "outputs": [],
   "source": [
    "verifications_df.shape"
   ]
  },
  {
   "cell_type": "code",
   "execution_count": null,
   "metadata": {},
   "outputs": [],
   "source": [
    "verifications_df = verifications_df[verifications_df['host_verifications'] != '[]']"
   ]
  },
  {
   "cell_type": "code",
   "execution_count": null,
   "metadata": {},
   "outputs": [],
   "source": [
    "verifications_df.shape"
   ]
  },
  {
   "cell_type": "code",
   "execution_count": null,
   "metadata": {},
   "outputs": [],
   "source": [
    "verifications_df['host_verifications'].value_counts()"
   ]
  },
  {
   "cell_type": "code",
   "execution_count": null,
   "metadata": {},
   "outputs": [],
   "source": [
    "def verifications_types(column):\n",
    "    verifications_dict = {}\n",
    "    temp = []\n",
    "\n",
    "    for i in column:\n",
    "        temp.append(eval(i))\n",
    "    \n",
    "    for i in temp:\n",
    "        try:\n",
    "            for j in i:\n",
    "                if j not in verifications_dict:\n",
    "                    verifications_dict[j] = 1\n",
    "                else:\n",
    "                    verifications_dict[j] += 1\n",
    "        except:\n",
    "            continue\n",
    "            \n",
    "    return verifications_dict\n",
    "        \n",
    "verifications_types = verifications_types(verifications_df['host_verifications'])"
   ]
  },
  {
   "cell_type": "code",
   "execution_count": null,
   "metadata": {},
   "outputs": [],
   "source": [
    "verifications_types"
   ]
  },
  {
   "cell_type": "code",
   "execution_count": null,
   "metadata": {},
   "outputs": [],
   "source": [
    "for k,v in verifications_types.items():\n",
    "    verifications_types[k] = round(v / verifications_df.shape[0] * 100, 3)"
   ]
  },
  {
   "cell_type": "code",
   "execution_count": null,
   "metadata": {},
   "outputs": [],
   "source": [
    "verifications_types"
   ]
  },
  {
   "cell_type": "code",
   "execution_count": null,
   "metadata": {},
   "outputs": [],
   "source": [
    "verifications_types = pd.DataFrame.from_dict(verifications_types,orient='index',columns=['A']).reset_index()\n",
    "verifications_types = verifications_types.rename(columns={'index':'Verification Type','A': '% of listings'})\n",
    "verifications_types = verifications_types.sort_values(by='% of listings', ascending=False)"
   ]
  },
  {
   "cell_type": "code",
   "execution_count": null,
   "metadata": {},
   "outputs": [],
   "source": [
    "verifications_types"
   ]
  },
  {
   "cell_type": "code",
   "execution_count": null,
   "metadata": {},
   "outputs": [],
   "source": [
    "plt.figure(figsize=(10,5))\n",
    "\n",
    "sns.set(style=\"whitegrid\")\n",
    "chart = sns.barplot(x=\"Verification Type\", y=\"% of listings\", data=verifications_types)\n",
    "\n",
    "chart.set_xticklabels(\n",
    "    chart.get_xticklabels(), \n",
    "    rotation=60, \n",
    "    horizontalalignment='right',\n",
    "    fontweight='light',\n",
    "    fontsize='medium', \n",
    "    rotation_mode='anchor'\n",
    ")"
   ]
  },
  {
   "cell_type": "markdown",
   "metadata": {},
   "source": [
    "### Question 3\n",
    "- What features assist in the pricing of a listing? \n",
    "    - Could the price be predicted?\n",
    "    - importance of the features, rank features"
   ]
  },
  {
   "cell_type": "markdown",
   "metadata": {},
   "source": [
    "#### Cleaning the data"
   ]
  },
  {
   "cell_type": "code",
   "execution_count": 3,
   "metadata": {},
   "outputs": [],
   "source": [
    "col_nulls = set(df_listings.columns[df_listings.isnull().mean()>0.70])"
   ]
  },
  {
   "cell_type": "code",
   "execution_count": 4,
   "metadata": {},
   "outputs": [],
   "source": [
    "df = df_listings.drop(list(col_nulls), axis=1)\n",
    "df = df[df.columns.drop(list(df.filter(regex='url')))]\n",
    "df = df[df.columns.drop(list(df.filter(regex='id')))]\n",
    "df = df[df.columns.drop(list(df.filter(regex='scraped')))]\n",
    "df = df[df.columns.drop(list(df.filter(regex='first_review')))]\n",
    "df = df[df.columns.drop(list(df.filter(regex='last_review')))]"
   ]
  },
  {
   "cell_type": "code",
   "execution_count": 5,
   "metadata": {},
   "outputs": [],
   "source": [
    "df = df.drop(columns=['name','summary','space','description','neighborhood_overview','notes',\n",
    "                     'transit','access','interaction','house_rules','host_name','host_about',\n",
    "                      'host_since','host_neighbourhood','street','neighbourhood','market','latitude','longitude',\n",
    "                     'host_location','city','state','zipcode','smart_location','country_code',\n",
    "                      'country','amenities'])"
   ]
  },
  {
   "cell_type": "code",
   "execution_count": 6,
   "metadata": {},
   "outputs": [],
   "source": [
    "df = df.dropna(subset=[\"price\"])"
   ]
  },
  {
   "cell_type": "code",
   "execution_count": 7,
   "metadata": {},
   "outputs": [
    {
     "data": {
      "text/html": [
       "<div>\n",
       "<style scoped>\n",
       "    .dataframe tbody tr th:only-of-type {\n",
       "        vertical-align: middle;\n",
       "    }\n",
       "\n",
       "    .dataframe tbody tr th {\n",
       "        vertical-align: top;\n",
       "    }\n",
       "\n",
       "    .dataframe thead th {\n",
       "        text-align: right;\n",
       "    }\n",
       "</style>\n",
       "<table border=\"1\" class=\"dataframe\">\n",
       "  <thead>\n",
       "    <tr style=\"text-align: right;\">\n",
       "      <th></th>\n",
       "      <th>experiences_offered</th>\n",
       "      <th>host_response_time</th>\n",
       "      <th>host_response_rate</th>\n",
       "      <th>host_acceptance_rate</th>\n",
       "      <th>host_is_superhost</th>\n",
       "      <th>host_listings_count</th>\n",
       "      <th>host_total_listings_count</th>\n",
       "      <th>host_verifications</th>\n",
       "      <th>host_has_profile_pic</th>\n",
       "      <th>neighbourhood_cleansed</th>\n",
       "      <th>...</th>\n",
       "      <th>instant_bookable</th>\n",
       "      <th>is_business_travel_ready</th>\n",
       "      <th>cancellation_policy</th>\n",
       "      <th>require_guest_profile_picture</th>\n",
       "      <th>require_guest_phone_verification</th>\n",
       "      <th>calculated_host_listings_count</th>\n",
       "      <th>calculated_host_listings_count_entire_homes</th>\n",
       "      <th>calculated_host_listings_count_private_rooms</th>\n",
       "      <th>calculated_host_listings_count_shared_rooms</th>\n",
       "      <th>reviews_per_month</th>\n",
       "    </tr>\n",
       "  </thead>\n",
       "  <tbody>\n",
       "    <tr>\n",
       "      <th>0</th>\n",
       "      <td>business</td>\n",
       "      <td>within a few hours</td>\n",
       "      <td>71%</td>\n",
       "      <td>89%</td>\n",
       "      <td>f</td>\n",
       "      <td>4.0</td>\n",
       "      <td>4.0</td>\n",
       "      <td>['email', 'phone', 'facebook', 'reviews', 'off...</td>\n",
       "      <td>t</td>\n",
       "      <td>Islington</td>\n",
       "      <td>...</td>\n",
       "      <td>f</td>\n",
       "      <td>f</td>\n",
       "      <td>moderate</td>\n",
       "      <td>f</td>\n",
       "      <td>f</td>\n",
       "      <td>2</td>\n",
       "      <td>1</td>\n",
       "      <td>1</td>\n",
       "      <td>0</td>\n",
       "      <td>0.18</td>\n",
       "    </tr>\n",
       "    <tr>\n",
       "      <th>1</th>\n",
       "      <td>romantic</td>\n",
       "      <td>within a day</td>\n",
       "      <td>50%</td>\n",
       "      <td>67%</td>\n",
       "      <td>f</td>\n",
       "      <td>1.0</td>\n",
       "      <td>1.0</td>\n",
       "      <td>['email', 'phone', 'reviews', 'jumio', 'govern...</td>\n",
       "      <td>t</td>\n",
       "      <td>Kensington and Chelsea</td>\n",
       "      <td>...</td>\n",
       "      <td>t</td>\n",
       "      <td>f</td>\n",
       "      <td>strict_14_with_grace_period</td>\n",
       "      <td>t</td>\n",
       "      <td>t</td>\n",
       "      <td>1</td>\n",
       "      <td>1</td>\n",
       "      <td>0</td>\n",
       "      <td>0</td>\n",
       "      <td>0.71</td>\n",
       "    </tr>\n",
       "    <tr>\n",
       "      <th>2</th>\n",
       "      <td>none</td>\n",
       "      <td>within an hour</td>\n",
       "      <td>80%</td>\n",
       "      <td>94%</td>\n",
       "      <td>f</td>\n",
       "      <td>18.0</td>\n",
       "      <td>18.0</td>\n",
       "      <td>['email', 'phone', 'reviews', 'jumio', 'offlin...</td>\n",
       "      <td>t</td>\n",
       "      <td>Westminster</td>\n",
       "      <td>...</td>\n",
       "      <td>t</td>\n",
       "      <td>f</td>\n",
       "      <td>strict_14_with_grace_period</td>\n",
       "      <td>f</td>\n",
       "      <td>f</td>\n",
       "      <td>15</td>\n",
       "      <td>15</td>\n",
       "      <td>0</td>\n",
       "      <td>0</td>\n",
       "      <td>0.38</td>\n",
       "    </tr>\n",
       "  </tbody>\n",
       "</table>\n",
       "<p>3 rows × 57 columns</p>\n",
       "</div>"
      ],
      "text/plain": [
       "  experiences_offered  host_response_time host_response_rate  \\\n",
       "0            business  within a few hours                71%   \n",
       "1            romantic        within a day                50%   \n",
       "2                none      within an hour                80%   \n",
       "\n",
       "  host_acceptance_rate host_is_superhost  host_listings_count  \\\n",
       "0                  89%                 f                  4.0   \n",
       "1                  67%                 f                  1.0   \n",
       "2                  94%                 f                 18.0   \n",
       "\n",
       "   host_total_listings_count  \\\n",
       "0                        4.0   \n",
       "1                        1.0   \n",
       "2                       18.0   \n",
       "\n",
       "                                  host_verifications host_has_profile_pic  \\\n",
       "0  ['email', 'phone', 'facebook', 'reviews', 'off...                    t   \n",
       "1  ['email', 'phone', 'reviews', 'jumio', 'govern...                    t   \n",
       "2  ['email', 'phone', 'reviews', 'jumio', 'offlin...                    t   \n",
       "\n",
       "   neighbourhood_cleansed  ... instant_bookable is_business_travel_ready  \\\n",
       "0               Islington  ...                f                        f   \n",
       "1  Kensington and Chelsea  ...                t                        f   \n",
       "2             Westminster  ...                t                        f   \n",
       "\n",
       "           cancellation_policy  require_guest_profile_picture  \\\n",
       "0                     moderate                              f   \n",
       "1  strict_14_with_grace_period                              t   \n",
       "2  strict_14_with_grace_period                              f   \n",
       "\n",
       "   require_guest_phone_verification  calculated_host_listings_count  \\\n",
       "0                                 f                               2   \n",
       "1                                 t                               1   \n",
       "2                                 f                              15   \n",
       "\n",
       "   calculated_host_listings_count_entire_homes  \\\n",
       "0                                            1   \n",
       "1                                            1   \n",
       "2                                           15   \n",
       "\n",
       "  calculated_host_listings_count_private_rooms  \\\n",
       "0                                            1   \n",
       "1                                            0   \n",
       "2                                            0   \n",
       "\n",
       "  calculated_host_listings_count_shared_rooms reviews_per_month  \n",
       "0                                           0              0.18  \n",
       "1                                           0              0.71  \n",
       "2                                           0              0.38  \n",
       "\n",
       "[3 rows x 57 columns]"
      ]
     },
     "execution_count": 7,
     "metadata": {},
     "output_type": "execute_result"
    }
   ],
   "source": [
    "df.head(3)"
   ]
  },
  {
   "cell_type": "code",
   "execution_count": 8,
   "metadata": {},
   "outputs": [
    {
     "data": {
      "text/plain": [
       "experiences_offered                              object\n",
       "host_response_time                               object\n",
       "host_response_rate                               object\n",
       "host_acceptance_rate                             object\n",
       "host_is_superhost                                object\n",
       "host_listings_count                             float64\n",
       "host_total_listings_count                       float64\n",
       "host_verifications                               object\n",
       "host_has_profile_pic                             object\n",
       "neighbourhood_cleansed                           object\n",
       "is_location_exact                                object\n",
       "property_type                                    object\n",
       "room_type                                        object\n",
       "accommodates                                      int64\n",
       "bathrooms                                       float64\n",
       "bedrooms                                        float64\n",
       "beds                                            float64\n",
       "bed_type                                         object\n",
       "price                                            object\n",
       "security_deposit                                 object\n",
       "cleaning_fee                                     object\n",
       "guests_included                                   int64\n",
       "extra_people                                     object\n",
       "minimum_nights                                    int64\n",
       "maximum_nights                                    int64\n",
       "minimum_minimum_nights                            int64\n",
       "maximum_minimum_nights                            int64\n",
       "minimum_maximum_nights                            int64\n",
       "maximum_maximum_nights                            int64\n",
       "minimum_nights_avg_ntm                          float64\n",
       "maximum_nights_avg_ntm                          float64\n",
       "calendar_updated                                 object\n",
       "has_availability                                 object\n",
       "availability_30                                   int64\n",
       "availability_60                                   int64\n",
       "availability_90                                   int64\n",
       "availability_365                                  int64\n",
       "number_of_reviews                                 int64\n",
       "number_of_reviews_ltm                             int64\n",
       "review_scores_rating                            float64\n",
       "review_scores_accuracy                          float64\n",
       "review_scores_cleanliness                       float64\n",
       "review_scores_checkin                           float64\n",
       "review_scores_communication                     float64\n",
       "review_scores_location                          float64\n",
       "review_scores_value                             float64\n",
       "requires_license                                 object\n",
       "instant_bookable                                 object\n",
       "is_business_travel_ready                         object\n",
       "cancellation_policy                              object\n",
       "require_guest_profile_picture                    object\n",
       "require_guest_phone_verification                 object\n",
       "calculated_host_listings_count                    int64\n",
       "calculated_host_listings_count_entire_homes       int64\n",
       "calculated_host_listings_count_private_rooms      int64\n",
       "calculated_host_listings_count_shared_rooms       int64\n",
       "reviews_per_month                               float64\n",
       "dtype: object"
      ]
     },
     "execution_count": 8,
     "metadata": {},
     "output_type": "execute_result"
    }
   ],
   "source": [
    "pd.set_option('display.max_rows', None)\n",
    "\n",
    "df.dtypes"
   ]
  },
  {
   "cell_type": "code",
   "execution_count": 9,
   "metadata": {},
   "outputs": [],
   "source": [
    "def data_float(column):\n",
    "    column = column.str.replace('$', '', regex=True)\n",
    "    column = column.str.replace(',', '', regex=True)\n",
    "    column = column.astype(float)\n",
    "    \n",
    "    return column\n",
    "\n",
    "df['price'] = data_float(df['price'])\n",
    "df['security_deposit'] = data_float(df['security_deposit'])\n",
    "df['cleaning_fee'] = data_float(df['cleaning_fee'])\n",
    "df['extra_people'] = data_float(df['extra_people'])"
   ]
  },
  {
   "cell_type": "code",
   "execution_count": 10,
   "metadata": {},
   "outputs": [],
   "source": [
    "def data_percentage(column):\n",
    "    column = column.str.replace('%', '', regex=True)\n",
    "    #column = column.str.replace(',', '', regex=True)\n",
    "    column = column.astype('float') / 100\n",
    "    \n",
    "    return column\n",
    "\n",
    "df['host_response_rate'] = data_percentage(df['host_response_rate'])\n",
    "df['host_acceptance_rate'] = data_percentage(df['host_acceptance_rate'])"
   ]
  },
  {
   "cell_type": "code",
   "execution_count": 11,
   "metadata": {},
   "outputs": [],
   "source": [
    "num_vars = df.select_dtypes(include=['float', 'int']).columns\n",
    "for col in num_vars:\n",
    "    df[col].fillna((df[col].mean()), inplace=True)"
   ]
  },
  {
   "cell_type": "code",
   "execution_count": 12,
   "metadata": {},
   "outputs": [],
   "source": [
    "df['host_response_time'].fillna('No Response', inplace=True)\n",
    "df['host_is_superhost'].fillna('f', inplace=True)\n",
    "df['host_has_profile_pic'].fillna('f', inplace=True)\n",
    "df['bed_type'].fillna('Unknown', inplace=True)"
   ]
  },
  {
   "cell_type": "code",
   "execution_count": 13,
   "metadata": {},
   "outputs": [
    {
     "data": {
      "text/plain": [
       "experiences_offered                             0\n",
       "host_response_time                              0\n",
       "host_response_rate                              0\n",
       "host_acceptance_rate                            0\n",
       "host_is_superhost                               0\n",
       "host_listings_count                             0\n",
       "host_total_listings_count                       0\n",
       "host_verifications                              0\n",
       "host_has_profile_pic                            0\n",
       "neighbourhood_cleansed                          0\n",
       "is_location_exact                               0\n",
       "property_type                                   0\n",
       "room_type                                       0\n",
       "accommodates                                    0\n",
       "bathrooms                                       0\n",
       "bedrooms                                        0\n",
       "beds                                            0\n",
       "bed_type                                        0\n",
       "price                                           0\n",
       "security_deposit                                0\n",
       "cleaning_fee                                    0\n",
       "guests_included                                 0\n",
       "extra_people                                    0\n",
       "minimum_nights                                  0\n",
       "maximum_nights                                  0\n",
       "minimum_minimum_nights                          0\n",
       "maximum_minimum_nights                          0\n",
       "minimum_maximum_nights                          0\n",
       "maximum_maximum_nights                          0\n",
       "minimum_nights_avg_ntm                          0\n",
       "maximum_nights_avg_ntm                          0\n",
       "calendar_updated                                0\n",
       "has_availability                                0\n",
       "availability_30                                 0\n",
       "availability_60                                 0\n",
       "availability_90                                 0\n",
       "availability_365                                0\n",
       "number_of_reviews                               0\n",
       "number_of_reviews_ltm                           0\n",
       "review_scores_rating                            0\n",
       "review_scores_accuracy                          0\n",
       "review_scores_cleanliness                       0\n",
       "review_scores_checkin                           0\n",
       "review_scores_communication                     0\n",
       "review_scores_location                          0\n",
       "review_scores_value                             0\n",
       "requires_license                                0\n",
       "instant_bookable                                0\n",
       "is_business_travel_ready                        0\n",
       "cancellation_policy                             0\n",
       "require_guest_profile_picture                   0\n",
       "require_guest_phone_verification                0\n",
       "calculated_host_listings_count                  0\n",
       "calculated_host_listings_count_entire_homes     0\n",
       "calculated_host_listings_count_private_rooms    0\n",
       "calculated_host_listings_count_shared_rooms     0\n",
       "reviews_per_month                               0\n",
       "dtype: int64"
      ]
     },
     "execution_count": 13,
     "metadata": {},
     "output_type": "execute_result"
    }
   ],
   "source": [
    "df.isnull().sum()"
   ]
  },
  {
   "cell_type": "code",
   "execution_count": 14,
   "metadata": {},
   "outputs": [],
   "source": [
    "# Dummy the categorical variables\n",
    "cat_vars = df.select_dtypes(include=['object']).copy().columns\n",
    "for var in  cat_vars:\n",
    "    # for each cat add dummy var, drop original column\n",
    "    df = pd.concat([df.drop(var, axis=1), pd.get_dummies(df[var],\n",
    "                                                         prefix=var, prefix_sep='_', drop_first=True)], axis=1)"
   ]
  },
  {
   "cell_type": "markdown",
   "metadata": {},
   "source": [
    "#### Building the Model"
   ]
  },
  {
   "cell_type": "code",
   "execution_count": 15,
   "metadata": {},
   "outputs": [],
   "source": [
    "X = df.drop('price', axis = 1)\n",
    "y = df['price']"
   ]
  },
  {
   "cell_type": "code",
   "execution_count": 16,
   "metadata": {},
   "outputs": [
    {
     "data": {
      "text/plain": [
       "(86358, 793)"
      ]
     },
     "execution_count": 16,
     "metadata": {},
     "output_type": "execute_result"
    }
   ],
   "source": [
    "X.shape"
   ]
  },
  {
   "cell_type": "code",
   "execution_count": 17,
   "metadata": {},
   "outputs": [],
   "source": [
    "X_new = SelectKBest(chi2, k=100).fit_transform(X, y)"
   ]
  },
  {
   "cell_type": "code",
   "execution_count": 18,
   "metadata": {},
   "outputs": [
    {
     "data": {
      "text/plain": [
       "(86358, 100)"
      ]
     },
     "execution_count": 18,
     "metadata": {},
     "output_type": "execute_result"
    }
   ],
   "source": [
    "X_new.shape"
   ]
  },
  {
   "cell_type": "code",
   "execution_count": 19,
   "metadata": {},
   "outputs": [],
   "source": [
    "#split the data into train and test\n",
    "X_train, X_test, y_train, y_test = train_test_split(X_new, y, test_size = 0.2, random_state=42)"
   ]
  },
  {
   "cell_type": "code",
   "execution_count": null,
   "metadata": {},
   "outputs": [],
   "source": [
    "from sklearn.metrics import r2_score\n",
    "\n",
    "def performance_metric(y_true, y_predict):\n",
    "    \"\"\" Calculates and returns the performance score between \n",
    "        true and predicted values based on the metric chosen. \"\"\"\n",
    "    \n",
    "    # TODO: Calculate the performance score between 'y_true' and 'y_predict'\n",
    "    score = r2_score(y_true,y_predict)\n",
    "    \n",
    "    # Return the score\n",
    "    return score"
   ]
  },
  {
   "cell_type": "code",
   "execution_count": 22,
   "metadata": {},
   "outputs": [],
   "source": [
    "from sklearn.model_selection import ShuffleSplit\n",
    "\n",
    "from sklearn.tree import DecisionTreeRegressor\n",
    "from sklearn.metrics import make_scorer\n",
    "from sklearn.model_selection import GridSearchCV\n",
    "\n",
    "def fit_model(X, y):\n",
    "    \"\"\" Performs grid search over the 'max_depth' parameter for a \n",
    "        decision tree regressor trained on the input data [X, y]. \"\"\"\n",
    "    \n",
    "    # Create cross-validation sets from the training data\n",
    "    cv_sets = ShuffleSplit(n_splits = 10, test_size = 0.20, random_state = 0)\n",
    "\n",
    "    # TODO: Create a decision tree regressor object\n",
    "    regressor = DecisionTreeRegressor(random_state = 42)\n",
    "\n",
    "    # TODO: Create a dictionary for the parameter 'max_depth' with a range from 1 to 10\n",
    "    params = {'max_depth': range(1,11)}\n",
    "\n",
    "    # TODO: Transform 'performance_metric' into a scoring function using 'make_scorer' \n",
    "    ##scoring_fnc = make_scorer(performance_metric)\n",
    "\n",
    "    # TODO: Create the grid search object #scoring=scoring_fnc\n",
    "    grid = GridSearchCV(estimator=regressor,param_grid=params,cv=cv_sets)\n",
    "\n",
    "    # Fit the grid search object to the data to compute the optimal model\n",
    "    grid = grid.fit(X, y)\n",
    "\n",
    "    # Return the optimal model after fitting the data\n",
    "    return grid.best_estimator_"
   ]
  },
  {
   "cell_type": "code",
   "execution_count": 23,
   "metadata": {},
   "outputs": [
    {
     "name": "stdout",
     "output_type": "stream",
     "text": [
      "6\n"
     ]
    }
   ],
   "source": [
    "# Fit the training data to the model using grid search\n",
    "reg = fit_model(X_train, y_train)\n",
    "\n",
    "# Produce the value for 'max_depth'\n",
    "print(reg.get_params()['max_depth'])"
   ]
  },
  {
   "cell_type": "code",
   "execution_count": null,
   "metadata": {},
   "outputs": [],
   "source": []
  }
 ],
 "metadata": {
  "kernelspec": {
   "display_name": "Python 3",
   "language": "python",
   "name": "python3"
  },
  "language_info": {
   "codemirror_mode": {
    "name": "ipython",
    "version": 3
   },
   "file_extension": ".py",
   "mimetype": "text/x-python",
   "name": "python",
   "nbconvert_exporter": "python",
   "pygments_lexer": "ipython3",
   "version": "3.7.7"
  }
 },
 "nbformat": 4,
 "nbformat_minor": 4
}
