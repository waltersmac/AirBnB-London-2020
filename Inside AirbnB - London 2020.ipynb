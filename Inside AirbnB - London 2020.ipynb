{
 "cells": [
  {
   "cell_type": "markdown",
   "metadata": {},
   "source": [
    "## Importing the libraries"
   ]
  },
  {
   "cell_type": "code",
   "execution_count": 2,
   "metadata": {},
   "outputs": [],
   "source": [
    "import os\n",
    "import numpy as np\n",
    "import pandas as pd\n",
    "#import matplotlib\n",
    "#matplotlib.rcParams['text.usetex'] = True\n",
    "import matplotlib.pyplot as plt\n",
    "\n",
    "import seaborn as sns\n",
    "%matplotlib inline"
   ]
  },
  {
   "cell_type": "markdown",
   "metadata": {},
   "source": [
    "## Reading in the data files"
   ]
  },
  {
   "cell_type": "code",
   "execution_count": 3,
   "metadata": {},
   "outputs": [],
   "source": [
    "df_listings = pd.read_csv('Data/listings.csv', dtype='str')"
   ]
  },
  {
   "cell_type": "markdown",
   "metadata": {},
   "source": [
    "## Data Exploration"
   ]
  },
  {
   "cell_type": "markdown",
   "metadata": {},
   "source": [
    "### Listings Dataframe"
   ]
  },
  {
   "cell_type": "code",
   "execution_count": 4,
   "metadata": {},
   "outputs": [
    {
     "data": {
      "text/plain": [
       "(86358, 106)"
      ]
     },
     "execution_count": 4,
     "metadata": {},
     "output_type": "execute_result"
    }
   ],
   "source": [
    "df_listings.shape"
   ]
  },
  {
   "cell_type": "code",
   "execution_count": 5,
   "metadata": {},
   "outputs": [
    {
     "data": {
      "text/html": [
       "<div>\n",
       "<style scoped>\n",
       "    .dataframe tbody tr th:only-of-type {\n",
       "        vertical-align: middle;\n",
       "    }\n",
       "\n",
       "    .dataframe tbody tr th {\n",
       "        vertical-align: top;\n",
       "    }\n",
       "\n",
       "    .dataframe thead th {\n",
       "        text-align: right;\n",
       "    }\n",
       "</style>\n",
       "<table border=\"1\" class=\"dataframe\">\n",
       "  <thead>\n",
       "    <tr style=\"text-align: right;\">\n",
       "      <th></th>\n",
       "      <th>id</th>\n",
       "      <th>listing_url</th>\n",
       "      <th>scrape_id</th>\n",
       "      <th>last_scraped</th>\n",
       "      <th>name</th>\n",
       "      <th>summary</th>\n",
       "      <th>space</th>\n",
       "      <th>description</th>\n",
       "      <th>experiences_offered</th>\n",
       "      <th>neighborhood_overview</th>\n",
       "      <th>notes</th>\n",
       "      <th>transit</th>\n",
       "      <th>access</th>\n",
       "      <th>interaction</th>\n",
       "      <th>house_rules</th>\n",
       "      <th>thumbnail_url</th>\n",
       "      <th>medium_url</th>\n",
       "      <th>picture_url</th>\n",
       "      <th>xl_picture_url</th>\n",
       "      <th>host_id</th>\n",
       "      <th>host_url</th>\n",
       "      <th>host_name</th>\n",
       "      <th>host_since</th>\n",
       "      <th>host_location</th>\n",
       "      <th>host_about</th>\n",
       "      <th>host_response_time</th>\n",
       "      <th>host_response_rate</th>\n",
       "      <th>host_acceptance_rate</th>\n",
       "      <th>host_is_superhost</th>\n",
       "      <th>host_thumbnail_url</th>\n",
       "      <th>host_picture_url</th>\n",
       "      <th>host_neighbourhood</th>\n",
       "      <th>host_listings_count</th>\n",
       "      <th>host_total_listings_count</th>\n",
       "      <th>host_verifications</th>\n",
       "      <th>host_has_profile_pic</th>\n",
       "      <th>host_identity_verified</th>\n",
       "      <th>street</th>\n",
       "      <th>neighbourhood</th>\n",
       "      <th>neighbourhood_cleansed</th>\n",
       "      <th>neighbourhood_group_cleansed</th>\n",
       "      <th>city</th>\n",
       "      <th>state</th>\n",
       "      <th>zipcode</th>\n",
       "      <th>market</th>\n",
       "      <th>smart_location</th>\n",
       "      <th>country_code</th>\n",
       "      <th>country</th>\n",
       "      <th>latitude</th>\n",
       "      <th>longitude</th>\n",
       "      <th>is_location_exact</th>\n",
       "      <th>property_type</th>\n",
       "      <th>room_type</th>\n",
       "      <th>accommodates</th>\n",
       "      <th>bathrooms</th>\n",
       "      <th>bedrooms</th>\n",
       "      <th>beds</th>\n",
       "      <th>bed_type</th>\n",
       "      <th>amenities</th>\n",
       "      <th>square_feet</th>\n",
       "      <th>price</th>\n",
       "      <th>weekly_price</th>\n",
       "      <th>monthly_price</th>\n",
       "      <th>security_deposit</th>\n",
       "      <th>cleaning_fee</th>\n",
       "      <th>guests_included</th>\n",
       "      <th>extra_people</th>\n",
       "      <th>minimum_nights</th>\n",
       "      <th>maximum_nights</th>\n",
       "      <th>minimum_minimum_nights</th>\n",
       "      <th>maximum_minimum_nights</th>\n",
       "      <th>minimum_maximum_nights</th>\n",
       "      <th>maximum_maximum_nights</th>\n",
       "      <th>minimum_nights_avg_ntm</th>\n",
       "      <th>maximum_nights_avg_ntm</th>\n",
       "      <th>calendar_updated</th>\n",
       "      <th>has_availability</th>\n",
       "      <th>availability_30</th>\n",
       "      <th>availability_60</th>\n",
       "      <th>availability_90</th>\n",
       "      <th>availability_365</th>\n",
       "      <th>calendar_last_scraped</th>\n",
       "      <th>number_of_reviews</th>\n",
       "      <th>number_of_reviews_ltm</th>\n",
       "      <th>first_review</th>\n",
       "      <th>last_review</th>\n",
       "      <th>review_scores_rating</th>\n",
       "      <th>review_scores_accuracy</th>\n",
       "      <th>review_scores_cleanliness</th>\n",
       "      <th>review_scores_checkin</th>\n",
       "      <th>review_scores_communication</th>\n",
       "      <th>review_scores_location</th>\n",
       "      <th>review_scores_value</th>\n",
       "      <th>requires_license</th>\n",
       "      <th>license</th>\n",
       "      <th>jurisdiction_names</th>\n",
       "      <th>instant_bookable</th>\n",
       "      <th>is_business_travel_ready</th>\n",
       "      <th>cancellation_policy</th>\n",
       "      <th>require_guest_profile_picture</th>\n",
       "      <th>require_guest_phone_verification</th>\n",
       "      <th>calculated_host_listings_count</th>\n",
       "      <th>calculated_host_listings_count_entire_homes</th>\n",
       "      <th>calculated_host_listings_count_private_rooms</th>\n",
       "      <th>calculated_host_listings_count_shared_rooms</th>\n",
       "      <th>reviews_per_month</th>\n",
       "    </tr>\n",
       "  </thead>\n",
       "  <tbody>\n",
       "    <tr>\n",
       "      <th>0</th>\n",
       "      <td>13913</td>\n",
       "      <td>https://www.airbnb.com/rooms/13913</td>\n",
       "      <td>20200414180850</td>\n",
       "      <td>2020-04-16</td>\n",
       "      <td>Holiday London DB Room Let-on going</td>\n",
       "      <td>My bright double bedroom with a large window h...</td>\n",
       "      <td>Hello Everyone, I'm offering my lovely double ...</td>\n",
       "      <td>My bright double bedroom with a large window h...</td>\n",
       "      <td>business</td>\n",
       "      <td>Finsbury Park is a friendly melting pot commun...</td>\n",
       "      <td>For art lovers I can give guest my Tate Member...</td>\n",
       "      <td>The flat only a 10 minute walk to Finsbury Par...</td>\n",
       "      <td>Guest will have access to the self catering ki...</td>\n",
       "      <td>I like to have little chats with my guest over...</td>\n",
       "      <td>I'm an artist and have my artwork up on the wa...</td>\n",
       "      <td>NaN</td>\n",
       "      <td>NaN</td>\n",
       "      <td>https://a0.muscache.com/im/pictures/ffb507b7-9...</td>\n",
       "      <td>NaN</td>\n",
       "      <td>54730</td>\n",
       "      <td>https://www.airbnb.com/users/show/54730</td>\n",
       "      <td>Alina</td>\n",
       "      <td>2009-11-16</td>\n",
       "      <td>London, England, United Kingdom</td>\n",
       "      <td>I am a Multi-Media Visual Artist and Creative ...</td>\n",
       "      <td>within a few hours</td>\n",
       "      <td>71%</td>\n",
       "      <td>89%</td>\n",
       "      <td>f</td>\n",
       "      <td>https://a0.muscache.com/im/users/54730/profile...</td>\n",
       "      <td>https://a0.muscache.com/im/users/54730/profile...</td>\n",
       "      <td>LB of Islington</td>\n",
       "      <td>4</td>\n",
       "      <td>4</td>\n",
       "      <td>['email', 'phone', 'facebook', 'reviews', 'off...</td>\n",
       "      <td>t</td>\n",
       "      <td>t</td>\n",
       "      <td>Islington, Greater London, United Kingdom</td>\n",
       "      <td>LB of Islington</td>\n",
       "      <td>Islington</td>\n",
       "      <td>NaN</td>\n",
       "      <td>Islington</td>\n",
       "      <td>Greater London</td>\n",
       "      <td>N4 3</td>\n",
       "      <td>London</td>\n",
       "      <td>Islington, United Kingdom</td>\n",
       "      <td>GB</td>\n",
       "      <td>United Kingdom</td>\n",
       "      <td>51.56802</td>\n",
       "      <td>-0.11121</td>\n",
       "      <td>t</td>\n",
       "      <td>Apartment</td>\n",
       "      <td>Private room</td>\n",
       "      <td>2</td>\n",
       "      <td>1.0</td>\n",
       "      <td>1</td>\n",
       "      <td>0</td>\n",
       "      <td>Real Bed</td>\n",
       "      <td>{TV,\"Cable TV\",Wifi,Kitchen,\"Paid parking off ...</td>\n",
       "      <td>538</td>\n",
       "      <td>$65.00</td>\n",
       "      <td>$333.00</td>\n",
       "      <td>$1,176.00</td>\n",
       "      <td>$100.00</td>\n",
       "      <td>$15.00</td>\n",
       "      <td>1</td>\n",
       "      <td>$15.00</td>\n",
       "      <td>1</td>\n",
       "      <td>29</td>\n",
       "      <td>1</td>\n",
       "      <td>1</td>\n",
       "      <td>29</td>\n",
       "      <td>29</td>\n",
       "      <td>1.0</td>\n",
       "      <td>29.0</td>\n",
       "      <td>12 months ago</td>\n",
       "      <td>t</td>\n",
       "      <td>27</td>\n",
       "      <td>57</td>\n",
       "      <td>84</td>\n",
       "      <td>359</td>\n",
       "      <td>2020-04-16</td>\n",
       "      <td>21</td>\n",
       "      <td>7</td>\n",
       "      <td>2010-08-18</td>\n",
       "      <td>2020-02-22</td>\n",
       "      <td>97</td>\n",
       "      <td>10</td>\n",
       "      <td>10</td>\n",
       "      <td>10</td>\n",
       "      <td>10</td>\n",
       "      <td>9</td>\n",
       "      <td>9</td>\n",
       "      <td>f</td>\n",
       "      <td>NaN</td>\n",
       "      <td>NaN</td>\n",
       "      <td>f</td>\n",
       "      <td>f</td>\n",
       "      <td>moderate</td>\n",
       "      <td>f</td>\n",
       "      <td>f</td>\n",
       "      <td>2</td>\n",
       "      <td>1</td>\n",
       "      <td>1</td>\n",
       "      <td>0</td>\n",
       "      <td>0.18</td>\n",
       "    </tr>\n",
       "    <tr>\n",
       "      <th>1</th>\n",
       "      <td>15400</td>\n",
       "      <td>https://www.airbnb.com/rooms/15400</td>\n",
       "      <td>20200414180850</td>\n",
       "      <td>2020-04-16</td>\n",
       "      <td>Bright Chelsea  Apartment. Chelsea!</td>\n",
       "      <td>Lots of windows and light.  St Luke's Gardens ...</td>\n",
       "      <td>Bright Chelsea Apartment  This is a bright one...</td>\n",
       "      <td>Lots of windows and light.  St Luke's Gardens ...</td>\n",
       "      <td>romantic</td>\n",
       "      <td>It is Chelsea.</td>\n",
       "      <td>The building next door is in the process of be...</td>\n",
       "      <td>The underground stations are South Kensington ...</td>\n",
       "      <td>There are two wardrobes for guests exclusive u...</td>\n",
       "      <td>If I am in the country I like to welcome my gu...</td>\n",
       "      <td>NO SMOKING PLEASE.. No unauthorised guests. No...</td>\n",
       "      <td>NaN</td>\n",
       "      <td>NaN</td>\n",
       "      <td>https://a0.muscache.com/im/pictures/428392/462...</td>\n",
       "      <td>NaN</td>\n",
       "      <td>60302</td>\n",
       "      <td>https://www.airbnb.com/users/show/60302</td>\n",
       "      <td>Philippa</td>\n",
       "      <td>2009-12-05</td>\n",
       "      <td>Kensington, England, United Kingdom</td>\n",
       "      <td>English, grandmother,  I have travelled quite ...</td>\n",
       "      <td>within a day</td>\n",
       "      <td>50%</td>\n",
       "      <td>67%</td>\n",
       "      <td>f</td>\n",
       "      <td>https://a0.muscache.com/im/users/60302/profile...</td>\n",
       "      <td>https://a0.muscache.com/im/users/60302/profile...</td>\n",
       "      <td>Chelsea</td>\n",
       "      <td>1</td>\n",
       "      <td>1</td>\n",
       "      <td>['email', 'phone', 'reviews', 'jumio', 'govern...</td>\n",
       "      <td>t</td>\n",
       "      <td>t</td>\n",
       "      <td>London, United Kingdom</td>\n",
       "      <td>Chelsea</td>\n",
       "      <td>Kensington and Chelsea</td>\n",
       "      <td>NaN</td>\n",
       "      <td>London</td>\n",
       "      <td>NaN</td>\n",
       "      <td>SW3</td>\n",
       "      <td>London</td>\n",
       "      <td>London, United Kingdom</td>\n",
       "      <td>GB</td>\n",
       "      <td>United Kingdom</td>\n",
       "      <td>51.48796</td>\n",
       "      <td>-0.16898</td>\n",
       "      <td>t</td>\n",
       "      <td>Apartment</td>\n",
       "      <td>Entire home/apt</td>\n",
       "      <td>2</td>\n",
       "      <td>1.0</td>\n",
       "      <td>1</td>\n",
       "      <td>1</td>\n",
       "      <td>Real Bed</td>\n",
       "      <td>{TV,\"Cable TV\",Internet,Wifi,\"Air conditioning...</td>\n",
       "      <td>NaN</td>\n",
       "      <td>$100.00</td>\n",
       "      <td>$600.00</td>\n",
       "      <td>$2,250.00</td>\n",
       "      <td>$150.00</td>\n",
       "      <td>$50.00</td>\n",
       "      <td>2</td>\n",
       "      <td>$0.00</td>\n",
       "      <td>10</td>\n",
       "      <td>50</td>\n",
       "      <td>10</td>\n",
       "      <td>10</td>\n",
       "      <td>50</td>\n",
       "      <td>50</td>\n",
       "      <td>10.0</td>\n",
       "      <td>50.0</td>\n",
       "      <td>3 months ago</td>\n",
       "      <td>t</td>\n",
       "      <td>3</td>\n",
       "      <td>3</td>\n",
       "      <td>5</td>\n",
       "      <td>232</td>\n",
       "      <td>2020-04-16</td>\n",
       "      <td>89</td>\n",
       "      <td>6</td>\n",
       "      <td>2009-12-21</td>\n",
       "      <td>2020-03-16</td>\n",
       "      <td>96</td>\n",
       "      <td>10</td>\n",
       "      <td>10</td>\n",
       "      <td>10</td>\n",
       "      <td>10</td>\n",
       "      <td>10</td>\n",
       "      <td>9</td>\n",
       "      <td>f</td>\n",
       "      <td>NaN</td>\n",
       "      <td>NaN</td>\n",
       "      <td>t</td>\n",
       "      <td>f</td>\n",
       "      <td>strict_14_with_grace_period</td>\n",
       "      <td>t</td>\n",
       "      <td>t</td>\n",
       "      <td>1</td>\n",
       "      <td>1</td>\n",
       "      <td>0</td>\n",
       "      <td>0</td>\n",
       "      <td>0.71</td>\n",
       "    </tr>\n",
       "    <tr>\n",
       "      <th>2</th>\n",
       "      <td>17402</td>\n",
       "      <td>https://www.airbnb.com/rooms/17402</td>\n",
       "      <td>20200414180850</td>\n",
       "      <td>2020-04-15</td>\n",
       "      <td>Superb 3-Bed/2 Bath &amp; Wifi: Trendy W1</td>\n",
       "      <td>You'll have a wonderful stay in this superb mo...</td>\n",
       "      <td>This is a wonderful very popular beautiful, sp...</td>\n",
       "      <td>You'll have a wonderful stay in this superb mo...</td>\n",
       "      <td>none</td>\n",
       "      <td>Location, location, location! You won't find b...</td>\n",
       "      <td>This property has new flooring throughout. Gue...</td>\n",
       "      <td>You can walk to tourist London or take numerou...</td>\n",
       "      <td>Full use of whole independent apartment</td>\n",
       "      <td>Always available by email or phone (before, du...</td>\n",
       "      <td>* The apartment benefits from new flooring thr...</td>\n",
       "      <td>NaN</td>\n",
       "      <td>NaN</td>\n",
       "      <td>https://a0.muscache.com/im/pictures/39d5309d-f...</td>\n",
       "      <td>NaN</td>\n",
       "      <td>67564</td>\n",
       "      <td>https://www.airbnb.com/users/show/67564</td>\n",
       "      <td>Liz</td>\n",
       "      <td>2010-01-04</td>\n",
       "      <td>London, England, United Kingdom</td>\n",
       "      <td>We are Liz and Jack.  We manage a number of ho...</td>\n",
       "      <td>within an hour</td>\n",
       "      <td>80%</td>\n",
       "      <td>94%</td>\n",
       "      <td>f</td>\n",
       "      <td>https://a0.muscache.com/im/users/67564/profile...</td>\n",
       "      <td>https://a0.muscache.com/im/users/67564/profile...</td>\n",
       "      <td>Fitzrovia</td>\n",
       "      <td>18</td>\n",
       "      <td>18</td>\n",
       "      <td>['email', 'phone', 'reviews', 'jumio', 'offlin...</td>\n",
       "      <td>t</td>\n",
       "      <td>t</td>\n",
       "      <td>London, Fitzrovia, United Kingdom</td>\n",
       "      <td>Fitzrovia</td>\n",
       "      <td>Westminster</td>\n",
       "      <td>NaN</td>\n",
       "      <td>London</td>\n",
       "      <td>Fitzrovia</td>\n",
       "      <td>W1T4BP</td>\n",
       "      <td>London</td>\n",
       "      <td>London, United Kingdom</td>\n",
       "      <td>GB</td>\n",
       "      <td>United Kingdom</td>\n",
       "      <td>51.52195</td>\n",
       "      <td>-0.14094</td>\n",
       "      <td>f</td>\n",
       "      <td>Apartment</td>\n",
       "      <td>Entire home/apt</td>\n",
       "      <td>6</td>\n",
       "      <td>2.0</td>\n",
       "      <td>3</td>\n",
       "      <td>3</td>\n",
       "      <td>Real Bed</td>\n",
       "      <td>{TV,Wifi,Kitchen,\"Paid parking off premises\",E...</td>\n",
       "      <td>NaN</td>\n",
       "      <td>$300.00</td>\n",
       "      <td>$1,378.00</td>\n",
       "      <td>NaN</td>\n",
       "      <td>$350.00</td>\n",
       "      <td>$90.00</td>\n",
       "      <td>3</td>\n",
       "      <td>$10.00</td>\n",
       "      <td>3</td>\n",
       "      <td>365</td>\n",
       "      <td>3</td>\n",
       "      <td>5</td>\n",
       "      <td>60</td>\n",
       "      <td>365</td>\n",
       "      <td>3.2</td>\n",
       "      <td>327.0</td>\n",
       "      <td>4 weeks ago</td>\n",
       "      <td>t</td>\n",
       "      <td>21</td>\n",
       "      <td>51</td>\n",
       "      <td>69</td>\n",
       "      <td>307</td>\n",
       "      <td>2020-04-15</td>\n",
       "      <td>42</td>\n",
       "      <td>3</td>\n",
       "      <td>2011-03-21</td>\n",
       "      <td>2019-11-02</td>\n",
       "      <td>94</td>\n",
       "      <td>10</td>\n",
       "      <td>9</td>\n",
       "      <td>9</td>\n",
       "      <td>9</td>\n",
       "      <td>10</td>\n",
       "      <td>9</td>\n",
       "      <td>f</td>\n",
       "      <td>NaN</td>\n",
       "      <td>NaN</td>\n",
       "      <td>t</td>\n",
       "      <td>f</td>\n",
       "      <td>strict_14_with_grace_period</td>\n",
       "      <td>f</td>\n",
       "      <td>f</td>\n",
       "      <td>15</td>\n",
       "      <td>15</td>\n",
       "      <td>0</td>\n",
       "      <td>0</td>\n",
       "      <td>0.38</td>\n",
       "    </tr>\n",
       "  </tbody>\n",
       "</table>\n",
       "</div>"
      ],
      "text/plain": [
       "      id                         listing_url       scrape_id last_scraped  \\\n",
       "0  13913  https://www.airbnb.com/rooms/13913  20200414180850   2020-04-16   \n",
       "1  15400  https://www.airbnb.com/rooms/15400  20200414180850   2020-04-16   \n",
       "2  17402  https://www.airbnb.com/rooms/17402  20200414180850   2020-04-15   \n",
       "\n",
       "                                    name  \\\n",
       "0    Holiday London DB Room Let-on going   \n",
       "1    Bright Chelsea  Apartment. Chelsea!   \n",
       "2  Superb 3-Bed/2 Bath & Wifi: Trendy W1   \n",
       "\n",
       "                                             summary  \\\n",
       "0  My bright double bedroom with a large window h...   \n",
       "1  Lots of windows and light.  St Luke's Gardens ...   \n",
       "2  You'll have a wonderful stay in this superb mo...   \n",
       "\n",
       "                                               space  \\\n",
       "0  Hello Everyone, I'm offering my lovely double ...   \n",
       "1  Bright Chelsea Apartment  This is a bright one...   \n",
       "2  This is a wonderful very popular beautiful, sp...   \n",
       "\n",
       "                                         description experiences_offered  \\\n",
       "0  My bright double bedroom with a large window h...            business   \n",
       "1  Lots of windows and light.  St Luke's Gardens ...            romantic   \n",
       "2  You'll have a wonderful stay in this superb mo...                none   \n",
       "\n",
       "                               neighborhood_overview  \\\n",
       "0  Finsbury Park is a friendly melting pot commun...   \n",
       "1                                     It is Chelsea.   \n",
       "2  Location, location, location! You won't find b...   \n",
       "\n",
       "                                               notes  \\\n",
       "0  For art lovers I can give guest my Tate Member...   \n",
       "1  The building next door is in the process of be...   \n",
       "2  This property has new flooring throughout. Gue...   \n",
       "\n",
       "                                             transit  \\\n",
       "0  The flat only a 10 minute walk to Finsbury Par...   \n",
       "1  The underground stations are South Kensington ...   \n",
       "2  You can walk to tourist London or take numerou...   \n",
       "\n",
       "                                              access  \\\n",
       "0  Guest will have access to the self catering ki...   \n",
       "1  There are two wardrobes for guests exclusive u...   \n",
       "2            Full use of whole independent apartment   \n",
       "\n",
       "                                         interaction  \\\n",
       "0  I like to have little chats with my guest over...   \n",
       "1  If I am in the country I like to welcome my gu...   \n",
       "2  Always available by email or phone (before, du...   \n",
       "\n",
       "                                         house_rules thumbnail_url medium_url  \\\n",
       "0  I'm an artist and have my artwork up on the wa...           NaN        NaN   \n",
       "1  NO SMOKING PLEASE.. No unauthorised guests. No...           NaN        NaN   \n",
       "2  * The apartment benefits from new flooring thr...           NaN        NaN   \n",
       "\n",
       "                                         picture_url xl_picture_url host_id  \\\n",
       "0  https://a0.muscache.com/im/pictures/ffb507b7-9...            NaN   54730   \n",
       "1  https://a0.muscache.com/im/pictures/428392/462...            NaN   60302   \n",
       "2  https://a0.muscache.com/im/pictures/39d5309d-f...            NaN   67564   \n",
       "\n",
       "                                  host_url host_name  host_since  \\\n",
       "0  https://www.airbnb.com/users/show/54730     Alina  2009-11-16   \n",
       "1  https://www.airbnb.com/users/show/60302  Philippa  2009-12-05   \n",
       "2  https://www.airbnb.com/users/show/67564       Liz  2010-01-04   \n",
       "\n",
       "                         host_location  \\\n",
       "0      London, England, United Kingdom   \n",
       "1  Kensington, England, United Kingdom   \n",
       "2      London, England, United Kingdom   \n",
       "\n",
       "                                          host_about  host_response_time  \\\n",
       "0  I am a Multi-Media Visual Artist and Creative ...  within a few hours   \n",
       "1  English, grandmother,  I have travelled quite ...        within a day   \n",
       "2  We are Liz and Jack.  We manage a number of ho...      within an hour   \n",
       "\n",
       "  host_response_rate host_acceptance_rate host_is_superhost  \\\n",
       "0                71%                  89%                 f   \n",
       "1                50%                  67%                 f   \n",
       "2                80%                  94%                 f   \n",
       "\n",
       "                                  host_thumbnail_url  \\\n",
       "0  https://a0.muscache.com/im/users/54730/profile...   \n",
       "1  https://a0.muscache.com/im/users/60302/profile...   \n",
       "2  https://a0.muscache.com/im/users/67564/profile...   \n",
       "\n",
       "                                    host_picture_url host_neighbourhood  \\\n",
       "0  https://a0.muscache.com/im/users/54730/profile...    LB of Islington   \n",
       "1  https://a0.muscache.com/im/users/60302/profile...            Chelsea   \n",
       "2  https://a0.muscache.com/im/users/67564/profile...          Fitzrovia   \n",
       "\n",
       "  host_listings_count host_total_listings_count  \\\n",
       "0                   4                         4   \n",
       "1                   1                         1   \n",
       "2                  18                        18   \n",
       "\n",
       "                                  host_verifications host_has_profile_pic  \\\n",
       "0  ['email', 'phone', 'facebook', 'reviews', 'off...                    t   \n",
       "1  ['email', 'phone', 'reviews', 'jumio', 'govern...                    t   \n",
       "2  ['email', 'phone', 'reviews', 'jumio', 'offlin...                    t   \n",
       "\n",
       "  host_identity_verified                                     street  \\\n",
       "0                      t  Islington, Greater London, United Kingdom   \n",
       "1                      t                     London, United Kingdom   \n",
       "2                      t          London, Fitzrovia, United Kingdom   \n",
       "\n",
       "     neighbourhood  neighbourhood_cleansed neighbourhood_group_cleansed  \\\n",
       "0  LB of Islington               Islington                          NaN   \n",
       "1          Chelsea  Kensington and Chelsea                          NaN   \n",
       "2        Fitzrovia             Westminster                          NaN   \n",
       "\n",
       "        city           state zipcode  market             smart_location  \\\n",
       "0  Islington  Greater London    N4 3  London  Islington, United Kingdom   \n",
       "1     London             NaN     SW3  London     London, United Kingdom   \n",
       "2     London       Fitzrovia  W1T4BP  London     London, United Kingdom   \n",
       "\n",
       "  country_code         country  latitude longitude is_location_exact  \\\n",
       "0           GB  United Kingdom  51.56802  -0.11121                 t   \n",
       "1           GB  United Kingdom  51.48796  -0.16898                 t   \n",
       "2           GB  United Kingdom  51.52195  -0.14094                 f   \n",
       "\n",
       "  property_type        room_type accommodates bathrooms bedrooms beds  \\\n",
       "0     Apartment     Private room            2       1.0        1    0   \n",
       "1     Apartment  Entire home/apt            2       1.0        1    1   \n",
       "2     Apartment  Entire home/apt            6       2.0        3    3   \n",
       "\n",
       "   bed_type                                          amenities square_feet  \\\n",
       "0  Real Bed  {TV,\"Cable TV\",Wifi,Kitchen,\"Paid parking off ...         538   \n",
       "1  Real Bed  {TV,\"Cable TV\",Internet,Wifi,\"Air conditioning...         NaN   \n",
       "2  Real Bed  {TV,Wifi,Kitchen,\"Paid parking off premises\",E...         NaN   \n",
       "\n",
       "     price weekly_price monthly_price security_deposit cleaning_fee  \\\n",
       "0   $65.00      $333.00     $1,176.00          $100.00       $15.00   \n",
       "1  $100.00      $600.00     $2,250.00          $150.00       $50.00   \n",
       "2  $300.00    $1,378.00           NaN          $350.00       $90.00   \n",
       "\n",
       "  guests_included extra_people minimum_nights maximum_nights  \\\n",
       "0               1       $15.00              1             29   \n",
       "1               2        $0.00             10             50   \n",
       "2               3       $10.00              3            365   \n",
       "\n",
       "  minimum_minimum_nights maximum_minimum_nights minimum_maximum_nights  \\\n",
       "0                      1                      1                     29   \n",
       "1                     10                     10                     50   \n",
       "2                      3                      5                     60   \n",
       "\n",
       "  maximum_maximum_nights minimum_nights_avg_ntm maximum_nights_avg_ntm  \\\n",
       "0                     29                    1.0                   29.0   \n",
       "1                     50                   10.0                   50.0   \n",
       "2                    365                    3.2                  327.0   \n",
       "\n",
       "  calendar_updated has_availability availability_30 availability_60  \\\n",
       "0    12 months ago                t              27              57   \n",
       "1     3 months ago                t               3               3   \n",
       "2      4 weeks ago                t              21              51   \n",
       "\n",
       "  availability_90 availability_365 calendar_last_scraped number_of_reviews  \\\n",
       "0              84              359            2020-04-16                21   \n",
       "1               5              232            2020-04-16                89   \n",
       "2              69              307            2020-04-15                42   \n",
       "\n",
       "  number_of_reviews_ltm first_review last_review review_scores_rating  \\\n",
       "0                     7   2010-08-18  2020-02-22                   97   \n",
       "1                     6   2009-12-21  2020-03-16                   96   \n",
       "2                     3   2011-03-21  2019-11-02                   94   \n",
       "\n",
       "  review_scores_accuracy review_scores_cleanliness review_scores_checkin  \\\n",
       "0                     10                        10                    10   \n",
       "1                     10                        10                    10   \n",
       "2                     10                         9                     9   \n",
       "\n",
       "  review_scores_communication review_scores_location review_scores_value  \\\n",
       "0                          10                      9                   9   \n",
       "1                          10                     10                   9   \n",
       "2                           9                     10                   9   \n",
       "\n",
       "  requires_license license jurisdiction_names instant_bookable  \\\n",
       "0                f     NaN                NaN                f   \n",
       "1                f     NaN                NaN                t   \n",
       "2                f     NaN                NaN                t   \n",
       "\n",
       "  is_business_travel_ready          cancellation_policy  \\\n",
       "0                        f                     moderate   \n",
       "1                        f  strict_14_with_grace_period   \n",
       "2                        f  strict_14_with_grace_period   \n",
       "\n",
       "  require_guest_profile_picture require_guest_phone_verification  \\\n",
       "0                             f                                f   \n",
       "1                             t                                t   \n",
       "2                             f                                f   \n",
       "\n",
       "  calculated_host_listings_count calculated_host_listings_count_entire_homes  \\\n",
       "0                              2                                           1   \n",
       "1                              1                                           1   \n",
       "2                             15                                          15   \n",
       "\n",
       "  calculated_host_listings_count_private_rooms  \\\n",
       "0                                            1   \n",
       "1                                            0   \n",
       "2                                            0   \n",
       "\n",
       "  calculated_host_listings_count_shared_rooms reviews_per_month  \n",
       "0                                           0              0.18  \n",
       "1                                           0              0.71  \n",
       "2                                           0              0.38  "
      ]
     },
     "execution_count": 5,
     "metadata": {},
     "output_type": "execute_result"
    }
   ],
   "source": [
    "pd.set_option('display.max_columns', None)\n",
    "\n",
    "# show listings data sample\n",
    "df_listings.head(3)"
   ]
  },
  {
   "cell_type": "code",
   "execution_count": 6,
   "metadata": {},
   "outputs": [
    {
     "data": {
      "text/plain": [
       "{'jurisdiction_names',\n",
       " 'license',\n",
       " 'medium_url',\n",
       " 'monthly_price',\n",
       " 'neighbourhood_group_cleansed',\n",
       " 'square_feet',\n",
       " 'thumbnail_url',\n",
       " 'weekly_price',\n",
       " 'xl_picture_url'}"
      ]
     },
     "execution_count": 6,
     "metadata": {},
     "output_type": "execute_result"
    }
   ],
   "source": [
    "set(df_listings.columns[df_listings.isnull().mean()>0.75])"
   ]
  },
  {
   "cell_type": "code",
   "execution_count": 7,
   "metadata": {},
   "outputs": [
    {
     "data": {
      "image/png": "[encoded data removed]",
      "text/plain": [
       "<Figure size 432x288 with 1 Axes>"
      ]
     },
     "metadata": {
      "needs_background": "light"
     },
     "output_type": "display_data"
    }
   ],
   "source": [
    "neighbourhood_vals = df_listings['property_type'].value_counts()\n",
    "\n",
    "# The below should be a bar chart of the proportion of individuals in each professional category if your status_vals\n",
    "# is set up correctly.\n",
    "\n",
    "(neighbourhood_vals[0:5]/df_listings.shape[0]).plot(kind=\"bar\");\n",
    "plt.title(\"Top 5 type of properties, that are most advertised\");"
   ]
  },
  {
   "cell_type": "code",
   "execution_count": 8,
   "metadata": {},
   "outputs": [
    {
     "data": {
      "image/png": "[encoded data removed]",
      "text/plain": [
       "<Figure size 432x288 with 1 Axes>"
      ]
     },
     "metadata": {
      "needs_background": "light"
     },
     "output_type": "display_data"
    }
   ],
   "source": [
    "room_vals = df_listings['room_type'].value_counts()\n",
    "\n",
    "# The below should be a bar chart of the proportion of individuals in each professional category if your status_vals\n",
    "# is set up correctly.\n",
    "\n",
    "(room_vals/df_listings.shape[0]).plot(kind=\"bar\");\n",
    "plt.title(\"The type of rooms, are most advertised\");"
   ]
  },
  {
   "cell_type": "markdown",
   "metadata": {},
   "source": [
    "## The Business Questions"
   ]
  },
  {
   "cell_type": "markdown",
   "metadata": {},
   "source": [
    "### What are Airbnb current challanges?"
   ]
  },
  {
   "cell_type": "markdown",
   "metadata": {},
   "source": [
    "### Question 1\n",
    "- What is the average price of the listings, for the different location within London?"
   ]
  },
  {
   "cell_type": "code",
   "execution_count": 9,
   "metadata": {},
   "outputs": [],
   "source": [
    "price_df = df_listings[df_listings['price'].isnull() == False]"
   ]
  },
  {
   "cell_type": "code",
   "execution_count": 10,
   "metadata": {},
   "outputs": [
    {
     "data": {
      "text/plain": [
       "(86358, 106)"
      ]
     },
     "execution_count": 10,
     "metadata": {},
     "output_type": "execute_result"
    }
   ],
   "source": [
    "price_df.shape"
   ]
  },
  {
   "cell_type": "code",
   "execution_count": 11,
   "metadata": {},
   "outputs": [
    {
     "data": {
      "text/plain": [
       "Westminster               9943\n",
       "Tower Hamlets             8321\n",
       "Camden                    6243\n",
       "Hackney                   6210\n",
       "Kensington and Chelsea    6079\n",
       "Islington                 5019\n",
       "Southwark                 4957\n",
       "Lambeth                   4881\n",
       "Wandsworth                4261\n",
       "Hammersmith and Fulham    4233\n",
       "Brent                     2605\n",
       "Lewisham                  2326\n",
       "Haringey                  2233\n",
       "Newham                    2071\n",
       "Ealing                    1790\n",
       "Greenwich                 1736\n",
       "Barnet                    1670\n",
       "Waltham Forest            1476\n",
       "Merton                    1364\n",
       "Richmond upon Thames      1217\n",
       "Hounslow                  1105\n",
       "Croydon                   1091\n",
       "Redbridge                  752\n",
       "Enfield                    710\n",
       "Hillingdon                 666\n",
       "Bromley                    654\n",
       "Kingston upon Thames       550\n",
       "City of London             491\n",
       "Harrow                     473\n",
       "Barking and Dagenham       396\n",
       "Sutton                     318\n",
       "Bexley                     261\n",
       "Havering                   256\n",
       "Name: neighbourhood_cleansed, dtype: int64"
      ]
     },
     "execution_count": 11,
     "metadata": {},
     "output_type": "execute_result"
    }
   ],
   "source": [
    "price_df['neighbourhood_cleansed'].value_counts()"
   ]
  },
  {
   "cell_type": "code",
   "execution_count": 12,
   "metadata": {},
   "outputs": [],
   "source": [
    "price_df['price'] = price_df['price'].str.replace('$', '', regex=True)\n",
    "price_df['price'] = price_df['price'].str.replace(',', '', regex=True)\n",
    "price_df['price'] = price_df['price'].astype(float)"
   ]
  },
  {
   "cell_type": "code",
   "execution_count": 13,
   "metadata": {},
   "outputs": [],
   "source": [
    "nb_price_avg = price_df.groupby('neighbourhood_cleansed', as_index=False).mean()\n",
    "nb_price_avg = pd.DataFrame(nb_price_avg).sort_values(by='price', ascending=False)"
   ]
  },
  {
   "cell_type": "code",
   "execution_count": 14,
   "metadata": {},
   "outputs": [],
   "source": [
    "nb_price_avg = nb_price_avg.rename(columns={'neighbourhood_cleansed':'Neighbourhood','price': 'Avg Price'})"
   ]
  },
  {
   "cell_type": "code",
   "execution_count": 15,
   "metadata": {},
   "outputs": [
    {
     "data": {
      "text/plain": [
       "[Text(0, 0, 'Westminster'),\n",
       " Text(0, 0, 'Kensington and Chelsea'),\n",
       " Text(0, 0, 'City of London'),\n",
       " Text(0, 0, 'Camden'),\n",
       " Text(0, 0, 'Hammersmith and Fulham'),\n",
       " Text(0, 0, 'Richmond upon Thames'),\n",
       " Text(0, 0, 'Wandsworth'),\n",
       " Text(0, 0, 'Southwark'),\n",
       " Text(0, 0, 'Islington'),\n",
       " Text(0, 0, 'Merton'),\n",
       " Text(0, 0, 'Hounslow'),\n",
       " Text(0, 0, 'Brent'),\n",
       " Text(0, 0, 'Lambeth'),\n",
       " Text(0, 0, 'Tower Hamlets'),\n",
       " Text(0, 0, 'Hackney'),\n",
       " Text(0, 0, 'Barnet'),\n",
       " Text(0, 0, 'Haringey'),\n",
       " Text(0, 0, 'Greenwich'),\n",
       " Text(0, 0, 'Ealing'),\n",
       " Text(0, 0, 'Sutton'),\n",
       " Text(0, 0, 'Newham'),\n",
       " Text(0, 0, 'Kingston upon Thames'),\n",
       " Text(0, 0, 'Harrow'),\n",
       " Text(0, 0, 'Waltham Forest'),\n",
       " Text(0, 0, 'Redbridge'),\n",
       " Text(0, 0, 'Lewisham'),\n",
       " Text(0, 0, 'Hillingdon'),\n",
       " Text(0, 0, 'Havering'),\n",
       " Text(0, 0, 'Enfield'),\n",
       " Text(0, 0, 'Bromley'),\n",
       " Text(0, 0, 'Barking and Dagenham'),\n",
       " Text(0, 0, 'Croydon'),\n",
       " Text(0, 0, 'Bexley')]"
      ]
     },
     "execution_count": 15,
     "metadata": {},
     "output_type": "execute_result"
    },
    {
     "data": {
      "image/png": "[encoded data removed]",
      "text/plain": [
       "<Figure size 720x360 with 1 Axes>"
      ]
     },
     "metadata": {
      "needs_background": "light"
     },
     "output_type": "display_data"
    }
   ],
   "source": [
    "plt.figure(figsize=(10,5))\n",
    "\n",
    "sns.set(style=\"whitegrid\")\n",
    "chart = sns.barplot(x=\"Neighbourhood\", y=\"Avg Price\", data=nb_price_avg)\n",
    "\n",
    "chart.set_xticklabels(\n",
    "    chart.get_xticklabels(), \n",
    "    rotation=60, \n",
    "    horizontalalignment='right',\n",
    "    fontweight='light',\n",
    "    fontsize='medium', \n",
    "    rotation_mode='anchor'\n",
    ")"
   ]
  },
  {
   "cell_type": "markdown",
   "metadata": {},
   "source": [
    "### Question 2\n",
    "\n",
    "- What types of verifications are hosts using? How long did it take them to respond?"
   ]
  },
  {
   "cell_type": "code",
   "execution_count": 49,
   "metadata": {},
   "outputs": [],
   "source": [
    "verifications_df = df_listings[df_listings['host_verifications'].isnull() == False]"
   ]
  },
  {
   "cell_type": "code",
   "execution_count": 50,
   "metadata": {},
   "outputs": [
    {
     "data": {
      "text/plain": [
       "(86358, 106)"
      ]
     },
     "execution_count": 50,
     "metadata": {},
     "output_type": "execute_result"
    }
   ],
   "source": [
    "verifications_df.shape"
   ]
  },
  {
   "cell_type": "code",
   "execution_count": 51,
   "metadata": {},
   "outputs": [],
   "source": [
    "verifications_df = verifications_df[verifications_df['host_verifications'] != '[]']"
   ]
  },
  {
   "cell_type": "code",
   "execution_count": 52,
   "metadata": {},
   "outputs": [
    {
     "data": {
      "text/plain": [
       "(86272, 106)"
      ]
     },
     "execution_count": 52,
     "metadata": {},
     "output_type": "execute_result"
    }
   ],
   "source": [
    "verifications_df.shape"
   ]
  },
  {
   "cell_type": "code",
   "execution_count": 53,
   "metadata": {},
   "outputs": [
    {
     "data": {
      "text/plain": [
       "['email', 'phone', 'reviews', 'jumio', 'government_id']                                                                           9206\n",
       "['email', 'phone']                                                                                                                8562\n",
       "['email', 'phone', 'reviews', 'jumio', 'offline_government_id', 'selfie', 'government_id', 'identity_manual']                     6470\n",
       "['email', 'phone', 'reviews']                                                                                                     5497\n",
       "['email', 'phone', 'offline_government_id', 'selfie', 'government_id', 'identity_manual']                                         4872\n",
       "                                                                                                                                  ... \n",
       "['phone', 'reviews', 'jumio']                                                                                                        1\n",
       "['email', 'google', 'reviews', 'jumio', 'offline_government_id', 'government_id', 'work_email']                                      1\n",
       "['phone', 'manual_online', 'reviews', 'manual_offline', 'offline_government_id', 'selfie', 'government_id', 'identity_manual']       1\n",
       "['email', 'reviews', 'jumio', 'offline_government_id', 'selfie', 'government_id', 'identity_manual', 'work_email']                   1\n",
       "['phone', 'facebook', 'reviews', 'offline_government_id', 'selfie', 'government_id', 'work_email']                                   1\n",
       "Name: host_verifications, Length: 545, dtype: int64"
      ]
     },
     "execution_count": 53,
     "metadata": {},
     "output_type": "execute_result"
    }
   ],
   "source": [
    "verifications_df['host_verifications'].value_counts()"
   ]
  },
  {
   "cell_type": "code",
   "execution_count": 66,
   "metadata": {},
   "outputs": [],
   "source": [
    "def verifications_types(column):\n",
    "    verifications_dict = {}\n",
    "    temp = []\n",
    "\n",
    "    for i in column:\n",
    "        temp.append(eval(i))\n",
    "    \n",
    "    for i in temp:\n",
    "        try:\n",
    "            for j in i:\n",
    "                if j not in verifications_types:\n",
    "                    verifications_dict[j] = 1\n",
    "                else:\n",
    "                    verifications_dict[j] += 1\n",
    "        except:\n",
    "            continue\n",
    "        \n",
    "verifications_types = verifications_types(verifications_df['host_verifications'])"
   ]
  },
  {
   "cell_type": "code",
   "execution_count": 78,
   "metadata": {},
   "outputs": [],
   "source": [
    "for k,v in verifications_types.items():\n",
    "    verifications_types[k] = round(v / verifications_df.shape[0] * 100, 3)"
   ]
  },
  {
   "cell_type": "code",
   "execution_count": 79,
   "metadata": {},
   "outputs": [
    {
     "data": {
      "text/plain": [
       "{'email': 0.0,\n",
       " 'phone': 0.0,\n",
       " 'facebook': 0.0,\n",
       " 'reviews': 0.0,\n",
       " 'offline_government_id': 0.0,\n",
       " 'selfie': 0.0,\n",
       " 'government_id': 0.0,\n",
       " 'jumio': 0.0,\n",
       " 'identity_manual': 0.0,\n",
       " 'work_email': 0.0,\n",
       " 'kba': 0.0,\n",
       " 'manual_offline': 0.0,\n",
       " 'manual_online': 0.0,\n",
       " 'google': 0.0,\n",
       " 'sent_id': 0.0,\n",
       " 'photographer': 0.0,\n",
       " 'weibo': 0.0,\n",
       " 'sesame': 0.0,\n",
       " 'sesame_offline': 0.0,\n",
       " 'zhima_selfie': 0.0}"
      ]
     },
     "execution_count": 79,
     "metadata": {},
     "output_type": "execute_result"
    }
   ],
   "source": [
    "verifications_types"
   ]
  },
  {
   "cell_type": "markdown",
   "metadata": {},
   "source": [
    "### Question 3\n",
    "- What features assist in obtaining a good review score? \n",
    "    - Could the score be predicted?\n",
    "    - importance of the features, rank features"
   ]
  },
  {
   "cell_type": "markdown",
   "metadata": {},
   "source": [
    "#### The Data Preparation"
   ]
  },
  {
   "cell_type": "code",
   "execution_count": null,
   "metadata": {},
   "outputs": [],
   "source": [
    "# Dropping columns that are not needed from the listings dataframe\n",
    "def drop_columns(words,df):\n",
    "    for word in words:\n",
    "        df = df.drop(df.filter(regex=word).columns, axis=1)\n",
    "    \n",
    "    return df\n",
    "\n",
    "column_words = ['url','scrape','jurisdiction_names','license','weekly_price','monthly_price',\n",
    "                'availability','square_feet','minimum','maximum','calculated','id']\n",
    "df_listings = drop_columns(column_words, df_listings)"
   ]
  },
  {
   "cell_type": "code",
   "execution_count": null,
   "metadata": {},
   "outputs": [],
   "source": [
    "df_listings.head(3)"
   ]
  },
  {
   "cell_type": "code",
   "execution_count": null,
   "metadata": {},
   "outputs": [],
   "source": [
    "df_listings = df_listings.dropna(subset=[\"review_scores_rating\"])"
   ]
  },
  {
   "cell_type": "code",
   "execution_count": null,
   "metadata": {},
   "outputs": [],
   "source": [
    "def change_to_int(df):\n",
    "    return df.astype('int64')\n",
    "\n",
    "df_listings[\"id\"] = change_to_int(df_listings[\"id\"])\n",
    "df_listings[\"review_scores_rating\"] = change_to_int(df_listings[\"review_scores_rating\"])\n",
    "df_listings[\"review_scores_rating\"] = change_to_int(df_listings[\"review_scores_rating\"])\n",
    "df_listings[\"review_scores_accuracy\"] = change_to_int(df_listings[\"review_scores_accuracy\"])\n",
    "df_listings[\"review_scores_cleanliness\"] = change_to_int(df_listings[\"review_scores_cleanliness\"])\n",
    "df_listings[\"review_scores_checkin\"] = change_to_int(df_listings[\"review_scores_checkin\"])\n",
    "df_listings[\"review_scores_communication\"] = change_to_int(df_listings[\"review_scores_communication\"])\n",
    "df_listings[\"review_scores_location\"] = change_to_int(df_listings[\"review_scores_location\"])\n",
    "df_listings[\"review_scores_rating\"] = change_to_int(df_listings[\"review_scores_value\"])"
   ]
  }
 ],
 "metadata": {
  "kernelspec": {
   "display_name": "Python 3",
   "language": "python",
   "name": "python3"
  },
  "language_info": {
   "codemirror_mode": {
    "name": "ipython",
    "version": 3
   },
   "file_extension": ".py",
   "mimetype": "text/x-python",
   "name": "python",
   "nbconvert_exporter": "python",
   "pygments_lexer": "ipython3",
   "version": "3.6.10"
  }
 },
 "nbformat": 4,
 "nbformat_minor": 2
}
