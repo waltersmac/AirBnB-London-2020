{
 "cells": [
  {
   "cell_type": "markdown",
   "metadata": {},
   "source": [
    "## Importing Libraries"
   ]
  },
  {
   "cell_type": "code",
   "execution_count": 1,
   "metadata": {},
   "outputs": [],
   "source": [
    "import os\n",
    "import sys\n",
    "import pickle\n",
    "import numpy as np\n",
    "import pandas as pd\n",
    "import matplotlib.pyplot as plt\n",
    "import seaborn as sns\n",
    "\n",
    "%matplotlib inline\n",
    "\n",
    "\n",
    "from sklearn.model_selection import train_test_split, cross_val_score, GridSearchCV\n",
    "from sklearn.ensemble import RandomForestRegressor, GradientBoostingRegressor\n",
    "from sklearn.linear_model import Ridge, LinearRegression\n",
    "from sklearn.tree import DecisionTreeRegressor\n",
    "from sklearn.svm import SVR\n",
    "from sklearn.metrics import mean_squared_error, r2_score\n",
    "from sklearn.pipeline import Pipeline\n",
    "from sklearn.impute import SimpleImputer\n",
    "from sklearn.preprocessing import StandardScaler\n",
    "from sklearn.preprocessing import OneHotEncoder"
   ]
  },
  {
   "cell_type": "markdown",
   "metadata": {},
   "source": [
    "### Importing the Data"
   ]
  },
  {
   "cell_type": "code",
   "execution_count": 2,
   "metadata": {},
   "outputs": [],
   "source": [
    "df_listings = pd.read_pickle('../data/processed/df_listings.pkl')"
   ]
  },
  {
   "cell_type": "markdown",
   "metadata": {},
   "source": [
    "## Data Modeling"
   ]
  },
  {
   "cell_type": "markdown",
   "metadata": {},
   "source": [
    "### What features assist in the pricing of a listing? \n",
    "- Could the price be predicted?\n",
    "- importance of the features, rank features"
   ]
  },
  {
   "cell_type": "markdown",
   "metadata": {},
   "source": [
    "### Preparing data"
   ]
  },
  {
   "cell_type": "code",
   "execution_count": 3,
   "metadata": {},
   "outputs": [
    {
     "data": {
      "text/html": [
       "<div>\n",
       "<style scoped>\n",
       "    .dataframe tbody tr th:only-of-type {\n",
       "        vertical-align: middle;\n",
       "    }\n",
       "\n",
       "    .dataframe tbody tr th {\n",
       "        vertical-align: top;\n",
       "    }\n",
       "\n",
       "    .dataframe thead th {\n",
       "        text-align: right;\n",
       "    }\n",
       "</style>\n",
       "<table border=\"1\" class=\"dataframe\">\n",
       "  <thead>\n",
       "    <tr style=\"text-align: right;\">\n",
       "      <th></th>\n",
       "      <th>id</th>\n",
       "      <th>listing_url</th>\n",
       "      <th>scrape_id</th>\n",
       "      <th>last_scraped</th>\n",
       "      <th>name</th>\n",
       "      <th>description</th>\n",
       "      <th>neighborhood_overview</th>\n",
       "      <th>picture_url</th>\n",
       "      <th>host_id</th>\n",
       "      <th>host_url</th>\n",
       "      <th>host_name</th>\n",
       "      <th>host_since</th>\n",
       "      <th>host_location</th>\n",
       "      <th>host_about</th>\n",
       "      <th>host_response_time</th>\n",
       "      <th>host_response_rate</th>\n",
       "      <th>host_acceptance_rate</th>\n",
       "      <th>host_is_superhost</th>\n",
       "      <th>host_thumbnail_url</th>\n",
       "      <th>host_picture_url</th>\n",
       "      <th>host_neighbourhood</th>\n",
       "      <th>host_listings_count</th>\n",
       "      <th>host_total_listings_count</th>\n",
       "      <th>host_verifications</th>\n",
       "      <th>host_has_profile_pic</th>\n",
       "      <th>host_identity_verified</th>\n",
       "      <th>neighbourhood</th>\n",
       "      <th>neighbourhood_cleansed</th>\n",
       "      <th>neighbourhood_group_cleansed</th>\n",
       "      <th>latitude</th>\n",
       "      <th>longitude</th>\n",
       "      <th>property_type</th>\n",
       "      <th>room_type</th>\n",
       "      <th>accommodates</th>\n",
       "      <th>bathrooms</th>\n",
       "      <th>bathrooms_text</th>\n",
       "      <th>bedrooms</th>\n",
       "      <th>beds</th>\n",
       "      <th>amenities</th>\n",
       "      <th>price</th>\n",
       "      <th>minimum_nights</th>\n",
       "      <th>maximum_nights</th>\n",
       "      <th>minimum_minimum_nights</th>\n",
       "      <th>maximum_minimum_nights</th>\n",
       "      <th>minimum_maximum_nights</th>\n",
       "      <th>maximum_maximum_nights</th>\n",
       "      <th>minimum_nights_avg_ntm</th>\n",
       "      <th>maximum_nights_avg_ntm</th>\n",
       "      <th>calendar_updated</th>\n",
       "      <th>has_availability</th>\n",
       "      <th>availability_30</th>\n",
       "      <th>availability_60</th>\n",
       "      <th>availability_90</th>\n",
       "      <th>availability_365</th>\n",
       "      <th>calendar_last_scraped</th>\n",
       "      <th>number_of_reviews</th>\n",
       "      <th>number_of_reviews_ltm</th>\n",
       "      <th>number_of_reviews_l30d</th>\n",
       "      <th>first_review</th>\n",
       "      <th>last_review</th>\n",
       "      <th>review_scores_rating</th>\n",
       "      <th>review_scores_accuracy</th>\n",
       "      <th>review_scores_cleanliness</th>\n",
       "      <th>review_scores_checkin</th>\n",
       "      <th>review_scores_communication</th>\n",
       "      <th>review_scores_location</th>\n",
       "      <th>review_scores_value</th>\n",
       "      <th>license</th>\n",
       "      <th>instant_bookable</th>\n",
       "      <th>calculated_host_listings_count</th>\n",
       "      <th>calculated_host_listings_count_entire_homes</th>\n",
       "      <th>calculated_host_listings_count_private_rooms</th>\n",
       "      <th>calculated_host_listings_count_shared_rooms</th>\n",
       "      <th>reviews_per_month</th>\n",
       "    </tr>\n",
       "  </thead>\n",
       "  <tbody>\n",
       "    <tr>\n",
       "      <th>0</th>\n",
       "      <td>11551</td>\n",
       "      <td>https://www.airbnb.com/rooms/11551</td>\n",
       "      <td>20201216161425</td>\n",
       "      <td>2021-01-04</td>\n",
       "      <td>Arty and Bright London Apartment in Zone 2</td>\n",
       "      <td>Unlike most rental apartments out there my fla...</td>\n",
       "      <td>Not even 10 minutes by metro from Victoria Sta...</td>\n",
       "      <td>https://a0.muscache.com/pictures/b7afccf4-18e5...</td>\n",
       "      <td>43039</td>\n",
       "      <td>https://www.airbnb.com/users/show/43039</td>\n",
       "      <td>Adriano</td>\n",
       "      <td>2009-10-03</td>\n",
       "      <td>London, England, United Kingdom</td>\n",
       "      <td>Hello, I'm a friendly Italian man with a very ...</td>\n",
       "      <td>within an hour</td>\n",
       "      <td>1.0</td>\n",
       "      <td>0.90</td>\n",
       "      <td>f</td>\n",
       "      <td>https://a0.muscache.com/im/pictures/user/47773...</td>\n",
       "      <td>https://a0.muscache.com/im/pictures/user/47773...</td>\n",
       "      <td>Brixton</td>\n",
       "      <td>3.0</td>\n",
       "      <td>3.0</td>\n",
       "      <td>['email', 'phone', 'reviews', 'jumio', 'offlin...</td>\n",
       "      <td>t</td>\n",
       "      <td>t</td>\n",
       "      <td>London, United Kingdom</td>\n",
       "      <td>Lambeth</td>\n",
       "      <td>NaN</td>\n",
       "      <td>51.46225</td>\n",
       "      <td>-0.11732</td>\n",
       "      <td>Entire apartment</td>\n",
       "      <td>Entire home/apt</td>\n",
       "      <td>4</td>\n",
       "      <td>NaN</td>\n",
       "      <td>1.0</td>\n",
       "      <td>1.0</td>\n",
       "      <td>3.0</td>\n",
       "      <td>[\"Refrigerator\", \"Kitchen\", \"Crib\", \"Dedicated...</td>\n",
       "      <td>105.0</td>\n",
       "      <td>2</td>\n",
       "      <td>1125</td>\n",
       "      <td>2.0</td>\n",
       "      <td>2.0</td>\n",
       "      <td>1125.0</td>\n",
       "      <td>1125.0</td>\n",
       "      <td>2.0</td>\n",
       "      <td>1125.0</td>\n",
       "      <td>NaN</td>\n",
       "      <td>t</td>\n",
       "      <td>3</td>\n",
       "      <td>33</td>\n",
       "      <td>63</td>\n",
       "      <td>338</td>\n",
       "      <td>2021-01-04</td>\n",
       "      <td>192</td>\n",
       "      <td>6</td>\n",
       "      <td>0</td>\n",
       "      <td>2010-03-21</td>\n",
       "      <td>2020-03-26</td>\n",
       "      <td>91.0</td>\n",
       "      <td>9.0</td>\n",
       "      <td>9.0</td>\n",
       "      <td>10.0</td>\n",
       "      <td>10.0</td>\n",
       "      <td>9.0</td>\n",
       "      <td>9.0</td>\n",
       "      <td>NaN</td>\n",
       "      <td>t</td>\n",
       "      <td>2</td>\n",
       "      <td>2</td>\n",
       "      <td>0</td>\n",
       "      <td>0</td>\n",
       "      <td>1.46</td>\n",
       "    </tr>\n",
       "    <tr>\n",
       "      <th>1</th>\n",
       "      <td>13913</td>\n",
       "      <td>https://www.airbnb.com/rooms/13913</td>\n",
       "      <td>20201216161425</td>\n",
       "      <td>2020-12-18</td>\n",
       "      <td>Holiday London DB Room Let-on going</td>\n",
       "      <td>My bright double bedroom with a large window h...</td>\n",
       "      <td>Finsbury Park is a friendly melting pot commun...</td>\n",
       "      <td>https://a0.muscache.com/pictures/miso/Hosting-...</td>\n",
       "      <td>54730</td>\n",
       "      <td>https://www.airbnb.com/users/show/54730</td>\n",
       "      <td>Alina</td>\n",
       "      <td>2009-11-16</td>\n",
       "      <td>London, England, United Kingdom</td>\n",
       "      <td>I am a Multi-Media Visual Artist and Creative ...</td>\n",
       "      <td>within a few hours</td>\n",
       "      <td>1.0</td>\n",
       "      <td>0.75</td>\n",
       "      <td>f</td>\n",
       "      <td>https://a0.muscache.com/im/users/54730/profile...</td>\n",
       "      <td>https://a0.muscache.com/im/users/54730/profile...</td>\n",
       "      <td>LB of Islington</td>\n",
       "      <td>3.0</td>\n",
       "      <td>3.0</td>\n",
       "      <td>['email', 'phone', 'facebook', 'reviews', 'off...</td>\n",
       "      <td>t</td>\n",
       "      <td>t</td>\n",
       "      <td>Islington, Greater London, United Kingdom</td>\n",
       "      <td>Islington</td>\n",
       "      <td>NaN</td>\n",
       "      <td>51.56802</td>\n",
       "      <td>-0.11121</td>\n",
       "      <td>Private room in apartment</td>\n",
       "      <td>Private room</td>\n",
       "      <td>2</td>\n",
       "      <td>NaN</td>\n",
       "      <td>1.0</td>\n",
       "      <td>1.0</td>\n",
       "      <td>0.0</td>\n",
       "      <td>[\"Long term stays allowed\", \"Lock on bedroom d...</td>\n",
       "      <td>40.0</td>\n",
       "      <td>1</td>\n",
       "      <td>29</td>\n",
       "      <td>1.0</td>\n",
       "      <td>1.0</td>\n",
       "      <td>29.0</td>\n",
       "      <td>29.0</td>\n",
       "      <td>1.0</td>\n",
       "      <td>29.0</td>\n",
       "      <td>NaN</td>\n",
       "      <td>t</td>\n",
       "      <td>30</td>\n",
       "      <td>60</td>\n",
       "      <td>90</td>\n",
       "      <td>365</td>\n",
       "      <td>2020-12-18</td>\n",
       "      <td>21</td>\n",
       "      <td>1</td>\n",
       "      <td>0</td>\n",
       "      <td>2010-08-18</td>\n",
       "      <td>2020-02-22</td>\n",
       "      <td>97.0</td>\n",
       "      <td>10.0</td>\n",
       "      <td>10.0</td>\n",
       "      <td>10.0</td>\n",
       "      <td>10.0</td>\n",
       "      <td>9.0</td>\n",
       "      <td>9.0</td>\n",
       "      <td>NaN</td>\n",
       "      <td>f</td>\n",
       "      <td>2</td>\n",
       "      <td>1</td>\n",
       "      <td>1</td>\n",
       "      <td>0</td>\n",
       "      <td>0.17</td>\n",
       "    </tr>\n",
       "    <tr>\n",
       "      <th>2</th>\n",
       "      <td>15400</td>\n",
       "      <td>https://www.airbnb.com/rooms/15400</td>\n",
       "      <td>20201216161425</td>\n",
       "      <td>2020-12-28</td>\n",
       "      <td>Bright Chelsea  Apartment. Chelsea!</td>\n",
       "      <td>Lots of windows and light.  St Luke's Gardens ...</td>\n",
       "      <td>It is Chelsea.</td>\n",
       "      <td>https://a0.muscache.com/pictures/428392/462d26...</td>\n",
       "      <td>60302</td>\n",
       "      <td>https://www.airbnb.com/users/show/60302</td>\n",
       "      <td>Philippa</td>\n",
       "      <td>2009-12-05</td>\n",
       "      <td>Kensington, England, United Kingdom</td>\n",
       "      <td>English, grandmother,  I have travelled quite ...</td>\n",
       "      <td>NaN</td>\n",
       "      <td>NaN</td>\n",
       "      <td>1.00</td>\n",
       "      <td>f</td>\n",
       "      <td>https://a0.muscache.com/im/users/60302/profile...</td>\n",
       "      <td>https://a0.muscache.com/im/users/60302/profile...</td>\n",
       "      <td>Chelsea</td>\n",
       "      <td>1.0</td>\n",
       "      <td>1.0</td>\n",
       "      <td>['email', 'phone', 'reviews', 'jumio', 'govern...</td>\n",
       "      <td>t</td>\n",
       "      <td>t</td>\n",
       "      <td>London, United Kingdom</td>\n",
       "      <td>Kensington and Chelsea</td>\n",
       "      <td>NaN</td>\n",
       "      <td>51.48796</td>\n",
       "      <td>-0.16898</td>\n",
       "      <td>Entire apartment</td>\n",
       "      <td>Entire home/apt</td>\n",
       "      <td>2</td>\n",
       "      <td>NaN</td>\n",
       "      <td>1.0</td>\n",
       "      <td>1.0</td>\n",
       "      <td>1.0</td>\n",
       "      <td>[\"Refrigerator\", \"Wifi\", \"Heating\", \"Dishes an...</td>\n",
       "      <td>75.0</td>\n",
       "      <td>10</td>\n",
       "      <td>50</td>\n",
       "      <td>10.0</td>\n",
       "      <td>10.0</td>\n",
       "      <td>50.0</td>\n",
       "      <td>50.0</td>\n",
       "      <td>10.0</td>\n",
       "      <td>50.0</td>\n",
       "      <td>NaN</td>\n",
       "      <td>t</td>\n",
       "      <td>29</td>\n",
       "      <td>59</td>\n",
       "      <td>62</td>\n",
       "      <td>189</td>\n",
       "      <td>2020-12-28</td>\n",
       "      <td>89</td>\n",
       "      <td>1</td>\n",
       "      <td>0</td>\n",
       "      <td>2009-12-21</td>\n",
       "      <td>2020-03-16</td>\n",
       "      <td>96.0</td>\n",
       "      <td>10.0</td>\n",
       "      <td>10.0</td>\n",
       "      <td>10.0</td>\n",
       "      <td>10.0</td>\n",
       "      <td>10.0</td>\n",
       "      <td>9.0</td>\n",
       "      <td>NaN</td>\n",
       "      <td>t</td>\n",
       "      <td>1</td>\n",
       "      <td>1</td>\n",
       "      <td>0</td>\n",
       "      <td>0</td>\n",
       "      <td>0.66</td>\n",
       "    </tr>\n",
       "  </tbody>\n",
       "</table>\n",
       "</div>"
      ],
      "text/plain": [
       "      id                         listing_url       scrape_id last_scraped  \\\n",
       "0  11551  https://www.airbnb.com/rooms/11551  20201216161425   2021-01-04   \n",
       "1  13913  https://www.airbnb.com/rooms/13913  20201216161425   2020-12-18   \n",
       "2  15400  https://www.airbnb.com/rooms/15400  20201216161425   2020-12-28   \n",
       "\n",
       "                                         name  \\\n",
       "0  Arty and Bright London Apartment in Zone 2   \n",
       "1         Holiday London DB Room Let-on going   \n",
       "2         Bright Chelsea  Apartment. Chelsea!   \n",
       "\n",
       "                                         description  \\\n",
       "0  Unlike most rental apartments out there my fla...   \n",
       "1  My bright double bedroom with a large window h...   \n",
       "2  Lots of windows and light.  St Luke's Gardens ...   \n",
       "\n",
       "                               neighborhood_overview  \\\n",
       "0  Not even 10 minutes by metro from Victoria Sta...   \n",
       "1  Finsbury Park is a friendly melting pot commun...   \n",
       "2                                     It is Chelsea.   \n",
       "\n",
       "                                         picture_url  host_id  \\\n",
       "0  https://a0.muscache.com/pictures/b7afccf4-18e5...    43039   \n",
       "1  https://a0.muscache.com/pictures/miso/Hosting-...    54730   \n",
       "2  https://a0.muscache.com/pictures/428392/462d26...    60302   \n",
       "\n",
       "                                  host_url host_name  host_since  \\\n",
       "0  https://www.airbnb.com/users/show/43039   Adriano  2009-10-03   \n",
       "1  https://www.airbnb.com/users/show/54730     Alina  2009-11-16   \n",
       "2  https://www.airbnb.com/users/show/60302  Philippa  2009-12-05   \n",
       "\n",
       "                         host_location  \\\n",
       "0      London, England, United Kingdom   \n",
       "1      London, England, United Kingdom   \n",
       "2  Kensington, England, United Kingdom   \n",
       "\n",
       "                                          host_about  host_response_time  \\\n",
       "0  Hello, I'm a friendly Italian man with a very ...      within an hour   \n",
       "1  I am a Multi-Media Visual Artist and Creative ...  within a few hours   \n",
       "2  English, grandmother,  I have travelled quite ...                 NaN   \n",
       "\n",
       "   host_response_rate  host_acceptance_rate host_is_superhost  \\\n",
       "0                 1.0                  0.90                 f   \n",
       "1                 1.0                  0.75                 f   \n",
       "2                 NaN                  1.00                 f   \n",
       "\n",
       "                                  host_thumbnail_url  \\\n",
       "0  https://a0.muscache.com/im/pictures/user/47773...   \n",
       "1  https://a0.muscache.com/im/users/54730/profile...   \n",
       "2  https://a0.muscache.com/im/users/60302/profile...   \n",
       "\n",
       "                                    host_picture_url host_neighbourhood  \\\n",
       "0  https://a0.muscache.com/im/pictures/user/47773...            Brixton   \n",
       "1  https://a0.muscache.com/im/users/54730/profile...    LB of Islington   \n",
       "2  https://a0.muscache.com/im/users/60302/profile...            Chelsea   \n",
       "\n",
       "   host_listings_count  host_total_listings_count  \\\n",
       "0                  3.0                        3.0   \n",
       "1                  3.0                        3.0   \n",
       "2                  1.0                        1.0   \n",
       "\n",
       "                                  host_verifications host_has_profile_pic  \\\n",
       "0  ['email', 'phone', 'reviews', 'jumio', 'offlin...                    t   \n",
       "1  ['email', 'phone', 'facebook', 'reviews', 'off...                    t   \n",
       "2  ['email', 'phone', 'reviews', 'jumio', 'govern...                    t   \n",
       "\n",
       "  host_identity_verified                              neighbourhood  \\\n",
       "0                      t                     London, United Kingdom   \n",
       "1                      t  Islington, Greater London, United Kingdom   \n",
       "2                      t                     London, United Kingdom   \n",
       "\n",
       "   neighbourhood_cleansed  neighbourhood_group_cleansed  latitude  longitude  \\\n",
       "0                 Lambeth                           NaN  51.46225   -0.11732   \n",
       "1               Islington                           NaN  51.56802   -0.11121   \n",
       "2  Kensington and Chelsea                           NaN  51.48796   -0.16898   \n",
       "\n",
       "               property_type        room_type  accommodates  bathrooms  \\\n",
       "0           Entire apartment  Entire home/apt             4        NaN   \n",
       "1  Private room in apartment     Private room             2        NaN   \n",
       "2           Entire apartment  Entire home/apt             2        NaN   \n",
       "\n",
       "   bathrooms_text  bedrooms  beds  \\\n",
       "0             1.0       1.0   3.0   \n",
       "1             1.0       1.0   0.0   \n",
       "2             1.0       1.0   1.0   \n",
       "\n",
       "                                           amenities  price  minimum_nights  \\\n",
       "0  [\"Refrigerator\", \"Kitchen\", \"Crib\", \"Dedicated...  105.0               2   \n",
       "1  [\"Long term stays allowed\", \"Lock on bedroom d...   40.0               1   \n",
       "2  [\"Refrigerator\", \"Wifi\", \"Heating\", \"Dishes an...   75.0              10   \n",
       "\n",
       "   maximum_nights  minimum_minimum_nights  maximum_minimum_nights  \\\n",
       "0            1125                     2.0                     2.0   \n",
       "1              29                     1.0                     1.0   \n",
       "2              50                    10.0                    10.0   \n",
       "\n",
       "   minimum_maximum_nights  maximum_maximum_nights  minimum_nights_avg_ntm  \\\n",
       "0                  1125.0                  1125.0                     2.0   \n",
       "1                    29.0                    29.0                     1.0   \n",
       "2                    50.0                    50.0                    10.0   \n",
       "\n",
       "   maximum_nights_avg_ntm  calendar_updated has_availability  availability_30  \\\n",
       "0                  1125.0               NaN                t                3   \n",
       "1                    29.0               NaN                t               30   \n",
       "2                    50.0               NaN                t               29   \n",
       "\n",
       "   availability_60  availability_90  availability_365 calendar_last_scraped  \\\n",
       "0               33               63               338            2021-01-04   \n",
       "1               60               90               365            2020-12-18   \n",
       "2               59               62               189            2020-12-28   \n",
       "\n",
       "   number_of_reviews  number_of_reviews_ltm  number_of_reviews_l30d  \\\n",
       "0                192                      6                       0   \n",
       "1                 21                      1                       0   \n",
       "2                 89                      1                       0   \n",
       "\n",
       "  first_review last_review  review_scores_rating  review_scores_accuracy  \\\n",
       "0   2010-03-21  2020-03-26                  91.0                     9.0   \n",
       "1   2010-08-18  2020-02-22                  97.0                    10.0   \n",
       "2   2009-12-21  2020-03-16                  96.0                    10.0   \n",
       "\n",
       "   review_scores_cleanliness  review_scores_checkin  \\\n",
       "0                        9.0                   10.0   \n",
       "1                       10.0                   10.0   \n",
       "2                       10.0                   10.0   \n",
       "\n",
       "   review_scores_communication  review_scores_location  review_scores_value  \\\n",
       "0                         10.0                     9.0                  9.0   \n",
       "1                         10.0                     9.0                  9.0   \n",
       "2                         10.0                    10.0                  9.0   \n",
       "\n",
       "   license instant_bookable  calculated_host_listings_count  \\\n",
       "0      NaN                t                               2   \n",
       "1      NaN                f                               2   \n",
       "2      NaN                t                               1   \n",
       "\n",
       "   calculated_host_listings_count_entire_homes  \\\n",
       "0                                            2   \n",
       "1                                            1   \n",
       "2                                            1   \n",
       "\n",
       "   calculated_host_listings_count_private_rooms  \\\n",
       "0                                             0   \n",
       "1                                             1   \n",
       "2                                             0   \n",
       "\n",
       "   calculated_host_listings_count_shared_rooms  reviews_per_month  \n",
       "0                                            0               1.46  \n",
       "1                                            0               0.17  \n",
       "2                                            0               0.66  "
      ]
     },
     "execution_count": 3,
     "metadata": {},
     "output_type": "execute_result"
    }
   ],
   "source": [
    "pd.set_option('display.max_columns', None)\n",
    "\n",
    "df_listings.head(3)"
   ]
  },
  {
   "cell_type": "code",
   "execution_count": 4,
   "metadata": {},
   "outputs": [
    {
     "name": "stdout",
     "output_type": "stream",
     "text": [
      "<class 'pandas.core.frame.DataFrame'>\n",
      "RangeIndex: 71823 entries, 0 to 71822\n",
      "Data columns (total 74 columns):\n",
      " #   Column                                        Non-Null Count  Dtype  \n",
      "---  ------                                        --------------  -----  \n",
      " 0   id                                            71823 non-null  int64  \n",
      " 1   listing_url                                   71823 non-null  object \n",
      " 2   scrape_id                                     71823 non-null  int64  \n",
      " 3   last_scraped                                  71823 non-null  object \n",
      " 4   name                                          71800 non-null  object \n",
      " 5   description                                   68994 non-null  object \n",
      " 6   neighborhood_overview                         43797 non-null  object \n",
      " 7   picture_url                                   71823 non-null  object \n",
      " 8   host_id                                       71823 non-null  int64  \n",
      " 9   host_url                                      71823 non-null  object \n",
      " 10  host_name                                     71782 non-null  object \n",
      " 11  host_since                                    71782 non-null  object \n",
      " 12  host_location                                 71613 non-null  object \n",
      " 13  host_about                                    39706 non-null  object \n",
      " 14  host_response_time                            33526 non-null  object \n",
      " 15  host_response_rate                            33526 non-null  float64\n",
      " 16  host_acceptance_rate                          41992 non-null  float64\n",
      " 17  host_is_superhost                             71782 non-null  object \n",
      " 18  host_thumbnail_url                            71782 non-null  object \n",
      " 19  host_picture_url                              71782 non-null  object \n",
      " 20  host_neighbourhood                            54050 non-null  object \n",
      " 21  host_listings_count                           71782 non-null  float64\n",
      " 22  host_total_listings_count                     71782 non-null  float64\n",
      " 23  host_verifications                            71823 non-null  object \n",
      " 24  host_has_profile_pic                          71782 non-null  object \n",
      " 25  host_identity_verified                        71782 non-null  object \n",
      " 26  neighbourhood                                 43798 non-null  object \n",
      " 27  neighbourhood_cleansed                        71823 non-null  object \n",
      " 28  neighbourhood_group_cleansed                  0 non-null      float64\n",
      " 29  latitude                                      71823 non-null  float64\n",
      " 30  longitude                                     71823 non-null  float64\n",
      " 31  property_type                                 71823 non-null  object \n",
      " 32  room_type                                     71823 non-null  object \n",
      " 33  accommodates                                  71823 non-null  int64  \n",
      " 34  bathrooms                                     0 non-null      float64\n",
      " 35  bathrooms_text                                71650 non-null  float64\n",
      " 36  bedrooms                                      67112 non-null  float64\n",
      " 37  beds                                          70716 non-null  float64\n",
      " 38  amenities                                     71823 non-null  object \n",
      " 39  price                                         71823 non-null  float64\n",
      " 40  minimum_nights                                71823 non-null  int64  \n",
      " 41  maximum_nights                                71823 non-null  int64  \n",
      " 42  minimum_minimum_nights                        71822 non-null  float64\n",
      " 43  maximum_minimum_nights                        71822 non-null  float64\n",
      " 44  minimum_maximum_nights                        71822 non-null  float64\n",
      " 45  maximum_maximum_nights                        71822 non-null  float64\n",
      " 46  minimum_nights_avg_ntm                        71822 non-null  float64\n",
      " 47  maximum_nights_avg_ntm                        71822 non-null  float64\n",
      " 48  calendar_updated                              0 non-null      float64\n",
      " 49  has_availability                              71823 non-null  object \n",
      " 50  availability_30                               71823 non-null  int64  \n",
      " 51  availability_60                               71823 non-null  int64  \n",
      " 52  availability_90                               71823 non-null  int64  \n",
      " 53  availability_365                              71823 non-null  int64  \n",
      " 54  calendar_last_scraped                         71823 non-null  object \n",
      " 55  number_of_reviews                             71823 non-null  int64  \n",
      " 56  number_of_reviews_ltm                         71823 non-null  int64  \n",
      " 57  number_of_reviews_l30d                        71823 non-null  int64  \n",
      " 58  first_review                                  51726 non-null  object \n",
      " 59  last_review                                   51726 non-null  object \n",
      " 60  review_scores_rating                          50081 non-null  float64\n",
      " 61  review_scores_accuracy                        50028 non-null  float64\n",
      " 62  review_scores_cleanliness                     50036 non-null  float64\n",
      " 63  review_scores_checkin                         49982 non-null  float64\n",
      " 64  review_scores_communication                   50029 non-null  float64\n",
      " 65  review_scores_location                        49983 non-null  float64\n",
      " 66  review_scores_value                           49982 non-null  float64\n",
      " 67  license                                       0 non-null      float64\n",
      " 68  instant_bookable                              71823 non-null  object \n",
      " 69  calculated_host_listings_count                71823 non-null  int64  \n",
      " 70  calculated_host_listings_count_entire_homes   71823 non-null  int64  \n",
      " 71  calculated_host_listings_count_private_rooms  71823 non-null  int64  \n",
      " 72  calculated_host_listings_count_shared_rooms   71823 non-null  int64  \n",
      " 73  reviews_per_month                             51726 non-null  float64\n",
      "dtypes: float64(28), int64(17), object(29)\n",
      "memory usage: 40.5+ MB\n"
     ]
    }
   ],
   "source": [
    "df_listings.info()"
   ]
  },
  {
   "cell_type": "markdown",
   "metadata": {},
   "source": [
    "#### Removing Features"
   ]
  },
  {
   "cell_type": "code",
   "execution_count": 5,
   "metadata": {},
   "outputs": [],
   "source": [
    "def drop_columns(df):\n",
    "    \n",
    "    # Dropping Columns that aren't needed\n",
    "    regex_list = ['url','scrape','first_review','last_review','cancellation_policy', 'maximum', \n",
    "                  'minimum', 'host','requires']\n",
    "    for i in regex_list:\n",
    "        df = df[df.columns.drop(list(df.filter(regex=i)))]\n",
    "        \n",
    "    df = df.drop(columns=['name','id','description','neighborhood_overview','latitude',\n",
    "                          'longitude','neighbourhood','calendar_updated'])\n",
    "    \n",
    "    # remove columns with 70% or high with missing data\n",
    "    col_nulls = set(df.columns[df.isnull().mean()>0.70])\n",
    "    df = df.drop(list(col_nulls), axis=1)\n",
    "    \n",
    "    return df\n",
    "\n",
    "df_listings = drop_columns(df_listings)"
   ]
  },
  {
   "cell_type": "code",
   "execution_count": 6,
   "metadata": {},
   "outputs": [],
   "source": [
    "#df = df[df['bathrooms_text'].notna()]\n",
    "df_listings.rename(columns={'bathrooms_text': 'bathrooms_shared'}, inplace=True)"
   ]
  },
  {
   "cell_type": "markdown",
   "metadata": {},
   "source": [
    "#### Feature Engineering"
   ]
  },
  {
   "cell_type": "code",
   "execution_count": 7,
   "metadata": {},
   "outputs": [
    {
     "data": {
      "text/plain": [
       "<matplotlib.axes._subplots.AxesSubplot at 0x7f4818c874d0>"
      ]
     },
     "execution_count": 7,
     "metadata": {},
     "output_type": "execute_result"
    },
    {
     "data": {
      "image/png": "[encoded data removed]",
      "text/plain": [
       "<Figure size 1080x720 with 2 Axes>"
      ]
     },
     "metadata": {
      "needs_background": "light"
     },
     "output_type": "display_data"
    }
   ],
   "source": [
    "# calculate the correlation matrix\n",
    "corr = df_listings.corr()\n",
    "\n",
    "plt.figure(figsize = (15,10))\n",
    "\n",
    "# plot the heatmap\n",
    "sns.heatmap(corr, \n",
    "        xticklabels=corr.columns,\n",
    "        yticklabels=corr.columns)"
   ]
  },
  {
   "cell_type": "code",
   "execution_count": 8,
   "metadata": {},
   "outputs": [],
   "source": [
    "#df_listings = df_listings[['neighbourhood_cleansed','property_type', 'room_type', 'bathrooms_shared', \n",
    "#             'has_availability','instant_bookable', 'bedrooms', 'beds', 'amenities','price']]"
   ]
  },
  {
   "cell_type": "code",
   "execution_count": 9,
   "metadata": {},
   "outputs": [
    {
     "data": {
      "text/plain": [
       "Index(['neighbourhood_cleansed', 'property_type', 'room_type', 'amenities',\n",
       "       'has_availability', 'instant_bookable'],\n",
       "      dtype='object')"
      ]
     },
     "execution_count": 9,
     "metadata": {},
     "output_type": "execute_result"
    }
   ],
   "source": [
    "df_listings.select_dtypes(include=['object']).columns"
   ]
  },
  {
   "cell_type": "code",
   "execution_count": 10,
   "metadata": {},
   "outputs": [],
   "source": [
    "# Renaming property types to other where their total count is less than 100\n",
    "counts = df_listings['property_type'].value_counts()\n",
    "\n",
    "df_listings['property_type'] = np.where(df_listings['property_type'].isin(counts.index[counts >= 30]), \n",
    "                                        df_listings['property_type'], 'Other')"
   ]
  },
  {
   "cell_type": "code",
   "execution_count": 11,
   "metadata": {},
   "outputs": [],
   "source": [
    "# Creating the 'amenities - count' column\n",
    "df_listings.loc[:,\"amenities\"] = [len(i) for i in df_listings[\"amenities\"]]"
   ]
  },
  {
   "cell_type": "code",
   "execution_count": 12,
   "metadata": {},
   "outputs": [
    {
     "name": "stdout",
     "output_type": "stream",
     "text": [
      "neighbourhood_cleansed :  33 labels\n",
      "property_type :  36 labels\n",
      "room_type :  4 labels\n",
      "has_availability :  2 labels\n",
      "instant_bookable :  2 labels\n"
     ]
    }
   ],
   "source": [
    "for col in df_listings.select_dtypes(include=['object']).columns:\n",
    "    print(col, ': ', len(df_listings[col].unique()), 'labels')"
   ]
  },
  {
   "cell_type": "code",
   "execution_count": 13,
   "metadata": {},
   "outputs": [],
   "source": [
    "#df_listings.neighbourhood_cleansed.value_counts().sort_values(ascending=False)"
   ]
  },
  {
   "cell_type": "code",
   "execution_count": 14,
   "metadata": {},
   "outputs": [],
   "source": [
    "#df_listings.property_type.value_counts().sort_values(ascending=False).head(10)"
   ]
  },
  {
   "cell_type": "code",
   "execution_count": 15,
   "metadata": {},
   "outputs": [],
   "source": [
    "#top_30_prop_type = [x for x in new_df.property_type.value_counts().sort_values(ascending=False).head(30).index]"
   ]
  },
  {
   "cell_type": "code",
   "execution_count": 16,
   "metadata": {},
   "outputs": [],
   "source": [
    "#top_30_prop_type"
   ]
  },
  {
   "cell_type": "code",
   "execution_count": 17,
   "metadata": {},
   "outputs": [],
   "source": [
    "#def one_hot_encode(df, variable, top_x_labels):\n",
    "    \n",
    "#    for label in top_x_labels:\n",
    "#        df[variable+'_'+label] = np.where(df[variable]==label, 1, 0)\n",
    "        \n",
    "#    del df[variable]\n",
    "        \n",
    "#    return df\n",
    "\n",
    "#new_df = one_hot_encode(new_df, 'property_type', top_30_prop_type)"
   ]
  },
  {
   "cell_type": "code",
   "execution_count": 18,
   "metadata": {},
   "outputs": [],
   "source": [
    "#new_df.head(3)"
   ]
  },
  {
   "cell_type": "code",
   "execution_count": 19,
   "metadata": {},
   "outputs": [
    {
     "data": {
      "text/plain": [
       "(71823, 26)"
      ]
     },
     "execution_count": 19,
     "metadata": {},
     "output_type": "execute_result"
    }
   ],
   "source": [
    "df_listings.shape"
   ]
  },
  {
   "cell_type": "code",
   "execution_count": 20,
   "metadata": {},
   "outputs": [],
   "source": [
    "df_listings = df_listings.dropna()"
   ]
  },
  {
   "cell_type": "code",
   "execution_count": 21,
   "metadata": {},
   "outputs": [
    {
     "data": {
      "text/plain": [
       "neighbourhood_cleansed         0\n",
       "property_type                  0\n",
       "room_type                      0\n",
       "accommodates                   0\n",
       "bathrooms_shared               0\n",
       "bedrooms                       0\n",
       "beds                           0\n",
       "amenities                      0\n",
       "price                          0\n",
       "has_availability               0\n",
       "availability_30                0\n",
       "availability_60                0\n",
       "availability_90                0\n",
       "availability_365               0\n",
       "number_of_reviews              0\n",
       "number_of_reviews_ltm          0\n",
       "number_of_reviews_l30d         0\n",
       "review_scores_rating           0\n",
       "review_scores_accuracy         0\n",
       "review_scores_cleanliness      0\n",
       "review_scores_checkin          0\n",
       "review_scores_communication    0\n",
       "review_scores_location         0\n",
       "review_scores_value            0\n",
       "instant_bookable               0\n",
       "reviews_per_month              0\n",
       "dtype: int64"
      ]
     },
     "execution_count": 21,
     "metadata": {},
     "output_type": "execute_result"
    }
   ],
   "source": [
    "df_listings.isnull().sum()"
   ]
  },
  {
   "cell_type": "code",
   "execution_count": 22,
   "metadata": {},
   "outputs": [],
   "source": [
    "# Removing rows that do not have a price\n",
    "# df = df_listings.dropna(subset=[\"price\"])\n",
    "df_listings = df_listings[df_listings['price'] != 0]"
   ]
  },
  {
   "cell_type": "markdown",
   "metadata": {},
   "source": [
    "#### Train / Test split"
   ]
  },
  {
   "cell_type": "code",
   "execution_count": 23,
   "metadata": {},
   "outputs": [],
   "source": [
    "# Extract features and labels\n",
    "X = df_listings.drop(\"price\", axis=1) # drop labels for training set\n",
    "y = df_listings[\"price\"].copy()\n",
    "\n",
    "# List of features for later use\n",
    "X_columns = list(X.columns)"
   ]
  },
  {
   "cell_type": "code",
   "execution_count": 24,
   "metadata": {},
   "outputs": [],
   "source": [
    "X_train, X_test, y_train, y_test = train_test_split(X,y,test_size=0.3, random_state=42)"
   ]
  },
  {
   "cell_type": "code",
   "execution_count": 25,
   "metadata": {},
   "outputs": [
    {
     "name": "stdout",
     "output_type": "stream",
     "text": [
      "(32670, 25)\n",
      "(14002, 25)\n",
      "(32670,)\n",
      "(14002,)\n"
     ]
    }
   ],
   "source": [
    "print(X_train.shape)\n",
    "print(X_test.shape)\n",
    "print(y_train.shape)\n",
    "print(y_test.shape)"
   ]
  },
  {
   "cell_type": "code",
   "execution_count": 26,
   "metadata": {},
   "outputs": [],
   "source": [
    "X_train_num = X_train.select_dtypes(include=['float', 'int'])\n",
    "X_train_cat = X_train.select_dtypes(include=['object'])"
   ]
  },
  {
   "cell_type": "markdown",
   "metadata": {},
   "source": [
    "#### Data selector "
   ]
  },
  {
   "cell_type": "code",
   "execution_count": 27,
   "metadata": {},
   "outputs": [],
   "source": [
    "from sklearn.base import BaseEstimator, TransformerMixin\n",
    "\n",
    "# Create a class to select numerical or categorical columns \n",
    "class DataFrameSelector(BaseEstimator, TransformerMixin):\n",
    "    def __init__(self, attribute_names):\n",
    "        self.attribute_names = attribute_names\n",
    "    def fit(self, X, y=None):\n",
    "        return self\n",
    "    def transform(self, X):\n",
    "        return X[self.attribute_names].values\n",
    "    def get_feature_names(self):\n",
    "        return X[self.attribute_names]"
   ]
  },
  {
   "cell_type": "markdown",
   "metadata": {},
   "source": [
    "#### Creating the Pipeline"
   ]
  },
  {
   "cell_type": "code",
   "execution_count": 28,
   "metadata": {},
   "outputs": [],
   "source": [
    "num_attribs = list(X_train_num.columns)\n",
    "cat_attribs = list(X_train_cat.columns)"
   ]
  },
  {
   "cell_type": "code",
   "execution_count": 29,
   "metadata": {},
   "outputs": [],
   "source": [
    "cat_pipeline = Pipeline([\n",
    "        ('selector', DataFrameSelector(cat_attribs)),\n",
    "        ('cat_encoder', OneHotEncoder(handle_unknown = 'ignore')),\n",
    "    ])"
   ]
  },
  {
   "cell_type": "code",
   "execution_count": 30,
   "metadata": {},
   "outputs": [],
   "source": [
    "num_pipeline = Pipeline([\n",
    "        ('selector', DataFrameSelector(num_attribs)),\n",
    "        ('imputer', SimpleImputer(strategy=\"median\")),\n",
    "        ('scaler', StandardScaler())\n",
    "    ])"
   ]
  },
  {
   "cell_type": "code",
   "execution_count": 31,
   "metadata": {},
   "outputs": [],
   "source": [
    "from sklearn.pipeline import FeatureUnion\n",
    "\n",
    "full_pipeline = Pipeline([\n",
    "       ('features', FeatureUnion([\n",
    "                    (\"num_pipeline\", num_pipeline),\n",
    "                    (\"cat_pipeline\", cat_pipeline)\n",
    "                ])\n",
    "        )])"
   ]
  },
  {
   "cell_type": "code",
   "execution_count": 32,
   "metadata": {},
   "outputs": [],
   "source": [
    "X_train_prepared = full_pipeline.fit_transform(X_train)\n",
    "X_test_prepared = full_pipeline.fit_transform(X_test)"
   ]
  },
  {
   "cell_type": "code",
   "execution_count": 33,
   "metadata": {},
   "outputs": [
    {
     "name": "stdout",
     "output_type": "stream",
     "text": [
      "(32670, 97)\n",
      "(14002, 97)\n"
     ]
    }
   ],
   "source": [
    "print(X_train_prepared.shape)\n",
    "print(X_test_prepared.shape)"
   ]
  },
  {
   "cell_type": "markdown",
   "metadata": {},
   "source": [
    "## Model Evaluation"
   ]
  },
  {
   "cell_type": "markdown",
   "metadata": {},
   "source": [
    "### Base Evaluation - Fittng the training data with various models"
   ]
  },
  {
   "cell_type": "code",
   "execution_count": 34,
   "metadata": {},
   "outputs": [],
   "source": [
    "def base_models(model, X_train, X_test, y_train, y_test):\n",
    "    \n",
    "    model.fit(X_train, y_train)\n",
    "    \n",
    "    predict_train = model.predict(X_train)\n",
    "    predict_test = model.predict(X_test)\n",
    "    \n",
    "    mse_train = mean_squared_error(y_train, predict_train)\n",
    "    mse_test = mean_squared_error(y_test, predict_test)\n",
    "    \n",
    "    rmse_train = np.sqrt(mse_train)\n",
    "    rmse_test = np.sqrt(mse_test)\n",
    "    \n",
    "    print(\"RMSE: Train data \" + str(round(rmse_train,2)))\n",
    "    print(\"RMSE: Test data \" + str(round(rmse_test,2)))"
   ]
  },
  {
   "cell_type": "code",
   "execution_count": 35,
   "metadata": {},
   "outputs": [
    {
     "name": "stdout",
     "output_type": "stream",
     "text": [
      "RMSE: Train data 33.12\n",
      "RMSE: Test data 33.15\n"
     ]
    }
   ],
   "source": [
    "# Linear Regression - Base Model\n",
    "lm = LinearRegression(n_jobs=4)\n",
    "base_models(lm, X_train_prepared, X_test_prepared, y_train, y_test)"
   ]
  },
  {
   "cell_type": "code",
   "execution_count": 37,
   "metadata": {},
   "outputs": [
    {
     "name": "stdout",
     "output_type": "stream",
     "text": [
      "RMSE: Train data 33.13\n",
      "RMSE: Test data 33.15\n"
     ]
    }
   ],
   "source": [
    "# Ridge Regression - Base Model\n",
    "ridge = Ridge()\n",
    "base_models(ridge, X_train_prepared, X_test_prepared, y_train, y_test)"
   ]
  },
  {
   "cell_type": "code",
   "execution_count": 39,
   "metadata": {},
   "outputs": [
    {
     "name": "stdout",
     "output_type": "stream",
     "text": [
      "RMSE: Train data 0.16\n",
      "RMSE: Test data 45.68\n"
     ]
    }
   ],
   "source": [
    "# Decision Tree Regression - Base Model\n",
    "tree_reg = DecisionTreeRegressor(random_state=42)\n",
    "base_models(tree_reg, X_train_prepared, X_test_prepared, y_train, y_test)"
   ]
  },
  {
   "cell_type": "code",
   "execution_count": 40,
   "metadata": {},
   "outputs": [
    {
     "name": "stdout",
     "output_type": "stream",
     "text": [
      "RMSE: Train data 12.19\n",
      "RMSE: Test data 32.58\n"
     ]
    }
   ],
   "source": [
    "# Random Forest Regression - Base Model\n",
    "forest_reg = RandomForestRegressor(n_jobs=4,random_state=42)\n",
    "base_models(forest_reg, X_train_prepared, X_test_prepared, y_train, y_test)"
   ]
  },
  {
   "cell_type": "code",
   "execution_count": 42,
   "metadata": {},
   "outputs": [
    {
     "name": "stdout",
     "output_type": "stream",
     "text": [
      "RMSE: Train data 31.97\n",
      "RMSE: Test data 32.51\n"
     ]
    }
   ],
   "source": [
    "# Gradient Boosting Regressor - Base Model\n",
    "grad_booreg = GradientBoostingRegressor(random_state=42)\n",
    "base_models(grad_booreg, X_train_prepared, X_test_prepared, y_train, y_test)"
   ]
  },
  {
   "cell_type": "markdown",
   "metadata": {},
   "source": [
    "### Fine tune the model with cross-validation"
   ]
  },
  {
   "cell_type": "code",
   "execution_count": 43,
   "metadata": {},
   "outputs": [],
   "source": [
    "from sklearn.model_selection import cross_val_score\n",
    "from sklearn.model_selection import RepeatedKFold\n",
    "\n",
    "def display_scores(model, X_train, y_train):\n",
    "    \n",
    "    cv = RepeatedKFold(n_splits=5, n_repeats=2, random_state=42)\n",
    "    \n",
    "    scores = cross_val_score(model, X_train, y_train, scoring=\"neg_mean_squared_error\", cv=cv)\n",
    "    rmse_scores = np.sqrt(-scores)\n",
    "    \n",
    "    print(\"RMSE Scores:\", rmse_scores)\n",
    "    print(\"RMSE Mean:\", rmse_scores.mean())\n",
    "    print(\"Standard deviation of RMSE scores:\", rmse_scores.std())"
   ]
  },
  {
   "cell_type": "code",
   "execution_count": 44,
   "metadata": {},
   "outputs": [
    {
     "name": "stdout",
     "output_type": "stream",
     "text": [
      "RMSE Scores: [33.98053365 33.13469079 32.90446862 33.0465528  33.16461993 33.52562293\n",
      " 32.84405487 33.35134038 33.26708621 33.28542932]\n",
      "RMSE Mean: 33.250439949274735\n",
      "Standard deviation of RMSE scores: 0.3110663336642046\n"
     ]
    }
   ],
   "source": [
    "# Ridge Regression - CV Model\n",
    "display_scores(ridge, X_train_prepared, y_train)"
   ]
  },
  {
   "cell_type": "code",
   "execution_count": 45,
   "metadata": {},
   "outputs": [
    {
     "name": "stdout",
     "output_type": "stream",
     "text": [
      "RMSE Scores: [33.4413638  32.64386642 32.72749327 33.00554735 32.41059013 33.08995576\n",
      " 32.26114468 32.84658851 32.54973821 32.85050719]\n",
      "RMSE Mean: 32.7826795326806\n",
      "Standard deviation of RMSE scores: 0.3276681321167497\n"
     ]
    }
   ],
   "source": [
    "# Random Forest Regression - CV Model\n",
    "display_scores(forest_reg, X_train_prepared, y_train)"
   ]
  },
  {
   "cell_type": "code",
   "execution_count": 46,
   "metadata": {},
   "outputs": [
    {
     "name": "stdout",
     "output_type": "stream",
     "text": [
      "RMSE Scores: [33.1644027  32.59923381 32.01809771 32.29942649 32.2657328  32.84429273\n",
      " 31.92249107 32.6128965  32.2498082  32.47271284]\n",
      "RMSE Mean: 32.44490948416431\n",
      "Standard deviation of RMSE scores: 0.3572687382533731\n"
     ]
    }
   ],
   "source": [
    "# Gradient Boosting Regressor - CV Model\n",
    "display_scores(grad_booreg, X_train_prepared, y_train)"
   ]
  },
  {
   "cell_type": "markdown",
   "metadata": {},
   "source": [
    "### Comparing the Train and Test scores"
   ]
  },
  {
   "cell_type": "code",
   "execution_count": 47,
   "metadata": {},
   "outputs": [],
   "source": [
    "from sklearn.naive_bayes import GaussianNB\n",
    "from sklearn.svm import SVR\n",
    "from sklearn.model_selection import learning_curve\n",
    "from sklearn.model_selection import ShuffleSplit\n",
    "\n",
    "\n",
    "def plot_learning_curve(estimator, title, X, y, axes=None, ylim=None, cv=None,\n",
    "                        n_jobs=None, train_sizes=np.linspace(.1, 1.0, 5)):\n",
    "    \"\"\"\n",
    "    Generate 3 plots: the test and training learning curve, the training\n",
    "    samples vs fit times curve, the fit times vs score curve.\n",
    "\n",
    "    Parameters\n",
    "    ----------\n",
    "    estimator : estimator instance\n",
    "        An estimator instance implementing `fit` and `predict` methods which\n",
    "        will be cloned for each validation.\n",
    "\n",
    "    title : str\n",
    "        Title for the chart.\n",
    "\n",
    "    X : array-like of shape (n_samples, n_features)\n",
    "        Training vector, where ``n_samples`` is the number of samples and\n",
    "        ``n_features`` is the number of features.\n",
    "\n",
    "    y : array-like of shape (n_samples) or (n_samples, n_features)\n",
    "        Target relative to ``X`` for classification or regression;\n",
    "        None for unsupervised learning.\n",
    "\n",
    "    axes : array-like of shape (3,), default=None\n",
    "        Axes to use for plotting the curves.\n",
    "\n",
    "    ylim : tuple of shape (2,), default=None\n",
    "        Defines minimum and maximum y-values plotted, e.g. (ymin, ymax).\n",
    "\n",
    "    cv : int, cross-validation generator or an iterable, default=None\n",
    "        Determines the cross-validation splitting strategy.\n",
    "        Possible inputs for cv are:\n",
    "\n",
    "          - None, to use the default 5-fold cross-validation,\n",
    "          - integer, to specify the number of folds.\n",
    "          - :term:`CV splitter`,\n",
    "          - An iterable yielding (train, test) splits as arrays of indices.\n",
    "\n",
    "        For integer/None inputs, if ``y`` is binary or multiclass,\n",
    "        :class:`StratifiedKFold` used. If the estimator is not a classifier\n",
    "        or if ``y`` is neither binary nor multiclass, :class:`KFold` is used.\n",
    "\n",
    "        Refer :ref:`User Guide <cross_validation>` for the various\n",
    "        cross-validators that can be used here.\n",
    "\n",
    "    n_jobs : int or None, default=None\n",
    "        Number of jobs to run in parallel.\n",
    "        ``None`` means 1 unless in a :obj:`joblib.parallel_backend` context.\n",
    "        ``-1`` means using all processors. See :term:`Glossary <n_jobs>`\n",
    "        for more details.\n",
    "\n",
    "    train_sizes : array-like of shape (n_ticks,)\n",
    "        Relative or absolute numbers of training examples that will be used to\n",
    "        generate the learning curve. If the ``dtype`` is float, it is regarded\n",
    "        as a fraction of the maximum size of the training set (that is\n",
    "        determined by the selected validation method), i.e. it has to be within\n",
    "        (0, 1]. Otherwise it is interpreted as absolute sizes of the training\n",
    "        sets. Note that for classification the number of samples usually have\n",
    "        to be big enough to contain at least one sample from each class.\n",
    "        (default: np.linspace(0.1, 1.0, 5))\n",
    "    \"\"\"\n",
    "    if axes is None:\n",
    "        _, axes = plt.subplots(1, 3, figsize=(20, 5))\n",
    "\n",
    "    axes[0].set_title(title)\n",
    "    if ylim is not None:\n",
    "        axes[0].set_ylim(*ylim)\n",
    "    axes[0].set_xlabel(\"Training examples\")\n",
    "    axes[0].set_ylabel(\"Score\")\n",
    "\n",
    "    train_sizes, train_scores, test_scores, fit_times, _ = \\\n",
    "        learning_curve(estimator, X, y, cv=cv, n_jobs=n_jobs,\n",
    "                       train_sizes=train_sizes,\n",
    "                       return_times=True)\n",
    "    train_scores_mean = np.mean(train_scores, axis=1)\n",
    "    train_scores_std = np.std(train_scores, axis=1)\n",
    "    test_scores_mean = np.mean(test_scores, axis=1)\n",
    "    test_scores_std = np.std(test_scores, axis=1)\n",
    "    fit_times_mean = np.mean(fit_times, axis=1)\n",
    "    fit_times_std = np.std(fit_times, axis=1)\n",
    "\n",
    "    # Plot learning curve\n",
    "    axes[0].grid()\n",
    "    axes[0].fill_between(train_sizes, train_scores_mean - train_scores_std,\n",
    "                         train_scores_mean + train_scores_std, alpha=0.1,\n",
    "                         color=\"r\")\n",
    "    axes[0].fill_between(train_sizes, test_scores_mean - test_scores_std,\n",
    "                         test_scores_mean + test_scores_std, alpha=0.1,\n",
    "                         color=\"g\")\n",
    "    axes[0].plot(train_sizes, train_scores_mean, 'o-', color=\"r\",\n",
    "                 label=\"Training score\")\n",
    "    axes[0].plot(train_sizes, test_scores_mean, 'o-', color=\"g\",\n",
    "                 label=\"Cross-validation score\")\n",
    "    axes[0].legend(loc=\"best\")\n",
    "\n",
    "    # Plot n_samples vs fit_times\n",
    "    axes[1].grid()\n",
    "    axes[1].plot(train_sizes, fit_times_mean, 'o-')\n",
    "    axes[1].fill_between(train_sizes, fit_times_mean - fit_times_std,\n",
    "                         fit_times_mean + fit_times_std, alpha=0.1)\n",
    "    axes[1].set_xlabel(\"Training examples\")\n",
    "    axes[1].set_ylabel(\"fit_times\")\n",
    "    axes[1].set_title(\"Scalability of the model\")\n",
    "\n",
    "    # Plot fit_time vs score\n",
    "    axes[2].grid()\n",
    "    axes[2].plot(fit_times_mean, test_scores_mean, 'o-')\n",
    "    axes[2].fill_between(fit_times_mean, test_scores_mean - test_scores_std,\n",
    "                         test_scores_mean + test_scores_std, alpha=0.1)\n",
    "    axes[2].set_xlabel(\"fit_times\")\n",
    "    axes[2].set_ylabel(\"Score\")\n",
    "    axes[2].set_title(\"Performance of the model\")\n",
    "\n",
    "    return plt"
   ]
  },
  {
   "cell_type": "code",
   "execution_count": 52,
   "metadata": {},
   "outputs": [
    {
     "data": {
      "image/png": "[encoded data removed]",
      "text/plain": [
       "<Figure size 1440x360 with 3 Axes>"
      ]
     },
     "metadata": {
      "needs_background": "light"
     },
     "output_type": "display_data"
    },
    {
     "data": {
      "image/png": "[encoded data removed]",
      "text/plain": [
       "<Figure size 1440x360 with 3 Axes>"
      ]
     },
     "metadata": {
      "needs_background": "light"
     },
     "output_type": "display_data"
    },
    {
     "data": {
      "image/png": "[encoded data removed]",
      "text/plain": [
       "<Figure size 1440x360 with 3 Axes>"
      ]
     },
     "metadata": {
      "needs_background": "light"
     },
     "output_type": "display_data"
    }
   ],
   "source": [
    "# Ridge Regression:\n",
    "title = r\"Learning Curves for Ridge Regression\"\n",
    "estimator = Ridge(alpha=0.1, normalize=True)\n",
    "plot_learning_curve(estimator, title, X_train_prepared, y_train, cv=5, n_jobs=-1)\n",
    "\n",
    "# Random Forest Regression:\n",
    "title = r\"Learning Curves for Random Forest Regression\"\n",
    "estimator = RandomForestRegressor()\n",
    "plot_learning_curve(estimator, title, X_train_prepared, y_train,cv=5, n_jobs=-1)\n",
    "\n",
    "# Gradient Boosting Regressor:\n",
    "title = r\"Learning Curves for Gradient Boosting Regressor\"\n",
    "estimaGradientBoostingRegressor= GradientBoostingRegressor()\n",
    "plot_learning_curve(estimator, title, X_train_prepared, y_train,cv=5, n_jobs=-1)\n",
    "\n",
    "plt.show()"
   ]
  },
  {
   "cell_type": "markdown",
   "metadata": {},
   "source": [
    "### Fine tunning the model"
   ]
  },
  {
   "cell_type": "code",
   "execution_count": 53,
   "metadata": {},
   "outputs": [
    {
     "data": {
      "text/plain": [
       "GridSearchCV(cv=5, estimator=RandomForestRegressor(n_jobs=-1, random_state=42),\n",
       "             n_jobs=-1, param_grid=[{'n_estimators': [500]}],\n",
       "             return_train_score=True, scoring='neg_mean_squared_error')"
      ]
     },
     "execution_count": 53,
     "metadata": {},
     "output_type": "execute_result"
    }
   ],
   "source": [
    "from sklearn.model_selection import GridSearchCV\n",
    "\n",
    "param_grid = [\n",
    "    {'n_estimators': [500]}\n",
    "  ]\n",
    "\n",
    "ranfor2 = RandomForestRegressor(n_jobs=-1,random_state=42)\n",
    "\n",
    "grid_search = GridSearchCV(ranfor2, param_grid, cv=5,\n",
    "                           scoring='neg_mean_squared_error',\n",
    "                           return_train_score=True,\n",
    "                           n_jobs=-1)\n",
    "\n",
    "grid_search.fit(X_train_prepared, y_train)"
   ]
  },
  {
   "cell_type": "code",
   "execution_count": 54,
   "metadata": {},
   "outputs": [
    {
     "data": {
      "text/plain": [
       "RandomForestRegressor(n_estimators=500, n_jobs=-1, random_state=42)"
      ]
     },
     "execution_count": 54,
     "metadata": {},
     "output_type": "execute_result"
    }
   ],
   "source": [
    "grid_search.best_estimator_"
   ]
  },
  {
   "cell_type": "code",
   "execution_count": 55,
   "metadata": {},
   "outputs": [],
   "source": [
    "y_pred = grid_search.predict(X_test_prepared)"
   ]
  },
  {
   "cell_type": "code",
   "execution_count": 56,
   "metadata": {},
   "outputs": [],
   "source": [
    "mse = mean_squared_error(y_test,y_pred)"
   ]
  },
  {
   "cell_type": "code",
   "execution_count": 57,
   "metadata": {},
   "outputs": [],
   "source": [
    "rmse = np.sqrt(mse)"
   ]
  },
  {
   "cell_type": "code",
   "execution_count": 58,
   "metadata": {},
   "outputs": [
    {
     "data": {
      "text/plain": [
       "32.41495161160492"
      ]
     },
     "execution_count": 58,
     "metadata": {},
     "output_type": "execute_result"
    }
   ],
   "source": [
    "rmse"
   ]
  },
  {
   "cell_type": "code",
   "execution_count": null,
   "metadata": {},
   "outputs": [],
   "source": []
  }
 ],
 "metadata": {
  "kernelspec": {
   "display_name": "Python 3",
   "language": "python",
   "name": "python3"
  },
  "language_info": {
   "codemirror_mode": {
    "name": "ipython",
    "version": 3
   },
   "file_extension": ".py",
   "mimetype": "text/x-python",
   "name": "python",
   "nbconvert_exporter": "python",
   "pygments_lexer": "ipython3",
   "version": "3.7.7"
  }
 },
 "nbformat": 4,
 "nbformat_minor": 4
}
