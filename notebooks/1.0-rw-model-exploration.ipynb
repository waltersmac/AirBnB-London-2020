{
 "cells": [
  {
   "cell_type": "markdown",
   "metadata": {},
   "source": [
    "## Importing Libraries"
   ]
  },
  {
   "cell_type": "code",
   "execution_count": 1,
   "metadata": {},
   "outputs": [],
   "source": [
    "import os\n",
    "import sys\n",
    "import pickle\n",
    "import numpy as np\n",
    "import pandas as pd\n",
    "import matplotlib.pyplot as plt\n",
    "import seaborn as sns\n",
    "import geopandas as gpd\n",
    "import dataframe_image as dfi\n",
    "\n",
    "%matplotlib inline\n",
    "\n",
    "\n",
    "from sklearn.model_selection import train_test_split, cross_val_score, GridSearchCV\n",
    "from sklearn.feature_selection import SelectKBest, chi2\n",
    "from sklearn.pipeline import Pipeline\n",
    "from sklearn.svm import SVR\n",
    "from sklearn.ensemble import RandomForestRegressor, GradientBoostingRegressor\n",
    "from sklearn.metrics import mean_squared_error, r2_score"
   ]
  },
  {
   "cell_type": "markdown",
   "metadata": {},
   "source": [
    "### Importing the Data"
   ]
  },
  {
   "cell_type": "code",
   "execution_count": 2,
   "metadata": {},
   "outputs": [],
   "source": [
    "df_listings = pd.read_csv('../data/raw/listings.csv', dtype={'price': 'object',\n",
    "                                                      'weekly_price': 'object',\n",
    "                                                      'monthly_price': 'object',\n",
    "                                                      'security_deposit': 'object',\n",
    "                                                      'cleaning_fee': 'object',\n",
    "                                                      'extra_people': 'object',\n",
    "                                                      'license': 'object', \n",
    "                                                      'jurisdiction_names': 'object',})"
   ]
  },
  {
   "cell_type": "markdown",
   "metadata": {},
   "source": [
    "## Data Preparation"
   ]
  },
  {
   "cell_type": "code",
   "execution_count": 3,
   "metadata": {},
   "outputs": [],
   "source": [
    "# Applying a new format to the numerical columns so that they can be explored\n",
    "class format_data:\n",
    "    \n",
    "    def __init__(self, dataframe):\n",
    "        self.dataframe = dataframe\n",
    "        \n",
    "    def data_float(self):\n",
    "        self = self.str.replace('$', '', regex=True).replace(',', '', regex=True).astype(float)\n",
    "        \n",
    "        return self\n",
    "    \n",
    "    def data_percentage(self):\n",
    "        self = (self.str.replace('%', '', regex=True).astype('float')) / 100\n",
    "        \n",
    "        return self\n",
    "    \n",
    "    def text_to_int(self):\n",
    "        self = self.str.split(' ').str[0].replace('Half-bath', '0.5', regex=True).replace('Shared', '0.5', regex=True) \\\n",
    "                                         .replace('Private', '1', regex=True).astype('float')\n",
    "              \n",
    "        return self"
   ]
  },
  {
   "cell_type": "code",
   "execution_count": 4,
   "metadata": {},
   "outputs": [],
   "source": [
    "# Applying format to the price column\n",
    "float_list = ['price']\n",
    "for x in float_list:\n",
    "    df_listings[x] = format_data.data_float(df_listings[x])"
   ]
  },
  {
   "cell_type": "code",
   "execution_count": 5,
   "metadata": {},
   "outputs": [],
   "source": [
    "# Applying format to the host_response_rate and host_acceptance_rate column\n",
    "percentage_list = ['host_response_rate','host_acceptance_rate']\n",
    "for x in percentage_list:\n",
    "    df_listings[x] = format_data.data_percentage(df_listings[x])"
   ]
  },
  {
   "cell_type": "code",
   "execution_count": 6,
   "metadata": {},
   "outputs": [],
   "source": [
    "# Applying format to the bathrooms_text column\n",
    "text_list = ['bathrooms_text']\n",
    "for x in text_list:\n",
    "    df_listings[x] = format_data.text_to_int(df_listings[x])"
   ]
  },
  {
   "cell_type": "markdown",
   "metadata": {},
   "source": [
    "### Removing Price Outliers"
   ]
  },
  {
   "cell_type": "code",
   "execution_count": 7,
   "metadata": {},
   "outputs": [],
   "source": [
    "def find_outliers(df_listings):\n",
    "    # Calculate Q1 (25th percentile of the data) for the given feature\n",
    "    Q1 = np.percentile(df_listings[\"price\"], 25)\n",
    "    \n",
    "    #Calculate Q3 (75th percentile of the data) for the given feature\n",
    "    Q3 = np.percentile(df_listings[\"price\"],75)\n",
    "    \n",
    "    # Use the interquartile range to calculate an outlier step (1.5 times the interquartile range)\n",
    "    step = (Q3 - Q1) * 1.5\n",
    "    \n",
    "    # Display the outliers\n",
    "    #print(\"Data points considered outliers for the feature '{}':\".format(\"price\"))\n",
    "    filtered_data = df_listings[~((df_listings[\"price\"] >= Q1 - step) & \n",
    "                                  (df_listings[\"price\"] <= Q3 + step))].sort_values(by=[\"price\"])\n",
    "                                  \n",
    "    #filtered_data[\"price\"].hist()\n",
    "    #outliers = filtered_data[filtered_data[\"price\"] >= 1000.00]\n",
    "    \n",
    "    return filtered_data\n",
    "                                  \n",
    "                                  \n",
    "outliers = find_outliers(df_listings).index\n",
    "                                  \n",
    "df_listings = df_listings.drop(df_listings.index[outliers]).reset_index(drop = True)"
   ]
  },
  {
   "cell_type": "markdown",
   "metadata": {},
   "source": [
    "## Data Modeling"
   ]
  },
  {
   "cell_type": "markdown",
   "metadata": {},
   "source": [
    "### What features assist in the pricing of a listing? \n",
    "- Could the price be predicted?\n",
    "- importance of the features, rank features"
   ]
  },
  {
   "cell_type": "markdown",
   "metadata": {},
   "source": [
    "### Preparing data"
   ]
  },
  {
   "cell_type": "markdown",
   "metadata": {},
   "source": [
    "#### Removing rows with no target value"
   ]
  },
  {
   "cell_type": "code",
   "execution_count": 8,
   "metadata": {},
   "outputs": [
    {
     "data": {
      "text/html": [
       "<div>\n",
       "<style scoped>\n",
       "    .dataframe tbody tr th:only-of-type {\n",
       "        vertical-align: middle;\n",
       "    }\n",
       "\n",
       "    .dataframe tbody tr th {\n",
       "        vertical-align: top;\n",
       "    }\n",
       "\n",
       "    .dataframe thead th {\n",
       "        text-align: right;\n",
       "    }\n",
       "</style>\n",
       "<table border=\"1\" class=\"dataframe\">\n",
       "  <thead>\n",
       "    <tr style=\"text-align: right;\">\n",
       "      <th></th>\n",
       "      <th>id</th>\n",
       "      <th>listing_url</th>\n",
       "      <th>scrape_id</th>\n",
       "      <th>last_scraped</th>\n",
       "      <th>name</th>\n",
       "      <th>description</th>\n",
       "      <th>neighborhood_overview</th>\n",
       "      <th>picture_url</th>\n",
       "      <th>host_id</th>\n",
       "      <th>host_url</th>\n",
       "      <th>...</th>\n",
       "      <th>review_scores_communication</th>\n",
       "      <th>review_scores_location</th>\n",
       "      <th>review_scores_value</th>\n",
       "      <th>license</th>\n",
       "      <th>instant_bookable</th>\n",
       "      <th>calculated_host_listings_count</th>\n",
       "      <th>calculated_host_listings_count_entire_homes</th>\n",
       "      <th>calculated_host_listings_count_private_rooms</th>\n",
       "      <th>calculated_host_listings_count_shared_rooms</th>\n",
       "      <th>reviews_per_month</th>\n",
       "    </tr>\n",
       "  </thead>\n",
       "  <tbody>\n",
       "    <tr>\n",
       "      <th>0</th>\n",
       "      <td>11551</td>\n",
       "      <td>https://www.airbnb.com/rooms/11551</td>\n",
       "      <td>20201216161425</td>\n",
       "      <td>2021-01-04</td>\n",
       "      <td>Arty and Bright London Apartment in Zone 2</td>\n",
       "      <td>Unlike most rental apartments out there my fla...</td>\n",
       "      <td>Not even 10 minutes by metro from Victoria Sta...</td>\n",
       "      <td>https://a0.muscache.com/pictures/b7afccf4-18e5...</td>\n",
       "      <td>43039</td>\n",
       "      <td>https://www.airbnb.com/users/show/43039</td>\n",
       "      <td>...</td>\n",
       "      <td>10.0</td>\n",
       "      <td>9.0</td>\n",
       "      <td>9.0</td>\n",
       "      <td>NaN</td>\n",
       "      <td>t</td>\n",
       "      <td>2</td>\n",
       "      <td>2</td>\n",
       "      <td>0</td>\n",
       "      <td>0</td>\n",
       "      <td>1.46</td>\n",
       "    </tr>\n",
       "    <tr>\n",
       "      <th>1</th>\n",
       "      <td>13913</td>\n",
       "      <td>https://www.airbnb.com/rooms/13913</td>\n",
       "      <td>20201216161425</td>\n",
       "      <td>2020-12-18</td>\n",
       "      <td>Holiday London DB Room Let-on going</td>\n",
       "      <td>My bright double bedroom with a large window h...</td>\n",
       "      <td>Finsbury Park is a friendly melting pot commun...</td>\n",
       "      <td>https://a0.muscache.com/pictures/miso/Hosting-...</td>\n",
       "      <td>54730</td>\n",
       "      <td>https://www.airbnb.com/users/show/54730</td>\n",
       "      <td>...</td>\n",
       "      <td>10.0</td>\n",
       "      <td>9.0</td>\n",
       "      <td>9.0</td>\n",
       "      <td>NaN</td>\n",
       "      <td>f</td>\n",
       "      <td>2</td>\n",
       "      <td>1</td>\n",
       "      <td>1</td>\n",
       "      <td>0</td>\n",
       "      <td>0.17</td>\n",
       "    </tr>\n",
       "    <tr>\n",
       "      <th>2</th>\n",
       "      <td>15400</td>\n",
       "      <td>https://www.airbnb.com/rooms/15400</td>\n",
       "      <td>20201216161425</td>\n",
       "      <td>2020-12-28</td>\n",
       "      <td>Bright Chelsea  Apartment. Chelsea!</td>\n",
       "      <td>Lots of windows and light.  St Luke's Gardens ...</td>\n",
       "      <td>It is Chelsea.</td>\n",
       "      <td>https://a0.muscache.com/pictures/428392/462d26...</td>\n",
       "      <td>60302</td>\n",
       "      <td>https://www.airbnb.com/users/show/60302</td>\n",
       "      <td>...</td>\n",
       "      <td>10.0</td>\n",
       "      <td>10.0</td>\n",
       "      <td>9.0</td>\n",
       "      <td>NaN</td>\n",
       "      <td>t</td>\n",
       "      <td>1</td>\n",
       "      <td>1</td>\n",
       "      <td>0</td>\n",
       "      <td>0</td>\n",
       "      <td>0.66</td>\n",
       "    </tr>\n",
       "    <tr>\n",
       "      <th>3</th>\n",
       "      <td>17506</td>\n",
       "      <td>https://www.airbnb.com/rooms/17506</td>\n",
       "      <td>20201216161425</td>\n",
       "      <td>2020-12-18</td>\n",
       "      <td>Boutique Chelsea/Fulham Double bed 5-star ensuite</td>\n",
       "      <td>Enjoy a chic stay in this elegant but fully mo...</td>\n",
       "      <td>Fulham is 'villagey' and residential – a real ...</td>\n",
       "      <td>https://a0.muscache.com/pictures/11901327/e63d...</td>\n",
       "      <td>67915</td>\n",
       "      <td>https://www.airbnb.com/users/show/67915</td>\n",
       "      <td>...</td>\n",
       "      <td>NaN</td>\n",
       "      <td>NaN</td>\n",
       "      <td>NaN</td>\n",
       "      <td>NaN</td>\n",
       "      <td>f</td>\n",
       "      <td>2</td>\n",
       "      <td>0</td>\n",
       "      <td>2</td>\n",
       "      <td>0</td>\n",
       "      <td>NaN</td>\n",
       "    </tr>\n",
       "    <tr>\n",
       "      <th>4</th>\n",
       "      <td>25123</td>\n",
       "      <td>https://www.airbnb.com/rooms/25123</td>\n",
       "      <td>20201216161425</td>\n",
       "      <td>2021-01-03</td>\n",
       "      <td>Clean big Room in London (Room 1)</td>\n",
       "      <td>Big room with double bed/ clean sheets/ clean ...</td>\n",
       "      <td>Barnet is one of the largest boroughs in Londo...</td>\n",
       "      <td>https://a0.muscache.com/pictures/456905/a004b9...</td>\n",
       "      <td>103583</td>\n",
       "      <td>https://www.airbnb.com/users/show/103583</td>\n",
       "      <td>...</td>\n",
       "      <td>10.0</td>\n",
       "      <td>9.0</td>\n",
       "      <td>10.0</td>\n",
       "      <td>NaN</td>\n",
       "      <td>t</td>\n",
       "      <td>3</td>\n",
       "      <td>0</td>\n",
       "      <td>3</td>\n",
       "      <td>0</td>\n",
       "      <td>0.99</td>\n",
       "    </tr>\n",
       "  </tbody>\n",
       "</table>\n",
       "<p>5 rows × 74 columns</p>\n",
       "</div>"
      ],
      "text/plain": [
       "      id                         listing_url       scrape_id last_scraped  \\\n",
       "0  11551  https://www.airbnb.com/rooms/11551  20201216161425   2021-01-04   \n",
       "1  13913  https://www.airbnb.com/rooms/13913  20201216161425   2020-12-18   \n",
       "2  15400  https://www.airbnb.com/rooms/15400  20201216161425   2020-12-28   \n",
       "3  17506  https://www.airbnb.com/rooms/17506  20201216161425   2020-12-18   \n",
       "4  25123  https://www.airbnb.com/rooms/25123  20201216161425   2021-01-03   \n",
       "\n",
       "                                                name  \\\n",
       "0         Arty and Bright London Apartment in Zone 2   \n",
       "1                Holiday London DB Room Let-on going   \n",
       "2                Bright Chelsea  Apartment. Chelsea!   \n",
       "3  Boutique Chelsea/Fulham Double bed 5-star ensuite   \n",
       "4                  Clean big Room in London (Room 1)   \n",
       "\n",
       "                                         description  \\\n",
       "0  Unlike most rental apartments out there my fla...   \n",
       "1  My bright double bedroom with a large window h...   \n",
       "2  Lots of windows and light.  St Luke's Gardens ...   \n",
       "3  Enjoy a chic stay in this elegant but fully mo...   \n",
       "4  Big room with double bed/ clean sheets/ clean ...   \n",
       "\n",
       "                               neighborhood_overview  \\\n",
       "0  Not even 10 minutes by metro from Victoria Sta...   \n",
       "1  Finsbury Park is a friendly melting pot commun...   \n",
       "2                                     It is Chelsea.   \n",
       "3  Fulham is 'villagey' and residential – a real ...   \n",
       "4  Barnet is one of the largest boroughs in Londo...   \n",
       "\n",
       "                                         picture_url  host_id  \\\n",
       "0  https://a0.muscache.com/pictures/b7afccf4-18e5...    43039   \n",
       "1  https://a0.muscache.com/pictures/miso/Hosting-...    54730   \n",
       "2  https://a0.muscache.com/pictures/428392/462d26...    60302   \n",
       "3  https://a0.muscache.com/pictures/11901327/e63d...    67915   \n",
       "4  https://a0.muscache.com/pictures/456905/a004b9...   103583   \n",
       "\n",
       "                                   host_url  ... review_scores_communication  \\\n",
       "0   https://www.airbnb.com/users/show/43039  ...                        10.0   \n",
       "1   https://www.airbnb.com/users/show/54730  ...                        10.0   \n",
       "2   https://www.airbnb.com/users/show/60302  ...                        10.0   \n",
       "3   https://www.airbnb.com/users/show/67915  ...                         NaN   \n",
       "4  https://www.airbnb.com/users/show/103583  ...                        10.0   \n",
       "\n",
       "  review_scores_location review_scores_value license instant_bookable  \\\n",
       "0                    9.0                 9.0     NaN                t   \n",
       "1                    9.0                 9.0     NaN                f   \n",
       "2                   10.0                 9.0     NaN                t   \n",
       "3                    NaN                 NaN     NaN                f   \n",
       "4                    9.0                10.0     NaN                t   \n",
       "\n",
       "   calculated_host_listings_count  \\\n",
       "0                               2   \n",
       "1                               2   \n",
       "2                               1   \n",
       "3                               2   \n",
       "4                               3   \n",
       "\n",
       "   calculated_host_listings_count_entire_homes  \\\n",
       "0                                            2   \n",
       "1                                            1   \n",
       "2                                            1   \n",
       "3                                            0   \n",
       "4                                            0   \n",
       "\n",
       "  calculated_host_listings_count_private_rooms  \\\n",
       "0                                            0   \n",
       "1                                            1   \n",
       "2                                            0   \n",
       "3                                            2   \n",
       "4                                            3   \n",
       "\n",
       "  calculated_host_listings_count_shared_rooms reviews_per_month  \n",
       "0                                           0              1.46  \n",
       "1                                           0              0.17  \n",
       "2                                           0              0.66  \n",
       "3                                           0               NaN  \n",
       "4                                           0              0.99  \n",
       "\n",
       "[5 rows x 74 columns]"
      ]
     },
     "execution_count": 8,
     "metadata": {},
     "output_type": "execute_result"
    }
   ],
   "source": [
    "df_listings.head()"
   ]
  },
  {
   "cell_type": "code",
   "execution_count": 9,
   "metadata": {},
   "outputs": [],
   "source": [
    "# Removing rows that do not have a price\n",
    "# df = df_listings.dropna(subset=[\"price\"])\n",
    "df = df_listings[df_listings['price'] != 0]"
   ]
  },
  {
   "cell_type": "code",
   "execution_count": 10,
   "metadata": {},
   "outputs": [],
   "source": [
    "df = df[df['bathrooms_text'].notna()]"
   ]
  },
  {
   "cell_type": "code",
   "execution_count": 11,
   "metadata": {},
   "outputs": [],
   "source": [
    "# Renaming property types to other where their total count is less than 30\n",
    "counts = df['property_type'].value_counts()\n",
    "\n",
    "df['property_type'] = np.where(df['property_type'].isin(counts.index[counts >= 30]), df['property_type'], 'Other')"
   ]
  },
  {
   "cell_type": "markdown",
   "metadata": {},
   "source": [
    "#### Creating new features"
   ]
  },
  {
   "cell_type": "code",
   "execution_count": 12,
   "metadata": {},
   "outputs": [],
   "source": [
    "# Creating the 'amenities - count' column\n",
    "df.loc[:,\"amenities_count\"] = [len(i) for i in df[\"amenities\"]]"
   ]
  },
  {
   "cell_type": "markdown",
   "metadata": {},
   "source": [
    "#### Removing Features"
   ]
  },
  {
   "cell_type": "code",
   "execution_count": 13,
   "metadata": {},
   "outputs": [],
   "source": [
    "def drop_columns(df):\n",
    "    \n",
    "    # Dropping Columns that aren't needed\n",
    "    regex_list = ['url','scraped','first_review','last_review','cancellation_policy', 'maximum', \n",
    "                  'minimum', 'host','requires']\n",
    "    for i in regex_list:\n",
    "        df = df[df.columns.drop(list(df.filter(regex=i)))]\n",
    "        \n",
    "    df = df.drop(columns=['name','id','description','neighborhood_overview','latitude',\n",
    "                          'longitude','neighbourhood','amenities','calendar_updated'])\n",
    "    \n",
    "    # remove columns with 70% or high with missing data\n",
    "    col_nulls = set(df.columns[df.isnull().mean()>0.70])\n",
    "    df = df.drop(list(col_nulls), axis=1)\n",
    "    \n",
    "    return df\n",
    "\n",
    "df = drop_columns(df)"
   ]
  },
  {
   "cell_type": "code",
   "execution_count": 14,
   "metadata": {},
   "outputs": [
    {
     "data": {
      "text/plain": [
       "<AxesSubplot:>"
      ]
     },
     "execution_count": 14,
     "metadata": {},
     "output_type": "execute_result"
    },
    {
     "data": {
      "image/png": "[encoded data removed]",
      "text/plain": [
       "<Figure size 1080x720 with 2 Axes>"
      ]
     },
     "metadata": {
      "needs_background": "light"
     },
     "output_type": "display_data"
    }
   ],
   "source": [
    "# calculate the correlation matrix\n",
    "corr = df.corr()\n",
    "\n",
    "plt.figure(figsize = (15,10))\n",
    "\n",
    "# plot the heatmap\n",
    "sns.heatmap(corr, \n",
    "        xticklabels=corr.columns,\n",
    "        yticklabels=corr.columns)"
   ]
  },
  {
   "cell_type": "code",
   "execution_count": 15,
   "metadata": {},
   "outputs": [],
   "source": [
    "df_object = df.select_dtypes(include=['object'])"
   ]
  },
  {
   "cell_type": "code",
   "execution_count": 16,
   "metadata": {},
   "outputs": [
    {
     "data": {
      "text/plain": [
       "Index(['neighbourhood_cleansed', 'property_type', 'room_type',\n",
       "       'has_availability', 'instant_bookable'],\n",
       "      dtype='object')"
      ]
     },
     "execution_count": 16,
     "metadata": {},
     "output_type": "execute_result"
    }
   ],
   "source": [
    "df_object.columns"
   ]
  },
  {
   "cell_type": "code",
   "execution_count": 17,
   "metadata": {},
   "outputs": [],
   "source": [
    "new_df = df[['neighbourhood_cleansed','property_type', 'room_type', 'bathrooms_text', \n",
    "             'has_availability','instant_bookable', 'amenities_count', 'accommodates', 'bedrooms', \n",
    "             'beds', 'price']]"
   ]
  },
  {
   "cell_type": "markdown",
   "metadata": {},
   "source": [
    "#### Train / Test split"
   ]
  },
  {
   "cell_type": "code",
   "execution_count": 18,
   "metadata": {},
   "outputs": [],
   "source": [
    "# Extract features and labels\n",
    "X = new_df.drop(\"price\", axis=1) # drop labels for training set\n",
    "y = new_df[\"price\"].copy()\n",
    "\n",
    "# List of features for later use\n",
    "X_columns = list(X.columns)"
   ]
  },
  {
   "cell_type": "code",
   "execution_count": 19,
   "metadata": {},
   "outputs": [],
   "source": [
    "X_train, X_test, y_train, y_test = train_test_split(X,y,test_size=0.3, random_state=42)"
   ]
  },
  {
   "cell_type": "code",
   "execution_count": 20,
   "metadata": {},
   "outputs": [
    {
     "name": "stdout",
     "output_type": "stream",
     "text": [
      "(50152, 10)\n",
      "(21495, 10)\n",
      "(50152,)\n",
      "(21495,)\n"
     ]
    }
   ],
   "source": [
    "print(X_train.shape)\n",
    "print(X_test.shape)\n",
    "print(y_train.shape)\n",
    "print(y_test.shape)"
   ]
  },
  {
   "cell_type": "code",
   "execution_count": 21,
   "metadata": {},
   "outputs": [],
   "source": [
    "X_train_num = X_train.select_dtypes(include=['float', 'int'])\n",
    "X_train_cat = X_train.select_dtypes(include=['object'])"
   ]
  },
  {
   "cell_type": "markdown",
   "metadata": {},
   "source": [
    "#### Data selector "
   ]
  },
  {
   "cell_type": "code",
   "execution_count": 22,
   "metadata": {},
   "outputs": [],
   "source": [
    "from sklearn.base import BaseEstimator, TransformerMixin\n",
    "\n",
    "# Create a class to select numerical or categorical columns \n",
    "class DataFrameSelector(BaseEstimator, TransformerMixin):\n",
    "    def __init__(self, attribute_names):\n",
    "        self.attribute_names = attribute_names\n",
    "    def fit(self, X, y=None):\n",
    "        return self\n",
    "    def transform(self, X):\n",
    "        return X[self.attribute_names].values\n",
    "    def get_feature_names(self):\n",
    "        return X[self.attribute_names]"
   ]
  },
  {
   "cell_type": "markdown",
   "metadata": {},
   "source": [
    "#### Creating the Pipeline"
   ]
  },
  {
   "cell_type": "code",
   "execution_count": 23,
   "metadata": {},
   "outputs": [],
   "source": [
    "from sklearn.pipeline import Pipeline\n",
    "from sklearn.impute import SimpleImputer\n",
    "from sklearn.preprocessing import StandardScaler\n",
    "from sklearn.preprocessing import OneHotEncoder\n",
    "from sklearn.feature_selection import SelectKBest\n",
    "from sklearn.feature_selection import f_regression\n",
    "\n",
    "num_attribs = list(X_train_num.columns)\n",
    "cat_attribs = list(X_train_cat.columns)"
   ]
  },
  {
   "cell_type": "code",
   "execution_count": 24,
   "metadata": {},
   "outputs": [],
   "source": [
    "cat_pipeline = Pipeline([\n",
    "        ('selector', DataFrameSelector(cat_attribs)),\n",
    "        ('cat_encoder', OneHotEncoder(sparse=False)),\n",
    "    ])"
   ]
  },
  {
   "cell_type": "code",
   "execution_count": 25,
   "metadata": {},
   "outputs": [],
   "source": [
    "num_pipeline = Pipeline([\n",
    "        ('selector', DataFrameSelector(num_attribs)),\n",
    "        ('imputer', SimpleImputer(strategy=\"median\")),\n",
    "        ('scaler', StandardScaler())\n",
    "    ])"
   ]
  },
  {
   "cell_type": "code",
   "execution_count": 26,
   "metadata": {},
   "outputs": [],
   "source": [
    "from sklearn.pipeline import FeatureUnion\n",
    "\n",
    "full_pipeline = Pipeline([\n",
    "       ('features', FeatureUnion([\n",
    "                    (\"num_pipeline\", num_pipeline),\n",
    "                    (\"cat_pipeline\", cat_pipeline)\n",
    "                ])\n",
    "        )])"
   ]
  },
  {
   "cell_type": "code",
   "execution_count": 27,
   "metadata": {},
   "outputs": [],
   "source": [
    "X_train_prepared = full_pipeline.fit_transform(X_train)\n",
    "X_test_prepared = full_pipeline.fit_transform(X_test)"
   ]
  },
  {
   "cell_type": "code",
   "execution_count": 28,
   "metadata": {},
   "outputs": [
    {
     "name": "stdout",
     "output_type": "stream",
     "text": [
      "(50152, 82)\n",
      "(21495, 82)\n"
     ]
    }
   ],
   "source": [
    "print(X_train_prepared.shape)\n",
    "print(X_test_prepared.shape)"
   ]
  },
  {
   "cell_type": "code",
   "execution_count": 29,
   "metadata": {},
   "outputs": [
    {
     "data": {
      "text/plain": [
       "['x0_Barking and Dagenham',\n",
       " 'x0_Barnet',\n",
       " 'x0_Bexley',\n",
       " 'x0_Brent',\n",
       " 'x0_Bromley',\n",
       " 'x0_Camden',\n",
       " 'x0_City of London',\n",
       " 'x0_Croydon',\n",
       " 'x0_Ealing',\n",
       " 'x0_Enfield',\n",
       " 'x0_Greenwich',\n",
       " 'x0_Hackney',\n",
       " 'x0_Hammersmith and Fulham',\n",
       " 'x0_Haringey',\n",
       " 'x0_Harrow',\n",
       " 'x0_Havering',\n",
       " 'x0_Hillingdon',\n",
       " 'x0_Hounslow',\n",
       " 'x0_Islington',\n",
       " 'x0_Kensington and Chelsea',\n",
       " 'x0_Kingston upon Thames',\n",
       " 'x0_Lambeth',\n",
       " 'x0_Lewisham',\n",
       " 'x0_Merton',\n",
       " 'x0_Newham',\n",
       " 'x0_Redbridge',\n",
       " 'x0_Richmond upon Thames',\n",
       " 'x0_Southwark',\n",
       " 'x0_Sutton',\n",
       " 'x0_Tower Hamlets',\n",
       " 'x0_Waltham Forest',\n",
       " 'x0_Wandsworth',\n",
       " 'x0_Westminster',\n",
       " 'x1_Boat',\n",
       " 'x1_Entire apartment',\n",
       " 'x1_Entire bungalow',\n",
       " 'x1_Entire condominium',\n",
       " 'x1_Entire cottage',\n",
       " 'x1_Entire guest suite',\n",
       " 'x1_Entire guesthouse',\n",
       " 'x1_Entire home/apt',\n",
       " 'x1_Entire house',\n",
       " 'x1_Entire loft',\n",
       " 'x1_Entire serviced apartment',\n",
       " 'x1_Entire townhouse',\n",
       " 'x1_Other',\n",
       " 'x1_Private room',\n",
       " 'x1_Private room in apartment',\n",
       " 'x1_Private room in bed and breakfast',\n",
       " 'x1_Private room in bungalow',\n",
       " 'x1_Private room in condominium',\n",
       " 'x1_Private room in cottage',\n",
       " 'x1_Private room in guest suite',\n",
       " 'x1_Private room in guesthouse',\n",
       " 'x1_Private room in hostel',\n",
       " 'x1_Private room in house',\n",
       " 'x1_Private room in loft',\n",
       " 'x1_Private room in serviced apartment',\n",
       " 'x1_Private room in townhouse',\n",
       " 'x1_Room in aparthotel',\n",
       " 'x1_Room in bed and breakfast',\n",
       " 'x1_Room in boutique hotel',\n",
       " 'x1_Room in hostel',\n",
       " 'x1_Room in hotel',\n",
       " 'x1_Room in serviced apartment',\n",
       " 'x1_Shared room in apartment',\n",
       " 'x1_Shared room in hostel',\n",
       " 'x1_Shared room in house',\n",
       " 'x1_Tiny house',\n",
       " 'x2_Entire home/apt',\n",
       " 'x2_Hotel room',\n",
       " 'x2_Private room',\n",
       " 'x2_Shared room',\n",
       " 'x3_f',\n",
       " 'x3_t',\n",
       " 'x4_f',\n",
       " 'x4_t']"
      ]
     },
     "execution_count": 29,
     "metadata": {},
     "output_type": "execute_result"
    }
   ],
   "source": [
    "cat_pipeline.named_steps.cat_encoder.get_feature_names().tolist()"
   ]
  },
  {
   "cell_type": "code",
   "execution_count": 30,
   "metadata": {},
   "outputs": [
    {
     "data": {
      "text/plain": [
       "['neighbourhood_cleansed',\n",
       " 'property_type',\n",
       " 'room_type',\n",
       " 'has_availability',\n",
       " 'instant_bookable']"
      ]
     },
     "execution_count": 30,
     "metadata": {},
     "output_type": "execute_result"
    }
   ],
   "source": [
    "cat_pipeline.named_steps.selector.attribute_names"
   ]
  },
  {
   "cell_type": "code",
   "execution_count": 31,
   "metadata": {},
   "outputs": [
    {
     "data": {
      "text/plain": [
       "['bathrooms_text', 'amenities_count', 'accommodates', 'bedrooms', 'beds']"
      ]
     },
     "execution_count": 31,
     "metadata": {},
     "output_type": "execute_result"
    }
   ],
   "source": [
    "num_pipeline.named_steps.selector.attribute_names"
   ]
  },
  {
   "cell_type": "code",
   "execution_count": 32,
   "metadata": {},
   "outputs": [],
   "source": [
    "cat_trans_cols = cat_pipeline.named_steps.cat_encoder.get_feature_names().tolist()"
   ]
  },
  {
   "cell_type": "code",
   "execution_count": 33,
   "metadata": {},
   "outputs": [],
   "source": [
    "num_cols = num_pipeline.named_steps.selector.attribute_names"
   ]
  },
  {
   "cell_type": "code",
   "execution_count": 34,
   "metadata": {},
   "outputs": [],
   "source": [
    "df_column_names = cat_trans_cols + num_cols"
   ]
  },
  {
   "cell_type": "markdown",
   "metadata": {},
   "source": [
    "## Model Evaluation"
   ]
  },
  {
   "cell_type": "markdown",
   "metadata": {},
   "source": [
    "### Base Evaluation - Fittng the training data with various models"
   ]
  },
  {
   "cell_type": "code",
   "execution_count": 35,
   "metadata": {},
   "outputs": [],
   "source": [
    "from sklearn.metrics import mean_squared_error\n",
    "from sklearn.linear_model import Ridge, LinearRegression\n",
    "from sklearn.tree import DecisionTreeRegressor\n",
    "\n",
    "def base_models(model, X_train, X_test, y_train, y_test):\n",
    "    \n",
    "    model.fit(X_train, y_train)\n",
    "    \n",
    "    predict_train = model.predict(X_train)\n",
    "    \n",
    "    mse_train = mean_squared_error(y_train, predict_train)\n",
    "    \n",
    "    rmse_train = np.sqrt(mse_train)\n",
    "    \n",
    "    print(\"RMSE: Train data \" + str(round(rmse_train,2)))"
   ]
  },
  {
   "cell_type": "code",
   "execution_count": 36,
   "metadata": {},
   "outputs": [
    {
     "name": "stdout",
     "output_type": "stream",
     "text": [
      "RMSE: Train data 36.04\n"
     ]
    }
   ],
   "source": [
    "# Linear Regression - Base Model\n",
    "lm = LinearRegression()\n",
    "base_models(lm, X_train_prepared, X_test_prepared, y_train, y_test)"
   ]
  },
  {
   "cell_type": "code",
   "execution_count": 37,
   "metadata": {},
   "outputs": [
    {
     "name": "stdout",
     "output_type": "stream",
     "text": [
      "RMSE: Train data 36.04\n"
     ]
    }
   ],
   "source": [
    "# Ridge Regression - Base Model\n",
    "ridge = Ridge()\n",
    "base_models(ridge, X_train_prepared, X_test_prepared, y_train, y_test)"
   ]
  },
  {
   "cell_type": "code",
   "execution_count": null,
   "metadata": {},
   "outputs": [],
   "source": [
    "# Decision Tree Regression - Base Model\n",
    "tree_reg = DecisionTreeRegressor(random_state=42)\n",
    "base_models(tree_reg, X_train_prepared, X_test_prepared, y_train, y_test)"
   ]
  },
  {
   "cell_type": "code",
   "execution_count": null,
   "metadata": {},
   "outputs": [],
   "source": [
    "# Random Forest Regression - Base Model\n",
    "forest_reg = RandomForestRegressor(random_state=42)\n",
    "base_models(forest_reg, X_train_prepared, X_test_prepared, y_train, y_test)"
   ]
  },
  {
   "cell_type": "code",
   "execution_count": null,
   "metadata": {},
   "outputs": [],
   "source": [
    "# Gradient Boosting Regressor - Base Model\n",
    "grad_booreg = GradientBoostingRegressor()\n",
    "base_models(grad_booreg, X_train_prepared, X_test_prepared, y_train, y_test)"
   ]
  },
  {
   "cell_type": "markdown",
   "metadata": {},
   "source": [
    "### Fine tune the model with cross-validation"
   ]
  },
  {
   "cell_type": "code",
   "execution_count": null,
   "metadata": {},
   "outputs": [],
   "source": [
    "from sklearn.model_selection import cross_val_score\n",
    "from sklearn.model_selection import RepeatedKFold\n",
    "\n",
    "def display_scores(model, X_train, y_train):\n",
    "    \n",
    "    cv = RepeatedKFold(n_splits=10, n_repeats=3, random_state=42)\n",
    "    \n",
    "    scores = cross_val_score(model, X_train, y_train, scoring=\"neg_mean_squared_error\", cv=cv)\n",
    "    rmse_scores = np.sqrt(-scores)\n",
    "    \n",
    "    print(\"RMSE Scores:\", rmse_scores)\n",
    "    print(\"RMSE Mean:\", rmse_scores.mean())\n",
    "    print(\"Standard deviation of RMSE scores:\", rmse_scores.std())"
   ]
  },
  {
   "cell_type": "code",
   "execution_count": null,
   "metadata": {},
   "outputs": [],
   "source": [
    "# Ridge Regression - CV Model\n",
    "display_scores(ridge, X_train_prepared, y_train)"
   ]
  },
  {
   "cell_type": "code",
   "execution_count": null,
   "metadata": {},
   "outputs": [],
   "source": [
    "# Random Forest Regression - CV Model\n",
    "display_scores(forest_reg, X_train_prepared, y_train)"
   ]
  },
  {
   "cell_type": "code",
   "execution_count": null,
   "metadata": {},
   "outputs": [],
   "source": [
    "display_scores(grad_booreg, X_train_prepared, y_train)"
   ]
  },
  {
   "cell_type": "markdown",
   "metadata": {},
   "source": [
    "### Comparing the Train and Test scores"
   ]
  },
  {
   "cell_type": "code",
   "execution_count": null,
   "metadata": {},
   "outputs": [],
   "source": [
    "from sklearn.naive_bayes import GaussianNB\n",
    "from sklearn.svm import SVR\n",
    "from sklearn.model_selection import learning_curve\n",
    "from sklearn.model_selection import ShuffleSplit\n",
    "\n",
    "\n",
    "def plot_learning_curve(estimator, title, X, y, axes=None, ylim=None, cv=None,\n",
    "                        n_jobs=None, train_sizes=np.linspace(.1, 1.0, 5)):\n",
    "    \"\"\"\n",
    "    Generate 3 plots: the test and training learning curve, the training\n",
    "    samples vs fit times curve, the fit times vs score curve.\n",
    "\n",
    "    Parameters\n",
    "    ----------\n",
    "    estimator : estimator instance\n",
    "        An estimator instance implementing `fit` and `predict` methods which\n",
    "        will be cloned for each validation.\n",
    "\n",
    "    title : str\n",
    "        Title for the chart.\n",
    "\n",
    "    X : array-like of shape (n_samples, n_features)\n",
    "        Training vector, where ``n_samples`` is the number of samples and\n",
    "        ``n_features`` is the number of features.\n",
    "\n",
    "    y : array-like of shape (n_samples) or (n_samples, n_features)\n",
    "        Target relative to ``X`` for classification or regression;\n",
    "        None for unsupervised learning.\n",
    "\n",
    "    axes : array-like of shape (3,), default=None\n",
    "        Axes to use for plotting the curves.\n",
    "\n",
    "    ylim : tuple of shape (2,), default=None\n",
    "        Defines minimum and maximum y-values plotted, e.g. (ymin, ymax).\n",
    "\n",
    "    cv : int, cross-validation generator or an iterable, default=None\n",
    "        Determines the cross-validation splitting strategy.\n",
    "        Possible inputs for cv are:\n",
    "\n",
    "          - None, to use the default 5-fold cross-validation,\n",
    "          - integer, to specify the number of folds.\n",
    "          - :term:`CV splitter`,\n",
    "          - An iterable yielding (train, test) splits as arrays of indices.\n",
    "\n",
    "        For integer/None inputs, if ``y`` is binary or multiclass,\n",
    "        :class:`StratifiedKFold` used. If the estimator is not a classifier\n",
    "        or if ``y`` is neither binary nor multiclass, :class:`KFold` is used.\n",
    "\n",
    "        Refer :ref:`User Guide <cross_validation>` for the various\n",
    "        cross-validators that can be used here.\n",
    "\n",
    "    n_jobs : int or None, default=None\n",
    "        Number of jobs to run in parallel.\n",
    "        ``None`` means 1 unless in a :obj:`joblib.parallel_backend` context.\n",
    "        ``-1`` means using all processors. See :term:`Glossary <n_jobs>`\n",
    "        for more details.\n",
    "\n",
    "    train_sizes : array-like of shape (n_ticks,)\n",
    "        Relative or absolute numbers of training examples that will be used to\n",
    "        generate the learning curve. If the ``dtype`` is float, it is regarded\n",
    "        as a fraction of the maximum size of the training set (that is\n",
    "        determined by the selected validation method), i.e. it has to be within\n",
    "        (0, 1]. Otherwise it is interpreted as absolute sizes of the training\n",
    "        sets. Note that for classification the number of samples usually have\n",
    "        to be big enough to contain at least one sample from each class.\n",
    "        (default: np.linspace(0.1, 1.0, 5))\n",
    "    \"\"\"\n",
    "    if axes is None:\n",
    "        _, axes = plt.subplots(1, 3, figsize=(20, 5))\n",
    "\n",
    "    axes[0].set_title(title)\n",
    "    if ylim is not None:\n",
    "        axes[0].set_ylim(*ylim)\n",
    "    axes[0].set_xlabel(\"Training examples\")\n",
    "    axes[0].set_ylabel(\"Score\")\n",
    "\n",
    "    train_sizes, train_scores, test_scores, fit_times, _ = \\\n",
    "        learning_curve(estimator, X, y, cv=cv, n_jobs=n_jobs,\n",
    "                       train_sizes=train_sizes,\n",
    "                       return_times=True)\n",
    "    train_scores_mean = np.mean(train_scores, axis=1)\n",
    "    train_scores_std = np.std(train_scores, axis=1)\n",
    "    test_scores_mean = np.mean(test_scores, axis=1)\n",
    "    test_scores_std = np.std(test_scores, axis=1)\n",
    "    fit_times_mean = np.mean(fit_times, axis=1)\n",
    "    fit_times_std = np.std(fit_times, axis=1)\n",
    "\n",
    "    # Plot learning curve\n",
    "    axes[0].grid()\n",
    "    axes[0].fill_between(train_sizes, train_scores_mean - train_scores_std,\n",
    "                         train_scores_mean + train_scores_std, alpha=0.1,\n",
    "                         color=\"r\")\n",
    "    axes[0].fill_between(train_sizes, test_scores_mean - test_scores_std,\n",
    "                         test_scores_mean + test_scores_std, alpha=0.1,\n",
    "                         color=\"g\")\n",
    "    axes[0].plot(train_sizes, train_scores_mean, 'o-', color=\"r\",\n",
    "                 label=\"Training score\")\n",
    "    axes[0].plot(train_sizes, test_scores_mean, 'o-', color=\"g\",\n",
    "                 label=\"Cross-validation score\")\n",
    "    axes[0].legend(loc=\"best\")\n",
    "\n",
    "    # Plot n_samples vs fit_times\n",
    "    axes[1].grid()\n",
    "    axes[1].plot(train_sizes, fit_times_mean, 'o-')\n",
    "    axes[1].fill_between(train_sizes, fit_times_mean - fit_times_std,\n",
    "                         fit_times_mean + fit_times_std, alpha=0.1)\n",
    "    axes[1].set_xlabel(\"Training examples\")\n",
    "    axes[1].set_ylabel(\"fit_times\")\n",
    "    axes[1].set_title(\"Scalability of the model\")\n",
    "\n",
    "    # Plot fit_time vs score\n",
    "    axes[2].grid()\n",
    "    axes[2].plot(fit_times_mean, test_scores_mean, 'o-')\n",
    "    axes[2].fill_between(fit_times_mean, test_scores_mean - test_scores_std,\n",
    "                         test_scores_mean + test_scores_std, alpha=0.1)\n",
    "    axes[2].set_xlabel(\"fit_times\")\n",
    "    axes[2].set_ylabel(\"Score\")\n",
    "    axes[2].set_title(\"Performance of the model\")\n",
    "\n",
    "    return plt"
   ]
  },
  {
   "cell_type": "code",
   "execution_count": null,
   "metadata": {},
   "outputs": [],
   "source": [
    "cv = RepeatedKFold(n_splits=10, n_repeats=3, random_state=42)\n",
    "\n",
    "# Ridge Regression:\n",
    "title = r\"Learning Curves for Ridge Regression\"\n",
    "estimator = Ridge(alpha=0.1, normalize=True)\n",
    "plot_learning_curve(estimator, title, X_train_prepared, y_train, cv=cv, n_jobs=4)\n",
    "\n",
    "# Random Forest Regression:\n",
    "title = r\"Learning Curves for Random Forest Regression\"\n",
    "estimator = RandomForestRegressor()\n",
    "plot_learning_curve(estimator, title, X_train_prepared, y_train,cv=cv, n_jobs=4)\n",
    "\n",
    "# Gradient Boosting Regressor:\n",
    "title = r\"Learning Curves for Gradient Boosting Regressor\"\n",
    "estimaGradientBoostingRegressor= GradientBoostingRegressor()\n",
    "plot_learning_curve(estimator, title, X_train_prepared, y_train,cv=cv, n_jobs=4)\n",
    "\n",
    "plt.show()"
   ]
  },
  {
   "cell_type": "markdown",
   "metadata": {},
   "source": [
    "### Fine tunning the model"
   ]
  },
  {
   "cell_type": "code",
   "execution_count": null,
   "metadata": {},
   "outputs": [],
   "source": [
    "from sklearn.model_selection import GridSearchCV\n",
    "\n",
    "param_grid = [\n",
    "    {'n_estimators': [500], 'max_depth': [20]}\n",
    "  ]\n",
    "\n",
    "grad_booreg2 = RandomForestRegressor(random_state=42)\n",
    "\n",
    "grid_search = GridSearchCV(grad_booreg2, param_grid, cv=10,\n",
    "                           scoring='neg_mean_squared_error',\n",
    "                           return_train_score=True,\n",
    "                           n_jobs=-1)\n",
    "\n",
    "grid_search.fit(X_train_prepared, y_train)"
   ]
  },
  {
   "cell_type": "code",
   "execution_count": null,
   "metadata": {},
   "outputs": [],
   "source": [
    "grid_search.best_estimator_"
   ]
  },
  {
   "cell_type": "code",
   "execution_count": null,
   "metadata": {},
   "outputs": [],
   "source": [
    "y_pred = grid_search.predict(X_test_prepared)"
   ]
  },
  {
   "cell_type": "code",
   "execution_count": null,
   "metadata": {},
   "outputs": [],
   "source": [
    "mse = mean_squared_error(y_test,y_pred)"
   ]
  },
  {
   "cell_type": "code",
   "execution_count": null,
   "metadata": {},
   "outputs": [],
   "source": [
    "rmse = np.sqrt(mse)"
   ]
  },
  {
   "cell_type": "code",
   "execution_count": null,
   "metadata": {},
   "outputs": [],
   "source": [
    "rmse"
   ]
  }
 ],
 "metadata": {
  "kernelspec": {
   "display_name": "Python 3",
   "language": "python",
   "name": "python3"
  },
  "language_info": {
   "codemirror_mode": {
    "name": "ipython",
    "version": 3
   },
   "file_extension": ".py",
   "mimetype": "text/x-python",
   "name": "python",
   "nbconvert_exporter": "python",
   "pygments_lexer": "ipython3",
   "version": "3.8.5"
  }
 },
 "nbformat": 4,
 "nbformat_minor": 4
}
