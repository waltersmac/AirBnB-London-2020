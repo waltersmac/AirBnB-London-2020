{
 "cells": [
  {
   "cell_type": "markdown",
   "metadata": {},
   "source": [
    "## Importing the libraries"
   ]
  },
  {
   "cell_type": "code",
   "execution_count": 1,
   "metadata": {},
   "outputs": [],
   "source": [
    "import os\n",
    "import numpy as np\n",
    "import pandas as pd\n",
    "import matplotlib.pyplot as plt\n",
    "\n",
    "import seaborn as sns\n",
    "%matplotlib inline"
   ]
  },
  {
   "cell_type": "markdown",
   "metadata": {},
   "source": [
    "## Reading in the data files"
   ]
  },
  {
   "cell_type": "code",
   "execution_count": 2,
   "metadata": {},
   "outputs": [],
   "source": [
    "df_calendar = pd.read_csv('/Users/rwalters/Documents/Airbnb Data 2020/calendar.csv')\n",
    "df_listings = pd.read_csv('/Users/rwalters/Documents/Airbnb Data 2020/listings.csv', dtype='str')\n",
    "df_reviews = pd.read_csv('/Users/rwalters/Documents/Airbnb Data 2020/reviews.csv')"
   ]
  },
  {
   "cell_type": "markdown",
   "metadata": {},
   "source": [
    "## Exploring the datasets"
   ]
  },
  {
   "cell_type": "markdown",
   "metadata": {},
   "source": [
    "### Listings"
   ]
  },
  {
   "cell_type": "code",
   "execution_count": 3,
   "metadata": {},
   "outputs": [
    {
     "data": {
      "text/plain": [
       "(86358, 106)"
      ]
     },
     "execution_count": 3,
     "metadata": {},
     "output_type": "execute_result"
    }
   ],
   "source": [
    "df_listings.shape"
   ]
  },
  {
   "cell_type": "code",
   "execution_count": 31,
   "metadata": {},
   "outputs": [
    {
     "data": {
      "text/html": [
       "<div>\n",
       "<style scoped>\n",
       "    .dataframe tbody tr th:only-of-type {\n",
       "        vertical-align: middle;\n",
       "    }\n",
       "\n",
       "    .dataframe tbody tr th {\n",
       "        vertical-align: top;\n",
       "    }\n",
       "\n",
       "    .dataframe thead th {\n",
       "        text-align: right;\n",
       "    }\n",
       "</style>\n",
       "<table border=\"1\" class=\"dataframe\">\n",
       "  <thead>\n",
       "    <tr style=\"text-align: right;\">\n",
       "      <th></th>\n",
       "      <th>id</th>\n",
       "      <th>listing_url</th>\n",
       "      <th>scrape_id</th>\n",
       "      <th>last_scraped</th>\n",
       "      <th>name</th>\n",
       "      <th>summary</th>\n",
       "      <th>space</th>\n",
       "      <th>description</th>\n",
       "      <th>experiences_offered</th>\n",
       "      <th>neighborhood_overview</th>\n",
       "      <th>notes</th>\n",
       "      <th>transit</th>\n",
       "      <th>access</th>\n",
       "      <th>interaction</th>\n",
       "      <th>house_rules</th>\n",
       "      <th>thumbnail_url</th>\n",
       "      <th>medium_url</th>\n",
       "      <th>picture_url</th>\n",
       "      <th>xl_picture_url</th>\n",
       "      <th>host_id</th>\n",
       "      <th>host_url</th>\n",
       "      <th>host_name</th>\n",
       "      <th>host_since</th>\n",
       "      <th>host_location</th>\n",
       "      <th>host_about</th>\n",
       "      <th>host_response_time</th>\n",
       "      <th>host_response_rate</th>\n",
       "      <th>host_acceptance_rate</th>\n",
       "      <th>host_is_superhost</th>\n",
       "      <th>host_thumbnail_url</th>\n",
       "      <th>host_picture_url</th>\n",
       "      <th>host_neighbourhood</th>\n",
       "      <th>host_listings_count</th>\n",
       "      <th>host_total_listings_count</th>\n",
       "      <th>host_verifications</th>\n",
       "      <th>host_has_profile_pic</th>\n",
       "      <th>host_identity_verified</th>\n",
       "      <th>street</th>\n",
       "      <th>neighbourhood</th>\n",
       "      <th>neighbourhood_cleansed</th>\n",
       "      <th>neighbourhood_group_cleansed</th>\n",
       "      <th>city</th>\n",
       "      <th>state</th>\n",
       "      <th>zipcode</th>\n",
       "      <th>market</th>\n",
       "      <th>smart_location</th>\n",
       "      <th>country_code</th>\n",
       "      <th>country</th>\n",
       "      <th>latitude</th>\n",
       "      <th>longitude</th>\n",
       "      <th>is_location_exact</th>\n",
       "      <th>property_type</th>\n",
       "      <th>room_type</th>\n",
       "      <th>accommodates</th>\n",
       "      <th>bathrooms</th>\n",
       "      <th>bedrooms</th>\n",
       "      <th>beds</th>\n",
       "      <th>bed_type</th>\n",
       "      <th>amenities</th>\n",
       "      <th>square_feet</th>\n",
       "      <th>price</th>\n",
       "      <th>weekly_price</th>\n",
       "      <th>monthly_price</th>\n",
       "      <th>security_deposit</th>\n",
       "      <th>cleaning_fee</th>\n",
       "      <th>guests_included</th>\n",
       "      <th>extra_people</th>\n",
       "      <th>minimum_nights</th>\n",
       "      <th>maximum_nights</th>\n",
       "      <th>minimum_minimum_nights</th>\n",
       "      <th>maximum_minimum_nights</th>\n",
       "      <th>minimum_maximum_nights</th>\n",
       "      <th>maximum_maximum_nights</th>\n",
       "      <th>minimum_nights_avg_ntm</th>\n",
       "      <th>maximum_nights_avg_ntm</th>\n",
       "      <th>calendar_updated</th>\n",
       "      <th>has_availability</th>\n",
       "      <th>availability_30</th>\n",
       "      <th>availability_60</th>\n",
       "      <th>availability_90</th>\n",
       "      <th>availability_365</th>\n",
       "      <th>calendar_last_scraped</th>\n",
       "      <th>number_of_reviews</th>\n",
       "      <th>number_of_reviews_ltm</th>\n",
       "      <th>first_review</th>\n",
       "      <th>last_review</th>\n",
       "      <th>review_scores_rating</th>\n",
       "      <th>review_scores_accuracy</th>\n",
       "      <th>review_scores_cleanliness</th>\n",
       "      <th>review_scores_checkin</th>\n",
       "      <th>review_scores_communication</th>\n",
       "      <th>review_scores_location</th>\n",
       "      <th>review_scores_value</th>\n",
       "      <th>requires_license</th>\n",
       "      <th>license</th>\n",
       "      <th>jurisdiction_names</th>\n",
       "      <th>instant_bookable</th>\n",
       "      <th>is_business_travel_ready</th>\n",
       "      <th>cancellation_policy</th>\n",
       "      <th>require_guest_profile_picture</th>\n",
       "      <th>require_guest_phone_verification</th>\n",
       "      <th>calculated_host_listings_count</th>\n",
       "      <th>calculated_host_listings_count_entire_homes</th>\n",
       "      <th>calculated_host_listings_count_private_rooms</th>\n",
       "      <th>calculated_host_listings_count_shared_rooms</th>\n",
       "      <th>reviews_per_month</th>\n",
       "    </tr>\n",
       "  </thead>\n",
       "  <tbody>\n",
       "    <tr>\n",
       "      <th>0</th>\n",
       "      <td>13913</td>\n",
       "      <td>https://www.airbnb.com/rooms/13913</td>\n",
       "      <td>20200414180850</td>\n",
       "      <td>2020-04-16</td>\n",
       "      <td>Holiday London DB Room Let-on going</td>\n",
       "      <td>My bright double bedroom with a large window h...</td>\n",
       "      <td>Hello Everyone, I'm offering my lovely double ...</td>\n",
       "      <td>My bright double bedroom with a large window h...</td>\n",
       "      <td>business</td>\n",
       "      <td>Finsbury Park is a friendly melting pot commun...</td>\n",
       "      <td>For art lovers I can give guest my Tate Member...</td>\n",
       "      <td>The flat only a 10 minute walk to Finsbury Par...</td>\n",
       "      <td>Guest will have access to the self catering ki...</td>\n",
       "      <td>I like to have little chats with my guest over...</td>\n",
       "      <td>I'm an artist and have my artwork up on the wa...</td>\n",
       "      <td>NaN</td>\n",
       "      <td>NaN</td>\n",
       "      <td>https://a0.muscache.com/im/pictures/ffb507b7-9...</td>\n",
       "      <td>NaN</td>\n",
       "      <td>54730</td>\n",
       "      <td>https://www.airbnb.com/users/show/54730</td>\n",
       "      <td>Alina</td>\n",
       "      <td>2009-11-16</td>\n",
       "      <td>London, England, United Kingdom</td>\n",
       "      <td>I am a Multi-Media Visual Artist and Creative ...</td>\n",
       "      <td>within a few hours</td>\n",
       "      <td>71%</td>\n",
       "      <td>89%</td>\n",
       "      <td>f</td>\n",
       "      <td>https://a0.muscache.com/im/users/54730/profile...</td>\n",
       "      <td>https://a0.muscache.com/im/users/54730/profile...</td>\n",
       "      <td>LB of Islington</td>\n",
       "      <td>4</td>\n",
       "      <td>4</td>\n",
       "      <td>['email', 'phone', 'facebook', 'reviews', 'off...</td>\n",
       "      <td>t</td>\n",
       "      <td>t</td>\n",
       "      <td>Islington, Greater London, United Kingdom</td>\n",
       "      <td>LB of Islington</td>\n",
       "      <td>Islington</td>\n",
       "      <td>NaN</td>\n",
       "      <td>Islington</td>\n",
       "      <td>Greater London</td>\n",
       "      <td>N4 3</td>\n",
       "      <td>London</td>\n",
       "      <td>Islington, United Kingdom</td>\n",
       "      <td>GB</td>\n",
       "      <td>United Kingdom</td>\n",
       "      <td>51.56802</td>\n",
       "      <td>-0.11121</td>\n",
       "      <td>t</td>\n",
       "      <td>Apartment</td>\n",
       "      <td>Private room</td>\n",
       "      <td>2</td>\n",
       "      <td>1.0</td>\n",
       "      <td>1</td>\n",
       "      <td>0</td>\n",
       "      <td>Real Bed</td>\n",
       "      <td>{TV,\"Cable TV\",Wifi,Kitchen,\"Paid parking off ...</td>\n",
       "      <td>538</td>\n",
       "      <td>$65.00</td>\n",
       "      <td>$333.00</td>\n",
       "      <td>$1,176.00</td>\n",
       "      <td>$100.00</td>\n",
       "      <td>$15.00</td>\n",
       "      <td>1</td>\n",
       "      <td>$15.00</td>\n",
       "      <td>1</td>\n",
       "      <td>29</td>\n",
       "      <td>1</td>\n",
       "      <td>1</td>\n",
       "      <td>29</td>\n",
       "      <td>29</td>\n",
       "      <td>1.0</td>\n",
       "      <td>29.0</td>\n",
       "      <td>12 months ago</td>\n",
       "      <td>t</td>\n",
       "      <td>27</td>\n",
       "      <td>57</td>\n",
       "      <td>84</td>\n",
       "      <td>359</td>\n",
       "      <td>2020-04-16</td>\n",
       "      <td>21</td>\n",
       "      <td>7</td>\n",
       "      <td>2010-08-18</td>\n",
       "      <td>2020-02-22</td>\n",
       "      <td>97</td>\n",
       "      <td>10</td>\n",
       "      <td>10</td>\n",
       "      <td>10</td>\n",
       "      <td>10</td>\n",
       "      <td>9</td>\n",
       "      <td>9</td>\n",
       "      <td>f</td>\n",
       "      <td>NaN</td>\n",
       "      <td>NaN</td>\n",
       "      <td>f</td>\n",
       "      <td>f</td>\n",
       "      <td>moderate</td>\n",
       "      <td>f</td>\n",
       "      <td>f</td>\n",
       "      <td>2</td>\n",
       "      <td>1</td>\n",
       "      <td>1</td>\n",
       "      <td>0</td>\n",
       "      <td>0.18</td>\n",
       "    </tr>\n",
       "  </tbody>\n",
       "</table>\n",
       "</div>"
      ],
      "text/plain": [
       "      id                         listing_url       scrape_id last_scraped  \\\n",
       "0  13913  https://www.airbnb.com/rooms/13913  20200414180850   2020-04-16   \n",
       "\n",
       "                                  name  \\\n",
       "0  Holiday London DB Room Let-on going   \n",
       "\n",
       "                                             summary  \\\n",
       "0  My bright double bedroom with a large window h...   \n",
       "\n",
       "                                               space  \\\n",
       "0  Hello Everyone, I'm offering my lovely double ...   \n",
       "\n",
       "                                         description experiences_offered  \\\n",
       "0  My bright double bedroom with a large window h...            business   \n",
       "\n",
       "                               neighborhood_overview  \\\n",
       "0  Finsbury Park is a friendly melting pot commun...   \n",
       "\n",
       "                                               notes  \\\n",
       "0  For art lovers I can give guest my Tate Member...   \n",
       "\n",
       "                                             transit  \\\n",
       "0  The flat only a 10 minute walk to Finsbury Par...   \n",
       "\n",
       "                                              access  \\\n",
       "0  Guest will have access to the self catering ki...   \n",
       "\n",
       "                                         interaction  \\\n",
       "0  I like to have little chats with my guest over...   \n",
       "\n",
       "                                         house_rules thumbnail_url medium_url  \\\n",
       "0  I'm an artist and have my artwork up on the wa...           NaN        NaN   \n",
       "\n",
       "                                         picture_url xl_picture_url host_id  \\\n",
       "0  https://a0.muscache.com/im/pictures/ffb507b7-9...            NaN   54730   \n",
       "\n",
       "                                  host_url host_name  host_since  \\\n",
       "0  https://www.airbnb.com/users/show/54730     Alina  2009-11-16   \n",
       "\n",
       "                     host_location  \\\n",
       "0  London, England, United Kingdom   \n",
       "\n",
       "                                          host_about  host_response_time  \\\n",
       "0  I am a Multi-Media Visual Artist and Creative ...  within a few hours   \n",
       "\n",
       "  host_response_rate host_acceptance_rate host_is_superhost  \\\n",
       "0                71%                  89%                 f   \n",
       "\n",
       "                                  host_thumbnail_url  \\\n",
       "0  https://a0.muscache.com/im/users/54730/profile...   \n",
       "\n",
       "                                    host_picture_url host_neighbourhood  \\\n",
       "0  https://a0.muscache.com/im/users/54730/profile...    LB of Islington   \n",
       "\n",
       "  host_listings_count host_total_listings_count  \\\n",
       "0                   4                         4   \n",
       "\n",
       "                                  host_verifications host_has_profile_pic  \\\n",
       "0  ['email', 'phone', 'facebook', 'reviews', 'off...                    t   \n",
       "\n",
       "  host_identity_verified                                     street  \\\n",
       "0                      t  Islington, Greater London, United Kingdom   \n",
       "\n",
       "     neighbourhood neighbourhood_cleansed neighbourhood_group_cleansed  \\\n",
       "0  LB of Islington              Islington                          NaN   \n",
       "\n",
       "        city           state zipcode  market             smart_location  \\\n",
       "0  Islington  Greater London    N4 3  London  Islington, United Kingdom   \n",
       "\n",
       "  country_code         country  latitude longitude is_location_exact  \\\n",
       "0           GB  United Kingdom  51.56802  -0.11121                 t   \n",
       "\n",
       "  property_type     room_type accommodates bathrooms bedrooms beds  bed_type  \\\n",
       "0     Apartment  Private room            2       1.0        1    0  Real Bed   \n",
       "\n",
       "                                           amenities square_feet   price  \\\n",
       "0  {TV,\"Cable TV\",Wifi,Kitchen,\"Paid parking off ...         538  $65.00   \n",
       "\n",
       "  weekly_price monthly_price security_deposit cleaning_fee guests_included  \\\n",
       "0      $333.00     $1,176.00          $100.00       $15.00               1   \n",
       "\n",
       "  extra_people minimum_nights maximum_nights minimum_minimum_nights  \\\n",
       "0       $15.00              1             29                      1   \n",
       "\n",
       "  maximum_minimum_nights minimum_maximum_nights maximum_maximum_nights  \\\n",
       "0                      1                     29                     29   \n",
       "\n",
       "  minimum_nights_avg_ntm maximum_nights_avg_ntm calendar_updated  \\\n",
       "0                    1.0                   29.0    12 months ago   \n",
       "\n",
       "  has_availability availability_30 availability_60 availability_90  \\\n",
       "0                t              27              57              84   \n",
       "\n",
       "  availability_365 calendar_last_scraped number_of_reviews  \\\n",
       "0              359            2020-04-16                21   \n",
       "\n",
       "  number_of_reviews_ltm first_review last_review review_scores_rating  \\\n",
       "0                     7   2010-08-18  2020-02-22                   97   \n",
       "\n",
       "  review_scores_accuracy review_scores_cleanliness review_scores_checkin  \\\n",
       "0                     10                        10                    10   \n",
       "\n",
       "  review_scores_communication review_scores_location review_scores_value  \\\n",
       "0                          10                      9                   9   \n",
       "\n",
       "  requires_license license jurisdiction_names instant_bookable  \\\n",
       "0                f     NaN                NaN                f   \n",
       "\n",
       "  is_business_travel_ready cancellation_policy require_guest_profile_picture  \\\n",
       "0                        f            moderate                             f   \n",
       "\n",
       "  require_guest_phone_verification calculated_host_listings_count  \\\n",
       "0                                f                              2   \n",
       "\n",
       "  calculated_host_listings_count_entire_homes  \\\n",
       "0                                           1   \n",
       "\n",
       "  calculated_host_listings_count_private_rooms  \\\n",
       "0                                            1   \n",
       "\n",
       "  calculated_host_listings_count_shared_rooms reviews_per_month  \n",
       "0                                           0              0.18  "
      ]
     },
     "execution_count": 31,
     "metadata": {},
     "output_type": "execute_result"
    }
   ],
   "source": [
    "pd.set_option('display.max_columns', None)\n",
    "\n",
    "# show listings data sample\n",
    "df_listings.head(1)"
   ]
  },
  {
   "cell_type": "code",
   "execution_count": 33,
   "metadata": {},
   "outputs": [
    {
     "data": {
      "text/plain": [
       "id                                              object\n",
       "listing_url                                     object\n",
       "scrape_id                                       object\n",
       "last_scraped                                    object\n",
       "name                                            object\n",
       "summary                                         object\n",
       "space                                           object\n",
       "description                                     object\n",
       "experiences_offered                             object\n",
       "neighborhood_overview                           object\n",
       "notes                                           object\n",
       "transit                                         object\n",
       "access                                          object\n",
       "interaction                                     object\n",
       "house_rules                                     object\n",
       "thumbnail_url                                   object\n",
       "medium_url                                      object\n",
       "picture_url                                     object\n",
       "xl_picture_url                                  object\n",
       "host_id                                         object\n",
       "host_url                                        object\n",
       "host_name                                       object\n",
       "host_since                                      object\n",
       "host_location                                   object\n",
       "host_about                                      object\n",
       "host_response_time                              object\n",
       "host_response_rate                              object\n",
       "host_acceptance_rate                            object\n",
       "host_is_superhost                               object\n",
       "host_thumbnail_url                              object\n",
       "host_picture_url                                object\n",
       "host_neighbourhood                              object\n",
       "host_listings_count                             object\n",
       "host_total_listings_count                       object\n",
       "host_verifications                              object\n",
       "host_has_profile_pic                            object\n",
       "host_identity_verified                          object\n",
       "street                                          object\n",
       "neighbourhood                                   object\n",
       "neighbourhood_cleansed                          object\n",
       "neighbourhood_group_cleansed                    object\n",
       "city                                            object\n",
       "state                                           object\n",
       "zipcode                                         object\n",
       "market                                          object\n",
       "smart_location                                  object\n",
       "country_code                                    object\n",
       "country                                         object\n",
       "latitude                                        object\n",
       "longitude                                       object\n",
       "is_location_exact                               object\n",
       "property_type                                   object\n",
       "room_type                                       object\n",
       "accommodates                                    object\n",
       "bathrooms                                       object\n",
       "bedrooms                                        object\n",
       "beds                                            object\n",
       "bed_type                                        object\n",
       "amenities                                       object\n",
       "square_feet                                     object\n",
       "price                                           object\n",
       "weekly_price                                    object\n",
       "monthly_price                                   object\n",
       "security_deposit                                object\n",
       "cleaning_fee                                    object\n",
       "guests_included                                 object\n",
       "extra_people                                    object\n",
       "minimum_nights                                  object\n",
       "maximum_nights                                  object\n",
       "minimum_minimum_nights                          object\n",
       "maximum_minimum_nights                          object\n",
       "minimum_maximum_nights                          object\n",
       "maximum_maximum_nights                          object\n",
       "minimum_nights_avg_ntm                          object\n",
       "maximum_nights_avg_ntm                          object\n",
       "calendar_updated                                object\n",
       "has_availability                                object\n",
       "availability_30                                 object\n",
       "availability_60                                 object\n",
       "availability_90                                 object\n",
       "availability_365                                object\n",
       "calendar_last_scraped                           object\n",
       "number_of_reviews                               object\n",
       "number_of_reviews_ltm                           object\n",
       "first_review                                    object\n",
       "last_review                                     object\n",
       "review_scores_rating                            object\n",
       "review_scores_accuracy                          object\n",
       "review_scores_cleanliness                       object\n",
       "review_scores_checkin                           object\n",
       "review_scores_communication                     object\n",
       "review_scores_location                          object\n",
       "review_scores_value                             object\n",
       "requires_license                                object\n",
       "license                                         object\n",
       "jurisdiction_names                              object\n",
       "instant_bookable                                object\n",
       "is_business_travel_ready                        object\n",
       "cancellation_policy                             object\n",
       "require_guest_profile_picture                   object\n",
       "require_guest_phone_verification                object\n",
       "calculated_host_listings_count                  object\n",
       "calculated_host_listings_count_entire_homes     object\n",
       "calculated_host_listings_count_private_rooms    object\n",
       "calculated_host_listings_count_shared_rooms     object\n",
       "reviews_per_month                               object\n",
       "dtype: object"
      ]
     },
     "execution_count": 33,
     "metadata": {},
     "output_type": "execute_result"
    }
   ],
   "source": [
    "pd.set_option('display.max_rows', None)\n",
    "\n",
    "df_listings.dtypes"
   ]
  },
  {
   "cell_type": "code",
   "execution_count": 34,
   "metadata": {},
   "outputs": [
    {
     "data": {
      "text/plain": [
       "id                                                  0\n",
       "listing_url                                         0\n",
       "scrape_id                                           0\n",
       "last_scraped                                        0\n",
       "name                                               24\n",
       "summary                                          4903\n",
       "space                                           26300\n",
       "description                                      3035\n",
       "experiences_offered                                 0\n",
       "neighborhood_overview                           30684\n",
       "notes                                           53440\n",
       "transit                                         31380\n",
       "access                                          41180\n",
       "interaction                                     35701\n",
       "house_rules                                     36825\n",
       "thumbnail_url                                   86358\n",
       "medium_url                                      86358\n",
       "picture_url                                         0\n",
       "xl_picture_url                                  86358\n",
       "host_id                                             0\n",
       "host_url                                            0\n",
       "host_name                                          10\n",
       "host_since                                         10\n",
       "host_location                                     221\n",
       "host_about                                      36873\n",
       "host_response_time                              32885\n",
       "host_response_rate                              32885\n",
       "host_acceptance_rate                            21545\n",
       "host_is_superhost                                  10\n",
       "host_thumbnail_url                                 10\n",
       "host_picture_url                                   10\n",
       "host_neighbourhood                              19321\n",
       "host_listings_count                                10\n",
       "host_total_listings_count                          10\n",
       "host_verifications                                  0\n",
       "host_has_profile_pic                               10\n",
       "host_identity_verified                             10\n",
       "street                                              0\n",
       "neighbourhood                                       0\n",
       "neighbourhood_cleansed                              0\n",
       "neighbourhood_group_cleansed                    86358\n",
       "city                                              455\n",
       "state                                           15047\n",
       "zipcode                                          1941\n",
       "market                                            732\n",
       "smart_location                                      0\n",
       "country_code                                        0\n",
       "country                                             0\n",
       "latitude                                            0\n",
       "longitude                                           0\n",
       "is_location_exact                                   0\n",
       "property_type                                       0\n",
       "room_type                                           0\n",
       "accommodates                                        0\n",
       "bathrooms                                         132\n",
       "bedrooms                                          142\n",
       "beds                                              942\n",
       "bed_type                                            3\n",
       "amenities                                           0\n",
       "square_feet                                     85980\n",
       "price                                               0\n",
       "weekly_price                                    79867\n",
       "monthly_price                                   81732\n",
       "security_deposit                                29682\n",
       "cleaning_fee                                    21893\n",
       "guests_included                                     0\n",
       "extra_people                                        0\n",
       "minimum_nights                                      0\n",
       "maximum_nights                                      0\n",
       "minimum_minimum_nights                              0\n",
       "maximum_minimum_nights                              0\n",
       "minimum_maximum_nights                              0\n",
       "maximum_maximum_nights                              0\n",
       "minimum_nights_avg_ntm                              0\n",
       "maximum_nights_avg_ntm                              0\n",
       "calendar_updated                                    0\n",
       "has_availability                                    0\n",
       "availability_30                                     0\n",
       "availability_60                                     0\n",
       "availability_90                                     0\n",
       "availability_365                                    0\n",
       "calendar_last_scraped                               0\n",
       "number_of_reviews                                   0\n",
       "number_of_reviews_ltm                               0\n",
       "first_review                                    21516\n",
       "last_review                                     21516\n",
       "review_scores_rating                            23157\n",
       "review_scores_accuracy                          23218\n",
       "review_scores_cleanliness                       23208\n",
       "review_scores_checkin                           23267\n",
       "review_scores_communication                     23213\n",
       "review_scores_location                          23266\n",
       "review_scores_value                             23267\n",
       "requires_license                                    0\n",
       "license                                         86137\n",
       "jurisdiction_names                              86357\n",
       "instant_bookable                                    0\n",
       "is_business_travel_ready                            0\n",
       "cancellation_policy                                 0\n",
       "require_guest_profile_picture                       0\n",
       "require_guest_phone_verification                    0\n",
       "calculated_host_listings_count                      0\n",
       "calculated_host_listings_count_entire_homes         0\n",
       "calculated_host_listings_count_private_rooms        0\n",
       "calculated_host_listings_count_shared_rooms         0\n",
       "reviews_per_month                               21516\n",
       "dtype: int64"
      ]
     },
     "execution_count": 34,
     "metadata": {},
     "output_type": "execute_result"
    }
   ],
   "source": [
    "df_listings.isnull().sum()"
   ]
  },
  {
   "cell_type": "code",
   "execution_count": 35,
   "metadata": {},
   "outputs": [],
   "source": [
    "df_listings = df_listings.dropna(subset=[\"review_scores_rating\"])"
   ]
  },
  {
   "cell_type": "code",
   "execution_count": null,
   "metadata": {},
   "outputs": [],
   "source": [
    "def change_to_int(df):\n",
    "    return df.astype('int64')\n",
    "\n",
    "df_listings[\"id\"] = change_to_int(df_listings[\"id\"])\n",
    "df_listings[\"review_scores_rating\"] = change_to_int(df_listings[\"review_scores_rating\"])\n",
    "df_listings[\"scrape_id\"] = change_to_int(df_listings[\"scrape_id\"])\n",
    "df_listings[\"review_scores_rating\"] = change_to_int(df_listings[\"review_scores_rating\"])\n",
    "df_listings[\"review_scores_accuracy\"] = change_to_int(df_listings[\"review_scores_accuracy\"])\n",
    "df_listings[\"review_scores_cleanliness\"] = change_to_int(df_listings[\"review_scores_cleanliness\"])\n",
    "df_listings[\"review_scores_checkin\"] = change_to_int(df_listings[\"review_scores_checkin\"])\n",
    "df_listings[\"review_scores_communication\"] = change_to_int(df_listings[\"review_scores_communication\"])\n",
    "df_listings[\"review_scores_location\"] = change_to_int(df_listings[\"review_scores_location\"])\n",
    "df_listings[\"review_scores_rating\"] = change_to_int(df_listings[\"review_scores_value\"])\n"
   ]
  },
  {
   "cell_type": "code",
   "execution_count": null,
   "metadata": {},
   "outputs": [],
   "source": [
    "df_listings[\"review_scores_rating\"].values.min()"
   ]
  },
  {
   "cell_type": "markdown",
   "metadata": {},
   "source": [
    "### Reviews"
   ]
  },
  {
   "cell_type": "code",
   "execution_count": null,
   "metadata": {},
   "outputs": [],
   "source": [
    "df_reviews.shape"
   ]
  },
  {
   "cell_type": "code",
   "execution_count": null,
   "metadata": {},
   "outputs": [],
   "source": [
    "# show reviews data sample\n",
    "df_reviews.head()"
   ]
  },
  {
   "cell_type": "code",
   "execution_count": null,
   "metadata": {},
   "outputs": [],
   "source": [
    "df_reviews.isnull().sum()"
   ]
  },
  {
   "cell_type": "markdown",
   "metadata": {},
   "source": [
    "### Calendar"
   ]
  },
  {
   "cell_type": "code",
   "execution_count": null,
   "metadata": {},
   "outputs": [],
   "source": [
    "df_calendar.shape"
   ]
  },
  {
   "cell_type": "code",
   "execution_count": null,
   "metadata": {},
   "outputs": [],
   "source": [
    "# show calendar data sample\n",
    "df_calendar.head()"
   ]
  },
  {
   "cell_type": "code",
   "execution_count": null,
   "metadata": {},
   "outputs": [],
   "source": [
    "df_calendar.dtypes"
   ]
  },
  {
   "cell_type": "markdown",
   "metadata": {},
   "source": [
    "## The business questions"
   ]
  },
  {
   "cell_type": "markdown",
   "metadata": {},
   "source": [
    "**Question 1**\n",
    "\n",
    "- What types of holidays are people interested in? Classification?\n",
    "    - Can a recommendation be created from the reviews?"
   ]
  },
  {
   "cell_type": "markdown",
   "metadata": {},
   "source": [
    "**Question 2**\n",
    "- What features assist in obtaining a good review score? prefict the score, importance of the features, rank features"
   ]
  },
  {
   "cell_type": "markdown",
   "metadata": {},
   "source": [
    "**Question 3**\n",
    "- Is there a seasonal trend to the availability of accommodation?"
   ]
  },
  {
   "cell_type": "code",
   "execution_count": null,
   "metadata": {},
   "outputs": [],
   "source": [
    "df_calendar.isnull().sum()"
   ]
  },
  {
   "cell_type": "code",
   "execution_count": null,
   "metadata": {},
   "outputs": [],
   "source": [
    "df_calendar = df_calendar.fillna(0)"
   ]
  },
  {
   "cell_type": "code",
   "execution_count": null,
   "metadata": {},
   "outputs": [],
   "source": [
    "df_calendar.isnull().sum()"
   ]
  },
  {
   "cell_type": "code",
   "execution_count": null,
   "metadata": {},
   "outputs": [],
   "source": [
    "def change_to_float(df):\n",
    "    df = df.str.replace(',', '')\n",
    "    return df.str.replace('$', '').astype('float64')"
   ]
  },
  {
   "cell_type": "code",
   "execution_count": null,
   "metadata": {},
   "outputs": [],
   "source": [
    "def change_to_int(df):\n",
    "    return df.astype('int64')"
   ]
  },
  {
   "cell_type": "code",
   "execution_count": null,
   "metadata": {},
   "outputs": [],
   "source": [
    "df_calendar['price'] = change_to_float(df_calendar['price'])\n",
    "df_calendar['adjusted_price'] = change_to_float(df_calendar['adjusted_price'])"
   ]
  },
  {
   "cell_type": "code",
   "execution_count": null,
   "metadata": {},
   "outputs": [],
   "source": [
    "df_calendar['minimum_nights'] = change_to_int(df_calendar['minimum_nights'])\n",
    "df_calendar['maximum_nights'] = change_to_int(df_calendar['maximum_nights'])"
   ]
  },
  {
   "cell_type": "code",
   "execution_count": null,
   "metadata": {},
   "outputs": [],
   "source": [
    "df_calendar['date'] = df_calendar['date'].astype('datetime64[ns]')"
   ]
  },
  {
   "cell_type": "code",
   "execution_count": null,
   "metadata": {},
   "outputs": [],
   "source": [
    "df_calendar.dtypes"
   ]
  },
  {
   "cell_type": "code",
   "execution_count": null,
   "metadata": {},
   "outputs": [],
   "source": [
    "df_calendar.describe()"
   ]
  },
  {
   "cell_type": "code",
   "execution_count": null,
   "metadata": {},
   "outputs": [],
   "source": [
    "avg_price = df_calendar.groupby(\"date\").agg({'price': np.mean}).reset_index()"
   ]
  },
  {
   "cell_type": "code",
   "execution_count": null,
   "metadata": {},
   "outputs": [],
   "source": [
    "plt.plot_date(avg_price['date'], avg_price['price'])\n",
    "plt.show()"
   ]
  },
  {
   "cell_type": "markdown",
   "metadata": {},
   "source": [
    "**Question 4**\n",
    "- What is the average price for the different location? what would affect this price? rank features by importance"
   ]
  },
  {
   "cell_type": "code",
   "execution_count": null,
   "metadata": {},
   "outputs": [],
   "source": []
  },
  {
   "cell_type": "markdown",
   "metadata": {},
   "source": [
    "**Question 5**\n",
    "- What type of accommodation is most popular? i.e. number of rooms availble"
   ]
  },
  {
   "cell_type": "markdown",
   "metadata": {},
   "source": [
    "Airbnb current challanges? "
   ]
  },
  {
   "cell_type": "code",
   "execution_count": null,
   "metadata": {},
   "outputs": [],
   "source": []
  }
 ],
 "metadata": {
  "kernelspec": {
   "display_name": "Python 3",
   "language": "python",
   "name": "python3"
  },
  "language_info": {
   "codemirror_mode": {
    "name": "ipython",
    "version": 3
   },
   "file_extension": ".py",
   "mimetype": "text/x-python",
   "name": "python",
   "nbconvert_exporter": "python",
   "pygments_lexer": "ipython3",
   "version": "3.6.10"
  }
 },
 "nbformat": 4,
 "nbformat_minor": 2
}
